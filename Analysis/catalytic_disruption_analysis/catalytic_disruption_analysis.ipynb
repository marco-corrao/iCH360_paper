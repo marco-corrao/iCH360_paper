{
 "cells": [
  {
   "cell_type": "markdown",
   "metadata": {},
   "source": [
    "# Catalytic disruption analysis\n",
    "In this script, we assess the extent to which functional annotation of catalytic edges in the *i*CH360 knowledge graph can enhance phenotypic predictions. To this end, we focus on exploring the *in silico* knockout of all genes associated to model essential reactions (i.e. reactions required to produce biomass in the model). We use the knowledge graph to classify the qualitative outcome of each knockout, in terms of the catalytic disruption it causes. Finally, we compare this *in silico* predicted classes with experimental measurements of the mutant fitness (relative to WT) using the databse of mutant fitness data from [1]:\n",
    "\n",
    "1. Price, M. N. et al. Mutant phenotypes for thousands of bacterial genes of unknown function. Nature 557, 503–509 (2018)."
   ]
  },
  {
   "cell_type": "markdown",
   "metadata": {},
   "source": [
    "## Imports"
   ]
  },
  {
   "cell_type": "code",
   "execution_count": 7,
   "metadata": {},
   "outputs": [
    {
     "data": {
      "text/plain": [
       "<module 'graph_utils' from 'c:\\\\Users\\\\marco\\\\repos\\\\ich360_manuscript\\\\Analysis\\\\catalytic_disruption_analysis\\\\../../utils\\\\graph_utils.py'>"
      ]
     },
     "execution_count": 7,
     "metadata": {},
     "output_type": "execute_result"
    }
   ],
   "source": [
    "import networkx as nx\n",
    "import pandas as pd\n",
    "from functools import reduce\n",
    "from pyvis.network import Network\n",
    "import sys\n",
    "import cobra\n",
    "sys.path.append('../../utils')\n",
    "import graph_utils\n",
    "import importlib\n",
    "import re\n",
    "importlib.reload(graph_utils)"
   ]
  },
  {
   "cell_type": "markdown",
   "metadata": {},
   "source": [
    "## Load stoichiometric model and knowledge graph"
   ]
  },
  {
   "cell_type": "code",
   "execution_count": 8,
   "metadata": {},
   "outputs": [
    {
     "name": "stderr",
     "output_type": "stream",
     "text": [
      "'' is not a valid SBML 'SId'.\n"
     ]
    }
   ],
   "source": [
    "model=cobra.io.read_sbml_model('../../Model/iCH360/Escherichia_coli_iCH360.xml')\n",
    "graph=nx.read_gml('../../Knowledge_graph/ich360_graph.gml')"
   ]
  },
  {
   "cell_type": "markdown",
   "metadata": {},
   "source": [
    "## Some useful functions"
   ]
  },
  {
   "cell_type": "code",
   "execution_count": 9,
   "metadata": {},
   "outputs": [],
   "source": [
    "def is_essential(model,r_id,carbon_source='glc__D',condition='aerobic',tr=0.05):\n",
    "    \"\"\"\n",
    "    Determines whether a reaction is essential for a given growth condition (carbon source + oxygen availability)\n",
    "    \"\"\"\n",
    "    with model as m:\n",
    "        #Set carbon source\n",
    "        m.reactions.get_by_id(f'EX_{carbon_source}_e').lower_bound=-10\n",
    "        #Set condition\n",
    "        if condition=='aerobic':\n",
    "            m.reactions.get_by_id('EX_o2_e').lower_bound=-1000\n",
    "        elif condition=='anaerobic':\n",
    "            m.reactions.get_by_id('EX_o2_e').lower_bound=0\n",
    "        else:\n",
    "            raise ValueError('condition must be either aerobic or anaerobic')\n",
    "        if r_id not in model.reactions:\n",
    "            print(f'{r_id} not in model')\n",
    "            return False\n",
    "        m.reactions.get_by_id(r_id).knock_out()\n",
    "        sol=model.optimize()\n",
    "        if sol.status=='infeasible':\n",
    "            return True\n",
    "        elif sol.objective_value<tr:\n",
    "            return True\n",
    "        else:\n",
    "            return False\n",
    "        \n",
    "def is_spontaneous(reaction):\n",
    "    \"\"\"\n",
    "    flags spontaneous (non-enzymatic) reactions\n",
    "    \"\"\"\n",
    "    if 's0001' in model.reactions.get_by_id(reaction).gene_reaction_rule:\n",
    "        return True\n",
    "    else:\n",
    "        return False"
   ]
  },
  {
   "cell_type": "markdown",
   "metadata": {},
   "source": [
    "## Classifying disruption outcomes arising from single gene KOs in the network"
   ]
  },
  {
   "cell_type": "code",
   "execution_count": 10,
   "metadata": {},
   "outputs": [],
   "source": [
    "%%capture\n",
    "#enumerate all enzymes in the graph\n",
    "enzyme_nodes=graph_utils.compute_catalytic_nodes(graph)\n",
    "#enumerate all genes\n",
    "gene_nodes=[node for node in graph.nodes if graph.nodes[node]['type']=='gene']\n",
    "#For each enzyme, pool all genes that are associated to it\n",
    "enzyme_gene_map={node:graph_utils.genes_in_gpr(graph_utils.compute_node_gpr(graph,node)) for node in enzyme_nodes}\n",
    "carbon_sources=['glc__D','fru','lac__D','pyr','succ','ac','glyc','rib__D','xyl__D']\n",
    "essential_reactions={carbon_source:[r.id for r in model.reactions if is_essential(model,r.id,carbon_source=carbon_source)] \n",
    "                      for carbon_source in carbon_sources}\n"
   ]
  },
  {
   "cell_type": "markdown",
   "metadata": {},
   "source": [
    "Loop across coditions. For each conditions, loop across genes in the graph and, if a gene is associated with an essential reaction, assess the effect of its knockout in terms of catalytic dsruption."
   ]
  },
  {
   "cell_type": "code",
   "execution_count": 15,
   "metadata": {},
   "outputs": [],
   "source": [
    "%%capture\n",
    "import tqdm\n",
    "reaction_nodes=[node for node in graph.nodes if graph.nodes[node]['type']=='reaction']\n",
    "\n",
    "all_dfs=[]\n",
    "for carbon_source in tqdm.tqdm(carbon_sources):\n",
    "    ko_df=pd.DataFrame(columns=['carbon_source',\n",
    "                            'primary_catalysis_loss',\n",
    "                            'secondary_catalysis_loss',\n",
    "                            'complete_primary',\n",
    "                            'complete'\n",
    "                            ])\n",
    "    for gene in (gene_nodes):\n",
    "        enzymes_for_this_gene=list(set([enzyme for enzyme in enzyme_gene_map.keys() if gene in enzyme_gene_map[enzyme]]))\n",
    "        if len(enzymes_for_this_gene)==0:\n",
    "            continue\n",
    "        temp_graph=graph.copy()\n",
    "        #Which reactions are disrupted by KO of this gene?\n",
    "        disrupted_reactions=reduce(lambda x,y: x+y,[list(temp_graph.predecessors(enzyme)) for enzyme in enzymes_for_this_gene])\n",
    "        #Remove from the graph the enzymes for which the gene is required \n",
    "        temp_graph.remove_nodes_from(enzymes_for_this_gene)\n",
    "\n",
    "        #Initialise counters\n",
    "        primary_catalysis_loss=0\n",
    "        secondary_catalysis_loss=0\n",
    "        ko_df.loc[gene,'carbon_source']=carbon_source\n",
    "        ko_df.loc[gene,'complete_primary']=False\n",
    "        ko_df.loc[gene,'complete']=False\n",
    "\n",
    "\n",
    "        for reaction in disrupted_reactions:\n",
    "            #If the reaction is not essential for this condition, or is spontaneous, skip\n",
    "            if reaction.replace('bigg:','') not in essential_reactions[carbon_source] \\\n",
    "                or \\\n",
    "            is_spontaneous(reaction.replace('bigg:','')):\n",
    "               continue\n",
    "            #Else, assess the disruption causes\n",
    "            #Edges types for this reaction prior to KO\n",
    "            init_edge_types=[graph.edges[edge]['subtype'] for edge in graph.edges(reaction)]\n",
    "            #Edges types for this reaction after KO\n",
    "            final_edges_types=[temp_graph.edges[edge]['subtype'] for edge in temp_graph.edges(reaction)]\n",
    "            #Counting losses\n",
    "            lost_primary_catalysis=init_edge_types.count('primary')-final_edges_types.count('primary')\n",
    "            primary_catalysis_loss+=lost_primary_catalysis\n",
    "            lost_secondary_catalysis=init_edge_types.count('secondary')-final_edges_types.count('secondary')\n",
    "            secondary_catalysis_loss+=lost_secondary_catalysis\n",
    "\n",
    "\n",
    "            remaining_primary=final_edges_types.count('primary')\n",
    "            remaining_overall=len(final_edges_types)\n",
    "            #Did any reaction lost all its primary catalytic edges?\n",
    "            if remaining_primary==0:\n",
    "                ko_df.loc[gene,'complete_primary']=True\n",
    "\n",
    "            #Did any reaction lost all of its catalytic edges\n",
    "            if remaining_overall==0:\n",
    "                ko_df.loc[gene,'complete']=True\n",
    "\n",
    "        ko_df.loc[gene,'primary_catalysis_loss']=primary_catalysis_loss\n",
    "        ko_df.loc[gene,'secondary_catalysis_loss']=secondary_catalysis_loss\n",
    "    all_dfs.append(ko_df.reset_index().rename(columns={'index':'gene'}))\n",
    "    \n",
    "ko_df=pd.concat(all_dfs,axis=0)\n",
    "\n",
    "ko_df.head()"
   ]
  },
  {
   "cell_type": "markdown",
   "metadata": {},
   "source": [
    "Now classify overall disruption outcome as one of:\n",
    "- complete disruption (all catalytic edges lost by a reaction)\n",
    "- primary full disruption (all primary catalys edges lost by a reaction, but secondary remaining)\n",
    "- primary partial disruption (some, but not all primary edges have been disrupted)\n",
    "- secondary disruption (only secondary edges affected)\n",
    "If multiple reactions are affected by a KO in different way, we take the overall disruption to be the one expected to be \"most disruptive\" among them, using the above order of precedence (from most to least disruptive)"
   ]
  },
  {
   "cell_type": "code",
   "execution_count": 23,
   "metadata": {},
   "outputs": [],
   "source": [
    "#Overall disruptions======================\n",
    "overall_disruption_df=ko_df.copy().drop(columns=['complete','complete_primary'])\n",
    "\n",
    "#Overall disruption is complete if KO caused at least one complete disruption\n",
    "overall_disruption_df.loc[ko_df['complete'],'overall_disruption']='complete'\n",
    "#Overall disruption is complete primary if KO caused complete primary, but not complete disruption\n",
    "overall_disruption_df.loc[(ko_df['complete_primary'])&(~ko_df['complete']),'overall_disruption']='primary_full'\n",
    "#Overall disruption is partial primary if KO caused loss of some primary edges, but no reaction was flagged as having lost all its primary edges\n",
    "overall_disruption_df.loc[(~ko_df['complete_primary'])&(ko_df['primary_catalysis_loss']>0),'overall_disruption']='primary_partial'\n",
    "#Overall disruption is secondary if it casued no primary loss, but some secondary loss\n",
    "overall_disruption_df.loc[(ko_df['primary_catalysis_loss']==0)&\n",
    "                          (ko_df['secondary_catalysis_loss']>0),'overall_disruption']='secondary'\n",
    "overall_disruption_df.set_index(['gene','carbon_source'],inplace=True)"
   ]
  },
  {
   "cell_type": "code",
   "execution_count": 24,
   "metadata": {},
   "outputs": [
    {
     "data": {
      "text/html": [
       "<div>\n",
       "<style scoped>\n",
       "    .dataframe tbody tr th:only-of-type {\n",
       "        vertical-align: middle;\n",
       "    }\n",
       "\n",
       "    .dataframe tbody tr th {\n",
       "        vertical-align: top;\n",
       "    }\n",
       "\n",
       "    .dataframe thead th {\n",
       "        text-align: right;\n",
       "    }\n",
       "</style>\n",
       "<table border=\"1\" class=\"dataframe\">\n",
       "  <thead>\n",
       "    <tr style=\"text-align: right;\">\n",
       "      <th></th>\n",
       "      <th></th>\n",
       "      <th>primary_catalysis_loss</th>\n",
       "      <th>secondary_catalysis_loss</th>\n",
       "      <th>overall_disruption</th>\n",
       "    </tr>\n",
       "    <tr>\n",
       "      <th>gene</th>\n",
       "      <th>carbon_source</th>\n",
       "      <th></th>\n",
       "      <th></th>\n",
       "      <th></th>\n",
       "    </tr>\n",
       "  </thead>\n",
       "  <tbody>\n",
       "    <tr>\n",
       "      <th>b0474</th>\n",
       "      <th>glc__D</th>\n",
       "      <td>1</td>\n",
       "      <td>7</td>\n",
       "      <td>complete</td>\n",
       "    </tr>\n",
       "    <tr>\n",
       "      <th>b2518</th>\n",
       "      <th>glc__D</th>\n",
       "      <td>7</td>\n",
       "      <td>0</td>\n",
       "      <td>primary_full</td>\n",
       "    </tr>\n",
       "    <tr>\n",
       "      <th>b3281</th>\n",
       "      <th>glc__D</th>\n",
       "      <td>1</td>\n",
       "      <td>0</td>\n",
       "      <td>primary_full</td>\n",
       "    </tr>\n",
       "    <tr>\n",
       "      <th>b1062</th>\n",
       "      <th>glc__D</th>\n",
       "      <td>1</td>\n",
       "      <td>0</td>\n",
       "      <td>complete</td>\n",
       "    </tr>\n",
       "    <tr>\n",
       "      <th>b1281</th>\n",
       "      <th>glc__D</th>\n",
       "      <td>1</td>\n",
       "      <td>0</td>\n",
       "      <td>complete</td>\n",
       "    </tr>\n",
       "  </tbody>\n",
       "</table>\n",
       "</div>"
      ],
      "text/plain": [
       "                    primary_catalysis_loss secondary_catalysis_loss  \\\n",
       "gene  carbon_source                                                   \n",
       "b0474 glc__D                             1                        7   \n",
       "b2518 glc__D                             7                        0   \n",
       "b3281 glc__D                             1                        0   \n",
       "b1062 glc__D                             1                        0   \n",
       "b1281 glc__D                             1                        0   \n",
       "\n",
       "                    overall_disruption  \n",
       "gene  carbon_source                     \n",
       "b0474 glc__D                  complete  \n",
       "b2518 glc__D              primary_full  \n",
       "b3281 glc__D              primary_full  \n",
       "b1062 glc__D                  complete  \n",
       "b1281 glc__D                  complete  "
      ]
     },
     "execution_count": 24,
     "metadata": {},
     "output_type": "execute_result"
    }
   ],
   "source": [
    "overall_disruption_df.head()"
   ]
  },
  {
   "cell_type": "markdown",
   "metadata": {},
   "source": [
    "## Validation against experimental mutatant fitness data"
   ]
  },
  {
   "cell_type": "code",
   "execution_count": 26,
   "metadata": {},
   "outputs": [
    {
     "data": {
      "text/html": [
       "<div>\n",
       "<style scoped>\n",
       "    .dataframe tbody tr th:only-of-type {\n",
       "        vertical-align: middle;\n",
       "    }\n",
       "\n",
       "    .dataframe tbody tr th {\n",
       "        vertical-align: top;\n",
       "    }\n",
       "\n",
       "    .dataframe thead th {\n",
       "        text-align: right;\n",
       "    }\n",
       "</style>\n",
       "<table border=\"1\" class=\"dataframe\">\n",
       "  <thead>\n",
       "    <tr style=\"text-align: right;\">\n",
       "      <th></th>\n",
       "      <th>experiment</th>\n",
       "      <th>carbon_source</th>\n",
       "    </tr>\n",
       "  </thead>\n",
       "  <tbody>\n",
       "    <tr>\n",
       "      <th>0</th>\n",
       "      <td>set1IT003</td>\n",
       "      <td>glc__D</td>\n",
       "    </tr>\n",
       "    <tr>\n",
       "      <th>1</th>\n",
       "      <td>set1IT004</td>\n",
       "      <td>glc__D</td>\n",
       "    </tr>\n",
       "    <tr>\n",
       "      <th>2</th>\n",
       "      <td>set2IT094</td>\n",
       "      <td>glc__D</td>\n",
       "    </tr>\n",
       "    <tr>\n",
       "      <th>3</th>\n",
       "      <td>set2IT096</td>\n",
       "      <td>glc__D</td>\n",
       "    </tr>\n",
       "    <tr>\n",
       "      <th>4</th>\n",
       "      <td>set1IT005</td>\n",
       "      <td>fru</td>\n",
       "    </tr>\n",
       "  </tbody>\n",
       "</table>\n",
       "</div>"
      ],
      "text/plain": [
       "  experiment carbon_source\n",
       "0  set1IT003        glc__D\n",
       "1  set1IT004        glc__D\n",
       "2  set2IT094        glc__D\n",
       "3  set2IT096        glc__D\n",
       "4  set1IT005           fru"
      ]
     },
     "execution_count": 26,
     "metadata": {},
     "output_type": "execute_result"
    }
   ],
   "source": [
    "#Read fitness data from price et.al 2018\n",
    "fitness_data=pd.read_csv('./mutant_fitness_data/fit_organism_Keio.tsv',sep='\\t',index_col='sysName')\n",
    "#read metadata mapping each experiments to carbon sources in the model\n",
    "experiment_carbon_source_map=pd.read_csv('./mutant_fitness_data/experiment_cabon_source_map.csv')\n",
    "conditions=experiment_carbon_source_map['experiment']\n",
    "experiment_carbon_source_map.head()"
   ]
  },
  {
   "cell_type": "markdown",
   "metadata": {},
   "source": [
    "Parse the experimental data and mapped it to the classification of catalytic disruption we performed before"
   ]
  },
  {
   "cell_type": "code",
   "execution_count": 27,
   "metadata": {},
   "outputs": [
    {
     "data": {
      "text/html": [
       "<div>\n",
       "<style scoped>\n",
       "    .dataframe tbody tr th:only-of-type {\n",
       "        vertical-align: middle;\n",
       "    }\n",
       "\n",
       "    .dataframe tbody tr th {\n",
       "        vertical-align: top;\n",
       "    }\n",
       "\n",
       "    .dataframe thead th {\n",
       "        text-align: right;\n",
       "    }\n",
       "</style>\n",
       "<table border=\"1\" class=\"dataframe\">\n",
       "  <thead>\n",
       "    <tr style=\"text-align: right;\">\n",
       "      <th></th>\n",
       "      <th></th>\n",
       "      <th>fitness</th>\n",
       "      <th>carbon_source</th>\n",
       "      <th>overall_disruption</th>\n",
       "    </tr>\n",
       "    <tr>\n",
       "      <th>gene</th>\n",
       "      <th>experiment</th>\n",
       "      <th></th>\n",
       "      <th></th>\n",
       "      <th></th>\n",
       "    </tr>\n",
       "  </thead>\n",
       "  <tbody>\n",
       "    <tr>\n",
       "      <th>b0002</th>\n",
       "      <th>set1IT003</th>\n",
       "      <td>-3.459</td>\n",
       "      <td>glc__D</td>\n",
       "      <td>primary_full</td>\n",
       "    </tr>\n",
       "    <tr>\n",
       "      <th>b0003</th>\n",
       "      <th>set1IT003</th>\n",
       "      <td>-2.971</td>\n",
       "      <td>glc__D</td>\n",
       "      <td>complete</td>\n",
       "    </tr>\n",
       "  </tbody>\n",
       "</table>\n",
       "</div>"
      ],
      "text/plain": [
       "                  fitness carbon_source overall_disruption\n",
       "gene  experiment                                          \n",
       "b0002 set1IT003    -3.459        glc__D       primary_full\n",
       "b0003 set1IT003    -2.971        glc__D           complete"
      ]
     },
     "execution_count": 27,
     "metadata": {},
     "output_type": "execute_result"
    }
   ],
   "source": [
    "fitness_data.columns=[re.sub(' [a-z()A-Z-\\d]*','',c) for c in fitness_data.columns]\n",
    "fitness_data=fitness_data.loc[:,conditions]\n",
    "fitness_data=fitness_data.dropna()\n",
    "fitness_data.reset_index(inplace=True,names='gene')\n",
    "fitness_data=fitness_data.melt(id_vars='gene',var_name='experiment',value_name='fitness')\n",
    "fitness_data['carbon_source']=fitness_data['experiment'].map(experiment_carbon_source_map.set_index('experiment')['carbon_source'])\n",
    "\n",
    "for i,row in fitness_data.iterrows():\n",
    "    gene=row['gene']\n",
    "    carbon_source=row['carbon_source']\n",
    "    if (gene,carbon_source) in overall_disruption_df.index:\n",
    "        fitness_data.loc[i,'overall_disruption']=overall_disruption_df.loc[(gene,carbon_source),'overall_disruption'] \n",
    "    else:\n",
    "        fitness_data.loc[i,'overall_disruption']=pd.NA\n",
    "fitness_data=fitness_data.dropna()\n",
    "fitness_data.set_index(['gene','experiment'],inplace=True)\n",
    "fitness_data.head(2)"
   ]
  },
  {
   "cell_type": "code",
   "execution_count": 11,
   "metadata": {},
   "outputs": [
    {
     "name": "stderr",
     "output_type": "stream",
     "text": [
      "C:\\Users\\marco\\AppData\\Local\\Temp\\ipykernel_82952\\2625274586.py:1: FutureWarning: The default value of numeric_only in DataFrameGroupBy.mean is deprecated. In a future version, numeric_only will default to False. Either specify numeric_only or select only columns which should be valid for the function.\n",
      "  validation_df=fitness_data.groupby(['gene','carbon_source']).mean()\n"
     ]
    }
   ],
   "source": [
    "#average across replicate for the same gene-condition pair\n",
    "validation_df=fitness_data.groupby(['gene','carbon_source']).mean()\n",
    "validation_df['overall_disruption']=overall_disruption_df.loc[validation_df.index,'overall_disruption']"
   ]
  },
  {
   "cell_type": "markdown",
   "metadata": {},
   "source": [
    "We exclude the following genes from the analysis:\n",
    "- b2903,b2904, b2905: components of the Glycine cleavege system. This is a known false essential reaction in iCH360.\n",
    "- b4005. This is required for thioredoxin regeneration. In iCH360 a number of alternative reactions using glutaredozxin instead of thioredoxin as an electron donor are not included, making thioredoxin regeneration essential in the model, but not in practice\n"
   ]
  },
  {
   "cell_type": "code",
   "execution_count": 12,
   "metadata": {},
   "outputs": [],
   "source": [
    "genes_to_remove=['b2903','b2904','b2905','b0888']\n",
    "validation_df=validation_df.query(\"gene not in @genes_to_remove\")"
   ]
  },
  {
   "cell_type": "markdown",
   "metadata": {},
   "source": [
    "## Export data for plotting (see `../Manuscript_Figures/notebooks/annotation_and_graph.Rmd`)\n"
   ]
  },
  {
   "cell_type": "code",
   "execution_count": 13,
   "metadata": {},
   "outputs": [],
   "source": [
    "validation_df.to_csv(\"out/catalytic_disruption_analysis_post_processed_results.csv\")"
   ]
  }
 ],
 "metadata": {
  "kernelspec": {
   "display_name": "kinetic_data",
   "language": "python",
   "name": "python3"
  },
  "language_info": {
   "codemirror_mode": {
    "name": "ipython",
    "version": 3
   },
   "file_extension": ".py",
   "mimetype": "text/x-python",
   "name": "python",
   "nbconvert_exporter": "python",
   "pygments_lexer": "ipython3",
   "version": "3.10.9"
  }
 },
 "nbformat": 4,
 "nbformat_minor": 2
}
