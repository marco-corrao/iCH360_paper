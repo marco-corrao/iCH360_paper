{
 "cells": [
  {
   "cell_type": "markdown",
   "metadata": {},
   "source": [
    "# Examples of unrealistic behaviours in iML1515\n",
    "This notebook collates a set of unrealistic metabolic behaviours that can occur when applying simple stoichiometric analyses, such as FBA, on large metabolic networks with many degrees of freedom. As an example, the genome-scale parent of iCH360, iML1515, is used. We stress that these behaviour are not the result of errors in the large model. Rather, they are a result of the simple constraints imposed by methods such as FBA, which cannot account for important factors such as thermodynamics, enzyme demand, regulatory effects, and others."
   ]
  },
  {
   "cell_type": "code",
   "execution_count": 8,
   "metadata": {},
   "outputs": [],
   "source": [
    "import cobra\n",
    "from cobra.flux_analysis import pfba\n",
    "import sys\n",
    "sys.path.append('../../utils')\n",
    "import model_assembly_utils\n",
    "import visualisation_utils\n",
    "\n",
    "\n",
    "# importing package \n",
    "import matplotlib.pyplot as plt \n",
    "import numpy as np \n",
    "  \n"
   ]
  },
  {
   "cell_type": "code",
   "execution_count": 9,
   "metadata": {},
   "outputs": [],
   "source": [
    "\n",
    "iml1515=cobra.io.read_sbml_model('../../Manuscript_Figures/data/metabolic_models/iML1515/iML1515.xml')\n",
    "ich360=cobra.io.read_sbml_model('../../Model/iCH360/Escherichia_coli_iCH360.xml')"
   ]
  },
  {
   "cell_type": "markdown",
   "metadata": {},
   "source": [
    "## Fatty acids production\n",
    "In the (p)FBA solution computed on iML1515 using glucose as a carbon source and growth as an objective, the canonical fatty acid production pathway in *E. Coli* is completely unused."
   ]
  },
  {
   "cell_type": "code",
   "execution_count": 10,
   "metadata": {},
   "outputs": [
    {
     "data": {
      "text/plain": [
       "ACCOAC     0.068257\n",
       "3HAD40     0.000000\n",
       "3OAR40     0.000000\n",
       "MCOATA     0.068255\n",
       "3OAS60     0.000000\n",
       "3OAR60     0.000000\n",
       "3HAD60     0.000000\n",
       "3OAS80     0.000000\n",
       "3OAR80     0.000000\n",
       "3HAD80     0.000000\n",
       "EAR40x     0.000000\n",
       "EAR60x     0.000000\n",
       "KAS15      0.000000\n",
       "EAR80x     0.000000\n",
       "3OAS100    0.000000\n",
       "3OAR100    0.000000\n",
       "3HAD100    0.000000\n",
       "EAR100x    0.000000\n",
       "3OAS120    0.000000\n",
       "3OAR120    0.000000\n",
       "3HAD120    0.000000\n",
       "EAR120x    0.000000\n",
       "3OAS160    0.000000\n",
       "3OAS140    0.068251\n",
       "3OAR140    0.068251\n",
       "3HAD140    0.000000\n",
       "EAR140x    0.000000\n",
       "3OAR160    0.000000\n",
       "3HAD160    0.000000\n",
       "EAR160x    0.000000\n",
       "EAR60y     0.000000\n",
       "EAR80y     0.000000\n",
       "KAS14      0.000000\n",
       "ACOATA     0.000000\n",
       "EAR100y    0.000000\n",
       "3OAS180    0.000000\n",
       "3OAR180    0.000000\n",
       "3HAD180    0.000000\n",
       "EAR180x    0.000000\n",
       "EAR180y    0.000000\n",
       "EAR160y    0.000000\n",
       "EAR140y    0.000000\n",
       "EAR120y    0.000000\n",
       "T2DECAI    0.000000\n",
       "3OAS121    0.000000\n",
       "3OAR121    0.000000\n",
       "3HAD121    0.000000\n",
       "EAR121x    0.000000\n",
       "3OAS141    0.000000\n",
       "3OAR141    0.000000\n",
       "3HAD141    0.000000\n",
       "EAR141x    0.000000\n",
       "3OAS161    0.000000\n",
       "3OAR161    0.000000\n",
       "3HAD161    0.000000\n",
       "EAR161x    0.000000\n",
       "3OAS181    0.000000\n",
       "3OAR181    0.000000\n",
       "3HAD181    0.000000\n",
       "EAR181x    0.000000\n",
       "Name: fluxes, dtype: float64"
      ]
     },
     "execution_count": 10,
     "metadata": {},
     "output_type": "execute_result"
    }
   ],
   "source": [
    "fatty_acids_reactions=model_assembly_utils.get_reactions_from_excher_map('../../Visualisation/pathway_maps/fatty_acids_biosynthesis.json')\n",
    "sol=pfba(iml1515)\n",
    "sol.fluxes.loc[fatty_acids_reactions]"
   ]
  },
  {
   "cell_type": "markdown",
   "metadata": {},
   "source": [
    "Instead, the genome-scale model is running beta oxidation in reverse"
   ]
  },
  {
   "cell_type": "code",
   "execution_count": 11,
   "metadata": {},
   "outputs": [],
   "source": [
    "visualisation_utils.flux2json(sol.fluxes, 'out/iML1515_glucose_aerobic_pfba.json' )\n",
    "# We visualised the exported solution on the iJO1366 fatty acids beta oxidation map available on Escher"
   ]
  },
  {
   "cell_type": "markdown",
   "metadata": {},
   "source": [
    "![alt text](images/iml1515_fatty_acids_production.png)"
   ]
  },
  {
   "cell_type": "markdown",
   "metadata": {},
   "source": [
    "# Pyruvate auxotrophs\n",
    "From an experimental point of view, few knockouts in central metabolism are typical sufficient to generate a pyruvate auxotroph strain. For example, in DOI 10.1038/s41467-018-04417-z , a triple KO maeA (b1479, ME1) maeB (b2463, ME2) pck (b3403, PPCK) was shown to result in pyruvate auxotrophy using acetate as the sole carbon source.\n",
    "\n",
    "Indeed, we see that this i the case in iCH360:"
   ]
  },
  {
   "cell_type": "code",
   "execution_count": 12,
   "metadata": {},
   "outputs": [
    {
     "name": "stdout",
     "output_type": "stream",
     "text": [
      "iCH360 DELTA(ME1,ME2,PPCK)\n",
      "{'without_pyruvate': 0.0, 'with_pyruvate': 0.5439169324613089}\n"
     ]
    }
   ],
   "source": [
    "iCH360_growth_rates={}\n",
    "with ich360 as m:\n",
    "    m.reactions.EX_glc__D_e.lower_bound=0\n",
    "    m.reactions.EX_ac_e.lower_bound=-10.0\n",
    "    for KO in ['ME1','ME2','PPCK']:\n",
    "        m.reactions.get_by_id(KO).knock_out()\n",
    "\n",
    "    sol_without_pyruvate=m.optimize()\n",
    "    iCH360_growth_rates['without_pyruvate']=sol_without_pyruvate.fluxes['Biomass']\n",
    "\n",
    "    m.reactions.EX_pyr_e.lower_bound=-10.0\n",
    "    sol_with_pyruvate=m.optimize()\n",
    "    iCH360_growth_rates['with_pyruvate']=sol_with_pyruvate.fluxes['Biomass']\n",
    "print(f'iCH360 ' +r'DELTA'+'(' + ','.join(['ME1','ME2','PPCK']) +')')\n",
    "print(iCH360_growth_rates)\n",
    "    "
   ]
  },
  {
   "cell_type": "markdown",
   "metadata": {},
   "source": [
    "However, iML1515 easily bypasses these KOs:"
   ]
  },
  {
   "cell_type": "code",
   "execution_count": 13,
   "metadata": {},
   "outputs": [
    {
     "name": "stdout",
     "output_type": "stream",
     "text": [
      "iML1515 DELTA(ME1,ME2,PPCK)\n",
      "{'without_pyruvate': 0.21009920466530313, 'with_pyruvate': 0.5499433531174456}\n"
     ]
    }
   ],
   "source": [
    "iml1515_growth_rates={}\n",
    "with iml1515 as m:\n",
    "    m.reactions.EX_glc__D_e.lower_bound=0\n",
    "    m.reactions.EX_ac_e.lower_bound=-10.0\n",
    "    for KO in ['ME1','ME2','PPCK']:\n",
    "        m.reactions.get_by_id(KO).knock_out()\n",
    "\n",
    "\n",
    "    sol_without_pyruvate=m.optimize()\n",
    "    iml1515_growth_rates['without_pyruvate']=sol_without_pyruvate.fluxes['BIOMASS_Ec_iML1515_core_75p37M']\n",
    "\n",
    "    m.reactions.EX_pyr_e.lower_bound=-10.0\n",
    "    sol_with_pyruvate=m.optimize()\n",
    "    iml1515_growth_rates['with_pyruvate']=sol_with_pyruvate.fluxes['BIOMASS_Ec_iML1515_core_75p37M']\n",
    "print(f'iML1515 ' +r'DELTA'+'(' + ','.join(['ME1','ME2','PPCK']) +')')\n",
    "print(iml1515_growth_rates)\n",
    "    "
   ]
  },
  {
   "cell_type": "code",
   "execution_count": 14,
   "metadata": {},
   "outputs": [
    {
     "data": {
      "image/png": "[encoded data removed]",
      "text/plain": [
       "<Figure size 640x480 with 1 Axes>"
      ]
     },
     "metadata": {},
     "output_type": "display_data"
    }
   ],
   "source": [
    "\n",
    "# create data \n",
    "x = np.array([0,1])\n",
    "y1 = [iCH360_growth_rates['without_pyruvate'], iml1515_growth_rates['without_pyruvate']] \n",
    "y2 = [iCH360_growth_rates['with_pyruvate'], iml1515_growth_rates['with_pyruvate']] \n",
    "width = 0.2\n",
    "  \n",
    "# plot data in grouped manner of bar type \n",
    "plt.bar(x-0.2, y1, width, color='tab:blue') \n",
    "plt.bar(x, y2, width, color='tab:red') \n",
    "plt.xticks(x, [f'iCH360 ' +r'$\\Delta$'+'(' + ','.join(['ME1','ME2','PPCK']) +')',\n",
    "                f'iML1515 ' +r'$\\Delta$'+'(' + ','.join(['ME1','ME2','PPCK']) +')']) \n",
    "plt.xlabel(\"Model\") \n",
    "plt.ylabel(\"Growth rate (1/h)\") \n",
    "plt.legend([\"- pyruvate\", \"+ pyruvate\"],loc='upper center') \n",
    "plt.title('Aerobic  growth on acetate (with or without pyruvate)')\n",
    "plt.show() "
   ]
  },
  {
   "cell_type": "markdown",
   "metadata": {},
   "source": [
    "## Uptake of external CO2 for additional pyruvate production under anaerobic conditions\n",
    "Under unaerobic conditions, iML1515 can uptake external CO2 and use it as an electron sink for glycolytic electrons, reducing acetyl-CoA produced by PFL back into pyruvate. this behaviour, which allows the model to channel additional carbon towards pyruvate, is thermodynamically unrealistic under ambient CO2 conditions."
   ]
  },
  {
   "cell_type": "code",
   "execution_count": 15,
   "metadata": {},
   "outputs": [],
   "source": [
    "with iml1515 as m:\n",
    "    m.objective='EX_pyr_e'\n",
    "    m.reactions.EX_o2_e.lower_bound=0\n",
    "    sol=m.optimize()\n",
    "    visualisation_utils.flux2json(sol.fluxes,'out/anaerobic_pyruvate_production.json')"
   ]
  },
  {
   "cell_type": "markdown",
   "metadata": {},
   "source": [
    "![alt text](images/co2_as_electron_sink.png)"
   ]
  },
  {
   "cell_type": "markdown",
   "metadata": {},
   "source": [
    "# Acetyl-CoA auxotroph strain\n",
    "\n",
    "In DOI 10.1038/s41467-018-04417-z, an acetyl-CoA auxotroph E. coli strain is created by KO of 4 genes:\n",
    "- aceEF (b0114, b0115), disrupting PDH reaction\n",
    "- pflB b0903, disrupting PFL\n",
    "- poxB (b0871), disrupting the pyruvate oxidase POX \n",
    " The strain cannot grow on glucose as a sole carbon source, but can grow if medium is supplemented with acetate\n"
   ]
  },
  {
   "cell_type": "markdown",
   "metadata": {},
   "source": [
    "iML1515 easily bypasses these KO and grow solely on glucose:"
   ]
  },
  {
   "cell_type": "code",
   "execution_count": 35,
   "metadata": {},
   "outputs": [
    {
     "data": {
      "text/html": [
       "<strong><em>Optimal</em> solution with objective value 0.840</strong><br><div>\n",
       "<style scoped>\n",
       "    .dataframe tbody tr th:only-of-type {\n",
       "        vertical-align: middle;\n",
       "    }\n",
       "\n",
       "    .dataframe tbody tr th {\n",
       "        vertical-align: top;\n",
       "    }\n",
       "\n",
       "    .dataframe thead th {\n",
       "        text-align: right;\n",
       "    }\n",
       "</style>\n",
       "<table border=\"1\" class=\"dataframe\">\n",
       "  <thead>\n",
       "    <tr style=\"text-align: right;\">\n",
       "      <th></th>\n",
       "      <th>fluxes</th>\n",
       "      <th>reduced_costs</th>\n",
       "    </tr>\n",
       "  </thead>\n",
       "  <tbody>\n",
       "    <tr>\n",
       "      <th>CYTDK2</th>\n",
       "      <td>0.000000</td>\n",
       "      <td>2.385245e-18</td>\n",
       "    </tr>\n",
       "    <tr>\n",
       "      <th>XPPT</th>\n",
       "      <td>0.000000</td>\n",
       "      <td>0.000000e+00</td>\n",
       "    </tr>\n",
       "    <tr>\n",
       "      <th>HXPRT</th>\n",
       "      <td>0.000000</td>\n",
       "      <td>-7.925403e-03</td>\n",
       "    </tr>\n",
       "    <tr>\n",
       "      <th>NDPK5</th>\n",
       "      <td>-6.458192</td>\n",
       "      <td>-0.000000e+00</td>\n",
       "    </tr>\n",
       "    <tr>\n",
       "      <th>SHK3Dr</th>\n",
       "      <td>0.320009</td>\n",
       "      <td>1.149254e-17</td>\n",
       "    </tr>\n",
       "    <tr>\n",
       "      <th>...</th>\n",
       "      <td>...</td>\n",
       "      <td>...</td>\n",
       "    </tr>\n",
       "    <tr>\n",
       "      <th>MPTS</th>\n",
       "      <td>0.000000</td>\n",
       "      <td>-2.775558e-17</td>\n",
       "    </tr>\n",
       "    <tr>\n",
       "      <th>MOCOS</th>\n",
       "      <td>0.000000</td>\n",
       "      <td>0.000000e+00</td>\n",
       "    </tr>\n",
       "    <tr>\n",
       "      <th>BMOGDS2</th>\n",
       "      <td>0.000000</td>\n",
       "      <td>0.000000e+00</td>\n",
       "    </tr>\n",
       "    <tr>\n",
       "      <th>FESD2s</th>\n",
       "      <td>0.000000</td>\n",
       "      <td>0.000000e+00</td>\n",
       "    </tr>\n",
       "    <tr>\n",
       "      <th>OCTNLL</th>\n",
       "      <td>0.000000</td>\n",
       "      <td>0.000000e+00</td>\n",
       "    </tr>\n",
       "  </tbody>\n",
       "</table>\n",
       "<p>2712 rows × 2 columns</p>\n",
       "</div>"
      ],
      "text/plain": [
       "<Solution 0.840 at 0x23c06ba93f0>"
      ]
     },
     "execution_count": 35,
     "metadata": {},
     "output_type": "execute_result"
    }
   ],
   "source": [
    "with iml1515 as m:\n",
    "    m.reactions.EX_glc__D_e.lower_bound=-10\n",
    "    for KO in ['PFL','PDH']:\n",
    "        m.reactions.get_by_id(KO).knock_out()\n",
    "\n",
    "\n",
    "    sol=m.optimize()\n",
    "    acetyl_coa_production=m.metabolites.accoa_c.summary()\n",
    "sol"
   ]
  },
  {
   "cell_type": "markdown",
   "metadata": {},
   "source": [
    "iCH360 cannot grow on glucose after after these knockouts:"
   ]
  },
  {
   "cell_type": "code",
   "execution_count": 40,
   "metadata": {},
   "outputs": [
    {
     "data": {
      "text/html": [
       "<strong><em>Optimal</em> solution with objective value 0.000</strong><br><div>\n",
       "<style scoped>\n",
       "    .dataframe tbody tr th:only-of-type {\n",
       "        vertical-align: middle;\n",
       "    }\n",
       "\n",
       "    .dataframe tbody tr th {\n",
       "        vertical-align: top;\n",
       "    }\n",
       "\n",
       "    .dataframe thead th {\n",
       "        text-align: right;\n",
       "    }\n",
       "</style>\n",
       "<table border=\"1\" class=\"dataframe\">\n",
       "  <thead>\n",
       "    <tr style=\"text-align: right;\">\n",
       "      <th></th>\n",
       "      <th>fluxes</th>\n",
       "      <th>reduced_costs</th>\n",
       "    </tr>\n",
       "  </thead>\n",
       "  <tbody>\n",
       "    <tr>\n",
       "      <th>NDPK5</th>\n",
       "      <td>0.0</td>\n",
       "      <td>0.0</td>\n",
       "    </tr>\n",
       "    <tr>\n",
       "      <th>SHK3Dr</th>\n",
       "      <td>0.0</td>\n",
       "      <td>0.0</td>\n",
       "    </tr>\n",
       "    <tr>\n",
       "      <th>NDPK6</th>\n",
       "      <td>0.0</td>\n",
       "      <td>0.0</td>\n",
       "    </tr>\n",
       "    <tr>\n",
       "      <th>NDPK8</th>\n",
       "      <td>0.0</td>\n",
       "      <td>0.0</td>\n",
       "    </tr>\n",
       "    <tr>\n",
       "      <th>DHORTS</th>\n",
       "      <td>0.0</td>\n",
       "      <td>0.0</td>\n",
       "    </tr>\n",
       "    <tr>\n",
       "      <th>...</th>\n",
       "      <td>...</td>\n",
       "      <td>...</td>\n",
       "    </tr>\n",
       "    <tr>\n",
       "      <th>VPAMTr</th>\n",
       "      <td>0.0</td>\n",
       "      <td>0.0</td>\n",
       "    </tr>\n",
       "    <tr>\n",
       "      <th>PIt2rpp</th>\n",
       "      <td>0.0</td>\n",
       "      <td>0.0</td>\n",
       "    </tr>\n",
       "    <tr>\n",
       "      <th>PItpp</th>\n",
       "      <td>0.0</td>\n",
       "      <td>0.0</td>\n",
       "    </tr>\n",
       "    <tr>\n",
       "      <th>SUCCt1pp</th>\n",
       "      <td>0.0</td>\n",
       "      <td>0.0</td>\n",
       "    </tr>\n",
       "    <tr>\n",
       "      <th>Biomass</th>\n",
       "      <td>0.0</td>\n",
       "      <td>0.0</td>\n",
       "    </tr>\n",
       "  </tbody>\n",
       "</table>\n",
       "<p>349 rows × 2 columns</p>\n",
       "</div>"
      ],
      "text/plain": [
       "<Solution 0.000 at 0x23c0612b1f0>"
      ]
     },
     "execution_count": 40,
     "metadata": {},
     "output_type": "execute_result"
    }
   ],
   "source": [
    "with ich360 as m:\n",
    "    m.reactions.EX_glc__D_e.lower_bound=-10\n",
    "    for KO in ['PFL','PDH']:\n",
    "        if KO in KO:\n",
    "            m.reactions.get_by_id(KO).knock_out()\n",
    "\n",
    "\n",
    "    sol=m.optimize()\n",
    "    sol\n",
    "sol"
   ]
  },
  {
   "cell_type": "markdown",
   "metadata": {},
   "source": [
    "but can grow upon supplementation with acetate, as shown experimentally."
   ]
  },
  {
   "cell_type": "code",
   "execution_count": 42,
   "metadata": {},
   "outputs": [
    {
     "data": {
      "text/html": [
       "<strong><em>Optimal</em> solution with objective value 1.040</strong><br><div>\n",
       "<style scoped>\n",
       "    .dataframe tbody tr th:only-of-type {\n",
       "        vertical-align: middle;\n",
       "    }\n",
       "\n",
       "    .dataframe tbody tr th {\n",
       "        vertical-align: top;\n",
       "    }\n",
       "\n",
       "    .dataframe thead th {\n",
       "        text-align: right;\n",
       "    }\n",
       "</style>\n",
       "<table border=\"1\" class=\"dataframe\">\n",
       "  <thead>\n",
       "    <tr style=\"text-align: right;\">\n",
       "      <th></th>\n",
       "      <th>fluxes</th>\n",
       "      <th>reduced_costs</th>\n",
       "    </tr>\n",
       "  </thead>\n",
       "  <tbody>\n",
       "    <tr>\n",
       "      <th>NDPK5</th>\n",
       "      <td>0.028111</td>\n",
       "      <td>2.775558e-17</td>\n",
       "    </tr>\n",
       "    <tr>\n",
       "      <th>SHK3Dr</th>\n",
       "      <td>0.395387</td>\n",
       "      <td>0.000000e+00</td>\n",
       "    </tr>\n",
       "    <tr>\n",
       "      <th>NDPK6</th>\n",
       "      <td>0.027225</td>\n",
       "      <td>0.000000e+00</td>\n",
       "    </tr>\n",
       "    <tr>\n",
       "      <th>NDPK8</th>\n",
       "      <td>0.027225</td>\n",
       "      <td>0.000000e+00</td>\n",
       "    </tr>\n",
       "    <tr>\n",
       "      <th>DHORTS</th>\n",
       "      <td>-0.344186</td>\n",
       "      <td>-0.000000e+00</td>\n",
       "    </tr>\n",
       "    <tr>\n",
       "      <th>...</th>\n",
       "      <td>...</td>\n",
       "      <td>...</td>\n",
       "    </tr>\n",
       "    <tr>\n",
       "      <th>VPAMTr</th>\n",
       "      <td>0.000000</td>\n",
       "      <td>-1.387779e-17</td>\n",
       "    </tr>\n",
       "    <tr>\n",
       "      <th>PIt2rpp</th>\n",
       "      <td>1.002539</td>\n",
       "      <td>0.000000e+00</td>\n",
       "    </tr>\n",
       "    <tr>\n",
       "      <th>PItpp</th>\n",
       "      <td>0.000000</td>\n",
       "      <td>-2.035054e-03</td>\n",
       "    </tr>\n",
       "    <tr>\n",
       "      <th>SUCCt1pp</th>\n",
       "      <td>0.000000</td>\n",
       "      <td>0.000000e+00</td>\n",
       "    </tr>\n",
       "    <tr>\n",
       "      <th>Biomass</th>\n",
       "      <td>1.040482</td>\n",
       "      <td>1.246724e-15</td>\n",
       "    </tr>\n",
       "  </tbody>\n",
       "</table>\n",
       "<p>349 rows × 2 columns</p>\n",
       "</div>"
      ],
      "text/plain": [
       "<Solution 1.040 at 0x23c06128910>"
      ]
     },
     "execution_count": 42,
     "metadata": {},
     "output_type": "execute_result"
    }
   ],
   "source": [
    "with ich360 as m:\n",
    "    m.reactions.EX_glc__D_e.lower_bound=-10\n",
    "    m.reactions.EX_ac_e.lower_bound=-10\n",
    "    for KO in ['PFL','PDH']:\n",
    "        if KO in KO:\n",
    "            m.reactions.get_by_id(KO).knock_out()\n",
    "\n",
    "\n",
    "    sol=m.optimize()\n",
    "    sol\n",
    "sol"
   ]
  }
 ],
 "metadata": {
  "kernelspec": {
   "display_name": "kinetic_data",
   "language": "python",
   "name": "python3"
  },
  "language_info": {
   "codemirror_mode": {
    "name": "ipython",
    "version": 3
   },
   "file_extension": ".py",
   "mimetype": "text/x-python",
   "name": "python",
   "nbconvert_exporter": "python",
   "pygments_lexer": "ipython3",
   "version": "3.10.9"
  }
 },
 "nbformat": 4,
 "nbformat_minor": 2
}
