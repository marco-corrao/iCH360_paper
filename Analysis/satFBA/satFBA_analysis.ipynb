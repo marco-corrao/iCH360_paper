{
 "cells": [
  {
   "cell_type": "markdown",
   "metadata": {},
   "source": [
    "# saturation FBA (satFBA) analysis of *i*CH360\n",
    "The saturation FBA (satFBA) framework [1] is a variant of enzyme-constrained FBA, wherein a fixed enzyme cost per flux is assumed for all metabolic reactions in a model, except for the substrate transporter, for which a complete kinetic law is used (Methods). Since the external substrate concentration is a simple parameter, screening this concentration is equivalent to screening the values of the transporter efficiency.\n",
    "\n",
    "1. Müller, S., Regensburger, G. & Steuer, R. Resource allocation in metabolic networks: kinetic optimization and approximations by FBA. Biochemical Society Transactions 43, 1195–1200 (2015)."
   ]
  },
  {
   "cell_type": "code",
   "execution_count": 1,
   "metadata": {},
   "outputs": [],
   "source": [
    "import cobra\n",
    "import sys\n",
    "sys.path.append('../../utils')\n",
    "import importlib\n",
    "import EC_utils"
   ]
  },
  {
   "cell_type": "markdown",
   "metadata": {},
   "source": [
    "## Load model"
   ]
  },
  {
   "cell_type": "code",
   "execution_count": 2,
   "metadata": {},
   "outputs": [
    {
     "name": "stderr",
     "output_type": "stream",
     "text": [
      "'' is not a valid SBML 'SId'.\n"
     ]
    },
    {
     "name": "stdout",
     "output_type": "stream",
     "text": [
      "Set parameter Username\n",
      "Academic license - for non-commercial use only - expires 2025-03-12\n",
      "Read LP format model from file C:\\Users\\marco\\AppData\\Local\\Temp\\tmpq2el29xa.lp\n",
      "Reading time = 0.00 seconds\n",
      ": 305 rows, 1012 columns, 4822 nonzeros\n"
     ]
    }
   ],
   "source": [
    "ec_model=cobra.io.read_sbml_model('../../Model/EC_iCH360/EC_iCH360_fitted_kapps.xml')\n",
    "ec_model.reactions.EX_glc__D_e_bw.upper_bound=1000\n",
    "\n",
    "#Make a copy of the model where the ATP maintenance constraint has been lifted\n",
    "ec_model_no_ATPM=ec_model.copy()\n",
    "ec_model_no_ATPM.reactions.ATPM_fw.lower_bound=0\n"
   ]
  },
  {
   "cell_type": "markdown",
   "metadata": {},
   "source": [
    "## Run satFBA (the relevant code can be found in the `utils/EC_utils.py`)"
   ]
  },
  {
   "cell_type": "code",
   "execution_count": 3,
   "metadata": {},
   "outputs": [
    {
     "name": "stderr",
     "output_type": "stream",
     "text": [
      "100%|██████████| 50/50 [00:13<00:00,  3.79it/s]\n",
      "100%|██████████| 50/50 [00:15<00:00,  3.31it/s]\n"
     ]
    }
   ],
   "source": [
    "importlib.reload(EC_utils)\n",
    "sat_fba_results_with_ATPM=EC_utils.run_satFBA(ec_model,saturable_reaction_id='GLCptspp_fw',log_spaced=True,sigma=0.446,n=50,saturation_max=0.95)\n",
    "sat_fba_results_no_ATPM=EC_utils.run_satFBA(ec_model_no_ATPM,saturable_reaction_id='GLCptspp_fw',log_spaced=True,sigma=0.446,n=50,saturation_max=0.95)"
   ]
  },
  {
   "cell_type": "markdown",
   "metadata": {},
   "source": [
    "Our implementation solves the satFBA problem for a range of uptake transporter saturation values. In order to convert these saturation values into substrate concentration values, a kinetic law for the substrate uptake reaction must be assumed. Here we assume a simple irreversible Michaelis Mentens kinetic law, so that the uptake saturation, $\\sigma_{up}$, takes the form:\n",
    "\n",
    "$$\n",
    "\\sigma_{\\rm up}=\\frac{\\rm [Glc]}{K_{\\rm m}+{\\rm [Glc]}}\n",
    "$$\n",
    "\n",
    "Inverting this equation yields:\n",
    "\n",
    "$$\n",
    "{\\rm [Glc]}=\\frac{K_{\\rm m}~\\sigma_{\\rm up}}{1-\\sigma_{\\rm up}}\n",
    "$$"
   ]
  },
  {
   "cell_type": "code",
   "execution_count": 5,
   "metadata": {},
   "outputs": [],
   "source": [
    "km_up=0.116\n",
    "saturato2conc=lambda s:km_up*s/(1-s)\n",
    "sat_fba_results_no_ATPM['substrate_concentration_mM']=saturato2conc(sat_fba_results_no_ATPM['saturation'].values)\n",
    "sat_fba_results_with_ATPM['substrate_concentration_mM']=saturato2conc(sat_fba_results_with_ATPM['saturation'].values)"
   ]
  },
  {
   "cell_type": "markdown",
   "metadata": {},
   "source": [
    "# Save data for plotting in the relevant notebook"
   ]
  },
  {
   "cell_type": "code",
   "execution_count": 9,
   "metadata": {},
   "outputs": [],
   "source": [
    "sat_fba_results_no_ATPM.reset_index().to_csv(\"out/satFBA_results_no_ATPM.csv\",index=False)\n",
    "sat_fba_results_with_ATPM.reset_index().to_csv(\"out/satFBA_results_with_ATPM.csv\",index=False)"
   ]
  }
 ],
 "metadata": {
  "kernelspec": {
   "display_name": "kinetic_data",
   "language": "python",
   "name": "python3"
  },
  "language_info": {
   "codemirror_mode": {
    "name": "ipython",
    "version": 3
   },
   "file_extension": ".py",
   "mimetype": "text/x-python",
   "name": "python",
   "nbconvert_exporter": "python",
   "pygments_lexer": "ipython3",
   "version": "3.10.9"
  }
 },
 "nbformat": 4,
 "nbformat_minor": 2
}
