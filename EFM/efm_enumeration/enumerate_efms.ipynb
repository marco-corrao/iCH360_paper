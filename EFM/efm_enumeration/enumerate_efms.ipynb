{
 "cells": [
  {
   "cell_type": "code",
   "metadata": {
    "ExecuteTime": {
     "end_time": "2024-07-01T13:04:31.072074Z",
     "start_time": "2024-07-01T13:04:31.066207Z"
    }
   },
   "source": [
    "import cobra\n",
    "import os\n",
    "import efmtool\n",
    "import numpy as np\n",
    "import pandas as pd\n",
    "import tqdm"
   ],
   "outputs": [],
   "execution_count": 3
  },
  {
   "cell_type": "code",
   "metadata": {
    "ExecuteTime": {
     "end_time": "2024-07-01T13:04:31.469439Z",
     "start_time": "2024-07-01T13:04:31.073389Z"
    }
   },
   "source": [
    "model=cobra.io.read_sbml_model('../../Model/iCH360red/iCH360red.xml')"
   ],
   "outputs": [],
   "execution_count": 4
  },
  {
   "cell_type": "code",
   "metadata": {
    "ExecuteTime": {
     "end_time": "2024-07-01T13:04:31.479617Z",
     "start_time": "2024-07-01T13:04:31.470992Z"
    }
   },
   "source": [
    "def count_flux_supporting(efm_df,fluxes:list):\n",
    "    satisfied=np.ones(efm_df.shape[1])\n",
    "    for flux in fluxes:\n",
    "        satisfied=np.logical_and(satisfied,efm_df.loc[flux].to_numpy())\n",
    "    candidates=np.nonzero(satisfied)[0]\n",
    "    return candidates\n",
    "\n",
    "def enumerate_efms(model,\n",
    "                carbon_source,\n",
    "                condition,\n",
    "                fluxes_to_enforce=['Biomass'],\n",
    "                carbon_source_specific_remove=None,\n",
    "                condition_specific_remove=None,\n",
    "                out_path='./efms'):\n",
    "    with model as m:\n",
    "        m.reactions.EX_glc__D_e.bounds=(0,1000)\n",
    "        m.reactions.get_by_id(f'EX_{carbon_source}_e').lower_bound=-10\n",
    "        if condition=='aerobic':\n",
    "            m.reactions.get_by_id('EX_o2_e').lower_bound=-1000\n",
    "        elif condition=='anaerobic':\n",
    "            m.reactions.get_by_id('EX_o2_e').lower_bound=0\n",
    "\n",
    "        else:\n",
    "            raise ValueError\n",
    "        print(f'Computing EFMs for {carbon_source} {condition}....')\n",
    "        original_rxn_ixs=[r.id for r in model.reactions]\n",
    "        removed_ids=[]\n",
    "        #Remove carbon source specific reactions\n",
    "        if carbon_source_specific_remove is not None:\n",
    "            for cs in carbon_source_specific_remove.keys():\n",
    "                if carbon_source==cs:\n",
    "                    removed_rxns=[m.reactions.get_by_id(r) for r in carbon_source_specific_remove[cs] if r in model.reactions]\n",
    "                    removed_ids+=[r.id for r in removed_rxns]\n",
    "                    m.remove_reactions(removed_rxns)\n",
    "        #Remove condition-specific reactions\n",
    "        if condition_specific_remove is not None:\n",
    "            for cond in condition_specific_remove.keys():\n",
    "                if condition==cond:\n",
    "                    removed_rxns=[m.reactions.get_by_id(r) for r in condition_specific_remove[cond] if r in model.reactions]\n",
    "                    removed_ids+=[r.id for r in removed_rxns]\n",
    "                    m.remove_reactions(removed_rxns)\n",
    "        print(f'Removed {removed_ids} due to carbon source or condition specific parameter.')\n",
    "        reversibilities=[int(r.reversibility) for r in m.reactions]\n",
    "        reactions_ids=[r.id for r in m.reactions]\n",
    "        metabolite_ids=[m.id for m in m.metabolites]\n",
    "        S=cobra.util.array.create_stoichiometric_matrix(m,array_type='DataFrame')\n",
    "        S=S.values\n",
    "\n",
    "\n",
    "        filename_csv=f'ich360red_{carbon_source}_{condition}_efms.csv'\n",
    "        path_csv=os.path.join(out_path,filename_csv)\n",
    "        \n",
    "        \n",
    "        \n",
    "        print('Starting EFMTools computation') \n",
    "        efm_options={\n",
    "                \"kind\": \"stoichiometry\",\n",
    "                \"arithmetic\": \"fractional\",\n",
    "                \"zero\": \"1e-12\",\n",
    "                \"compression\": \"default\",\n",
    "                \"log\": \"console\",\n",
    "                \"level\": \"INFO\",\n",
    "                \"maxthreads\": \"-1\",\n",
    "                \"normalize\": \"min\",\n",
    "                \"adjacency-method\": \"pattern-tree-minzero\",\n",
    "                \"rowordering\": \"MostZerosOrAbsLexMin\",\n",
    "            }\n",
    "        \n",
    "        \n",
    "        efms=efmtool.calculate_efms(stoichiometry=S,\n",
    "                                reversibilities=reversibilities,\n",
    "                                reaction_names=reactions_ids,\n",
    "                                metabolite_names=metabolite_ids,\n",
    "                                options=efm_options)\n",
    "        \n",
    "        efms_df=pd.DataFrame(data=efms,index=reactions_ids,columns=list(range(efms.shape[1])))\n",
    "        #If we have removed any reaction because of condition specific simplifications, let's add them back with 0 flux for consistency\n",
    "        if removed_ids:\n",
    "            zero_efm_rows=pd.DataFrame(index=removed_ids,\n",
    "                                    columns=efms_df.columns,\n",
    "                                    data=np.zeros((len(removed_ids),efms.shape[1]))\n",
    "                                    )\n",
    "            efms_df=pd.concat([efms_df,zero_efm_rows])\n",
    "\n",
    "        #Reindex for consistency\n",
    "        efms_df=efms_df.loc[original_rxn_ixs]\n",
    "\n",
    "        #Filter        \n",
    "        n_original=efms_df.shape[1]\n",
    "        print(f'DONE... Computed {n_original} EFMs')\n",
    "        for r in fluxes_to_enforce:\n",
    "            efms_df=efms_df.loc[:,efms_df.loc[r]!=0.]\n",
    "        n_final=efms_df.shape[1]\n",
    "\n",
    "        #Transpose (It's easier to have differet EFMs being different rows, so that they can be better read in chunks)\n",
    "        efms_df=efms_df.transpose()\n",
    "        \n",
    "        print(f'Removed {n_original-n_final} EFMs. {n_final} EFMs left after filtering.  Saving to file (this may take a while)')\n",
    "        efms_df.to_csv(path_csv)\n",
    "        print(f'Found {efms_df.shape[0]} EFMs for {carbon_source} under {condition} conditions')\n",
    "        print('...........................................')\n",
    "        print('\\n\\n\\n')\n",
    "        \n",
    "        return {'S':S,'reversibilities':reversibilities,'reaction_ids':reactions_ids,'metabolite_ids':metabolite_ids},efms_df\n",
    "\n"
   ],
   "outputs": [],
   "execution_count": 5
  },
  {
   "cell_type": "markdown",
   "metadata": {},
   "source": [
    "# Enumerate EFMs (removing Oxygen-sensitive reactions from aerobic EFM enumeration)"
   ]
  },
  {
   "cell_type": "code",
   "metadata": {
    "ExecuteTime": {
     "end_time": "2024-07-01T13:04:31.490871Z",
     "start_time": "2024-07-01T13:04:31.480971Z"
    }
   },
   "source": [
    "carbon_sources=['glc__D','succ','fum','lac__D','ac','pyr' ,'glyc','rib__D','xyl__D','akg']\n",
    "conditions=['aerobic','anaerobic']\n",
    "carbon_source_specific_remove=None\n",
    "condition_specific_remove={'aerobic':['DHORD5','PFL','FRD2']}"
   ],
   "outputs": [],
   "execution_count": 6
  },
  {
   "cell_type": "code",
   "metadata": {
    "ExecuteTime": {
     "end_time": "2024-07-01T13:14:35.402980Z",
     "start_time": "2024-07-01T13:04:31.491761Z"
    }
   },
   "source": [
    "out={}\n",
    "for substrate in tqdm.tqdm(carbon_sources):\n",
    "    out[substrate]={}\n",
    "    for condition in conditions:\n",
    "        if condition=='aerobic':\n",
    "            fluxes_to_enforce=['Biomass','EX_o2_e']\n",
    "        elif condition=='anaerobic':\n",
    "            fluxes_to_enforce=['Biomass']\n",
    "        data,efms=\\\n",
    "        enumerate_efms(model,\n",
    "                       substrate,\n",
    "                       condition,\n",
    "                       fluxes_to_enforce=fluxes_to_enforce,\n",
    "                       carbon_source_specific_remove=carbon_source_specific_remove,\n",
    "                       condition_specific_remove=condition_specific_remove,\n",
    "                       )\n",
    "        del efms"
   ],
   "outputs": [
    {
     "name": "stderr",
     "output_type": "stream",
     "text": [
      "  0%|          | 0/10 [00:00<?, ?it/s]"
     ]
    },
    {
     "name": "stdout",
     "output_type": "stream",
     "text": [
      "Computing EFMs for glc__D aerobic....\n",
      "Removed ['DHORD5', 'PFL', 'FRD2'] due to carbon source or condition specific parameter.\n",
      "Starting EFMTools computation\n",
      "2024-07-01  16:04:31.989  main                     INFO     | logger initialized\n",
      "2024-07-01  16:04:31.990  main                     INFO     | =====================================================\n",
      "2024-07-01  16:04:31.990  main                     INFO     | efmtool version 4.7.1, 2009-12-04 18:30:05\n",
      "2024-07-01  16:04:31.990  main                     INFO     | Copyright (c) 2009, Marco Terzer, Zurich, Switzerland\n",
      "2024-07-01  16:04:31.990  main                     INFO     | This is free software, !!! NO WARRANTY !!!\n",
      "2024-07-01  16:04:31.990  main                     INFO     | See LICENCE.txt for redistribution conditions\n",
      "2024-07-01  16:04:31.990  main                     INFO     | =====================================================\n",
      "2024-07-01  16:04:32.121  main    efm.output.mat   INFO     | estimated efms-per-file: 810000\n",
      "2024-07-01  16:04:32.135  main    efm.impl         INFO     | Elemetary flux mode computation\n",
      "2024-07-01  16:04:32.135  main    efm.impl         INFO     | Implementation:\n",
      "2024-07-01  16:04:32.135  main    efm.impl         INFO     | ..algorithm name   : SequentialDoubleDescriptionImpl\n",
      "2024-07-01  16:04:32.135  main    efm.impl         INFO     | ..model type       : NullspaceEfmModel\n",
      "2024-07-01  16:04:32.135  main    efm.impl         INFO     | ..memory type      : InCoreMemory\n",
      "2024-07-01  16:04:32.135  main    efm.impl         INFO     | ..output type      : MatFile\n",
      "2024-07-01  16:04:32.135  main    efm.impl         INFO     | System:\n",
      "2024-07-01  16:04:32.137  main    efm.impl         INFO     | ..hostname         : eladn-ThinkPad-X1-Carbon-Gen-11\n",
      "2024-07-01  16:04:32.137  main    efm.impl         INFO     | ..operating system : amd64/Linux/6.5.0-1023-oem\n",
      "2024-07-01  16:04:32.137  main    efm.impl         INFO     | ..processors       : 12\n",
      "2024-07-01  16:04:32.137  main    efm.impl         INFO     | ..vm               : Ubuntu/OpenJDK 64-Bit Server VM/11.0.23+9-post-Ubuntu-1ubuntu122.04.1\n",
      "2024-07-01  16:04:32.137  main    efm.impl         INFO     | ..vm-spec          : Oracle Corporation/Java Virtual Machine Specification/11\n",
      "2024-07-01  16:04:32.138  main    efm.impl         INFO     | ..vm arguments     : []\n",
      "2024-07-01  16:04:32.138  main    efm.impl         INFO     | ..memory, commited : 35M\n",
      "2024-07-01  16:04:32.138  main    efm.impl         INFO     | ..memory, used     : 12M\n",
      "2024-07-01  16:04:32.138  main    efm.impl         INFO     | Config:\n",
      "2024-07-01  16:04:32.138  main    efm.impl         INFO     | ..generator        : Efm\n",
      "2024-07-01  16:04:32.138  main    efm.impl         INFO     | ..adj method       : pattern-tree-minzero\n",
      "2024-07-01  16:04:32.138  main    efm.impl         INFO     | ..row ordering     : MostZerosOrAbsLexMin\n",
      "2024-07-01  16:04:32.138  main    efm.impl         INFO     | ..arithmetic       : fractional (prec: -1 / zero: 1.0E-12)\n",
      "2024-07-01  16:04:32.138  main    efm.impl         INFO     | ..compression      : on\n",
      "2024-07-01  16:04:32.138  main    efm.impl         INFO     | ..compr. methods   : [CoupledZero, CoupledContradicting, CoupledCombine, UniqueFlows, DeadEnd, Recursive]\n",
      "2024-07-01  16:04:32.138  main    efm.impl         INFO     | ..normalize        : min\n",
      "2024-07-01  16:04:32.138  main    efm.impl         INFO     | ..max threads      : 12\n",
      "2024-07-01  16:04:32.138  main    efm.impl         INFO     | ..self test        : off\n",
      "2024-07-01  16:04:32.138  main    efm.impl         INFO     | ..progress type    : None\n",
      "2024-07-01  16:04:32.138  main    efm.impl         INFO     | ..progress part.   : 100\n",
      "2024-07-01  16:04:32.139  main    efm.impl         INFO     | ..suppress         : []\n",
      "2024-07-01  16:04:32.139  main    efm.impl         INFO     | ..enforce          : []\n",
      "2024-07-01  16:04:32.139  main    efm.impl         INFO     | ..nosplit          : []\n",
      "2024-07-01  16:04:32.139  main    efm.impl         INFO     | ..temp dir         : /tmp/tmpp_ralls0/???\n",
      "2024-07-01  16:04:32.139  main    efm.impl         INFO     | ..flag             : (none)\n",
      "2024-07-01  16:04:32.139  main    efm.impl         INFO     | Distributed Config:\n",
      "2024-07-01  16:04:32.139  main    efm.impl         INFO     | ..node count       : 2\n",
      "2024-07-01  16:04:32.139  main    efm.impl         INFO     | ..nodes            : [localhost, localhost]\n",
      "2024-07-01  16:04:32.139  main    efm.impl         INFO     | ..vmargs           : [-Xmx800M, -Xmx500M]\n",
      "2024-07-01  16:04:32.139  main    efm.impl         INFO     | ..command          : /usr/bin/java [vmargs] -cp [classpath] [class] [args]\n",
      "2024-07-01  16:04:32.139  main    efm.impl         INFO     | ..partition        : 256\n",
      "2024-07-01  16:04:32.139  main    efm.impl         INFO     | ..cand. threshold  : 100000\n",
      "2024-07-01  16:04:32.140  main    efm.impl         INFO     | original network: 304 metabolites, 328 reactions (135 reversible)\n",
      "2024-07-01  16:04:32.375  main    efm.impl         INFO     | compressed network: 36 metabolites, 59 reactions (19 reversible)\n",
      "2024-07-01  16:04:32.467  main    efm.impl         INFO     | stoich expanded has dimensions 36x78\n",
      "2024-07-01  16:04:32.467  main    efm.impl         INFO     | kernel matrix has dimensions 78x47\n",
      "2024-07-01  16:04:32.467  main    efm.impl         INFO     | TIME preprocessing: 344ms\n",
      "2024-07-01  16:04:32.473  main    efm.impl         INFO     | iteration 0/31: 47 modes, dt=0ms.\t{ next 1/31: 1 adj candidates, [+/0/-] = [1/45/1] }\n",
      "2024-07-01  16:04:32.487  main    efm.impl         INFO     | iteration 1/31: 47 modes, dt=14ms.\t{ next 2/31: 2 adj candidates, [+/0/-] = [2/44/1] }\n",
      "2024-07-01  16:04:32.492  main    efm.impl         INFO     | iteration 2/31: 48 modes, dt=5ms.\t{ next 3/31: 3 adj candidates, [+/0/-] = [3/44/1] }\n",
      "2024-07-01  16:04:32.500  main    efm.impl         INFO     | iteration 3/31: 50 modes, dt=7ms.\t{ next 4/31: 5 adj candidates, [+/0/-] = [1/44/5] }\n",
      "2024-07-01  16:04:32.506  main    efm.impl         INFO     | iteration 4/31: 50 modes, dt=6ms.\t{ next 5/31: 10 adj candidates, [+/0/-] = [2/43/5] }\n",
      "2024-07-01  16:04:32.514  main    efm.impl         INFO     | iteration 5/31: 55 modes, dt=8ms.\t{ next 6/31: 16 adj candidates, [+/0/-] = [2/45/8] }\n",
      "2024-07-01  16:04:32.521  main    efm.impl         INFO     | iteration 6/31: 59 modes, dt=6ms.\t{ next 7/31: 24 adj candidates, [+/0/-] = [2/45/12] }\n",
      "2024-07-01  16:04:32.528  main    efm.impl         INFO     | iteration 7/31: 63 modes, dt=7ms.\t{ next 8/31: 17 adj candidates, [+/0/-] = [1/45/17] }\n",
      "2024-07-01  16:04:32.533  main    efm.impl         INFO     | iteration 8/31: 63 modes, dt=5ms.\t{ next 9/31: 18 adj candidates, [+/0/-] = [18/44/1] }\n",
      "2024-07-01  16:04:32.539  main    efm.impl         INFO     | iteration 9/31: 80 modes, dt=6ms.\t{ next 10/31: 26 adj candidates, [+/0/-] = [26/53/1] }\n",
      "2024-07-01  16:04:32.545  main    efm.impl         INFO     | iteration 10/31: 105 modes, dt=6ms.\t{ next 11/31: 58 adj candidates, [+/0/-] = [58/46/1] }\n",
      "2024-07-01  16:04:32.552  main    efm.impl         INFO     | iteration 11/31: 162 modes, dt=7ms.\t{ next 12/31: 342 adj candidates, [+/0/-] = [3/45/114] }\n",
      "2024-07-01  16:04:32.566  main    efm.impl         INFO     | iteration 12/31: 278 modes, dt=13ms.\t{ next 13/31: 6755 adj candidates, [+/0/-] = [35/50/193] }\n",
      "2024-07-01  16:04:32.586  main    efm.impl         INFO     | iteration 13/31: 439 modes, dt=20ms.\t{ next 14/31: 392 adj candidates, [+/0/-] = [1/46/392] }\n",
      "2024-07-01  16:04:32.598  main    efm.impl         INFO     | iteration 14/31: 436 modes, dt=12ms.\t{ next 15/31: 6596 adj candidates, [+/0/-] = [194/208/34] }\n",
      "2024-07-01  16:04:32.608  main    efm.impl         INFO     | iteration 15/31: 436 modes, dt=10ms.\t{ next 16/31: 1155 adj candidates, [+/0/-] = [385/48/3] }\n",
      "2024-07-01  16:04:32.621  main    efm.impl         INFO     | iteration 16/31: 820 modes, dt=12ms.\t{ next 17/31: 26568 adj candidates, [+/0/-] = [36/46/738] }\n",
      "2024-07-01  16:04:32.650  main    efm.impl         INFO     | iteration 17/31: 855 modes, dt=29ms.\t{ next 18/31: 142450 adj candidates, [+/0/-] = [259/46/550] }\n",
      "2024-07-01  16:04:32.673  main    efm.impl         INFO     | iteration 18/31: 1337 modes, dt=23ms.\t{ next 19/31: 133453 adj candidates, [+/0/-] = [113/43/1181] }\n",
      "2024-07-01  16:04:32.712  main    efm.impl         INFO     | iteration 19/31: 1745 modes, dt=39ms.\t{ next 20/31: 5088 adj candidates, [+/0/-] = [1696/46/3] }\n",
      "2024-07-01  16:04:32.739  main    efm.impl         INFO     | iteration 20/31: 3658 modes, dt=27ms.\t{ next 21/31: 10827 adj candidates, [+/0/-] = [3609/46/3] }\n",
      "2024-07-01  16:04:32.784  main    efm.impl         INFO     | iteration 21/31: 5589 modes, dt=45ms.\t{ next 22/31: 176224 adj candidates, [+/0/-] = [32/50/5507] }\n",
      "2024-07-01  16:04:32.941  main    efm.impl         INFO     | iteration 22/31: 13318 modes, dt=156ms.\t{ next 23/31: 41743360 adj candidates, [+/0/-] = [8153/45/5120] }\n",
      "2024-07-01  16:04:33.296  main    efm.impl         INFO     | iteration 23/31: 36131 modes, dt=354ms.\t{ next 24/31: 183657299 adj candidates, [+/0/-] = [29771/191/6169] }\n",
      "2024-07-01  16:04:33.982  main    efm.impl         INFO     | iteration 24/31: 132009 modes, dt=686ms.\t{ next 25/31: 3479687852 adj candidates, [+/0/-] = [36742/561/94706] }\n",
      "2024-07-01  16:04:36.519  main    efm.impl         INFO     | iteration 25/31: 167417 modes, dt=2537ms.\t{ next 26/31: 4934661008 adj candidates, [+/0/-] = [38252/161/129004] }\n",
      "2024-07-01  16:04:37.881  main    efm.impl         INFO     | iteration 26/31: 223638 modes, dt=1362ms.\t{ next 27/31: 7010917620 adj candidates, [+/0/-] = [183705/1769/38164] }\n",
      "2024-07-01  16:04:41.776  main    efm.impl         INFO     | iteration 27/31: 407246 modes, dt=3895ms.\t{ next 28/31: 8644821259 adj candidates, [+/0/-] = [22481/226/384539] }\n",
      "2024-07-01  16:04:44.634  main    efm.impl         INFO     | iteration 28/31: 529781 modes, dt=2857ms.\t{ next 29/31: 2913127245 adj candidates, [+/0/-] = [5565/743/523473] }\n",
      "2024-07-01  16:04:46.670  main    efm.impl         INFO     | iteration 29/31: 72794 modes, dt=2036ms.\t{ next 30/31: 130408074 adj candidates, [+/0/-] = [70797/155/1842] }\n",
      "2024-07-01  16:04:47.215  main    efm.impl         INFO     | iteration 30/31: 283484 modes, dt=545ms.\t{ next 31/31: 18196259360 adj candidates, [+/0/-] = [184880/182/98422] }\n",
      "2024-07-01  16:04:48.621  main    efm.impl         INFO     | iteration 31/31: 1093933 modes, dt=1385ms.\n",
      "2024-07-01  16:04:48.621  main    efm.impl         INFO     | TIME iterate: 16150ms\n",
      "2024-07-01  16:04:48.638  main    efm.impl         INFO     | efm count before postprocessing: 1093933\n",
      "2024-07-01  16:04:48.754  main    efm.impl         INFO     | efm count after filtering/consolidation: 1093914\n",
      "2024-07-01  16:04:48.754  main    efm.impl         INFO     | uncompressing modes (can take a while)\n",
      "2024-07-01  16:14:18.627  main    efm.impl         INFO     | TIME postprocessing: 569989ms\n",
      "2024-07-01  16:14:18.627  main    efm.impl         INFO     | overall computation time: 586504ms\n",
      "DONE... Computed 1093914 EFMs\n"
     ]
    },
    {
     "name": "stderr",
     "output_type": "stream",
     "text": [
      "  0%|          | 0/10 [10:03<?, ?it/s]"
     ]
    },
    {
     "name": "stdout",
     "output_type": "stream",
     "text": [
      "Removed 58218 EFMs. 1035696 EFMs left after filtering.  Saving to file (this may take a while)\n"
     ]
    },
    {
     "name": "stderr",
     "output_type": "stream",
     "text": [
      "\n"
     ]
    },
    {
     "ename": "OSError",
     "evalue": "Cannot save file into a non-existent directory: 'efms'",
     "output_type": "error",
     "traceback": [
      "\u001B[0;31m---------------------------------------------------------------------------\u001B[0m",
      "\u001B[0;31mOSError\u001B[0m                                   Traceback (most recent call last)",
      "Cell \u001B[0;32mIn[7], line 10\u001B[0m\n\u001B[1;32m      7\u001B[0m \u001B[38;5;28;01melif\u001B[39;00m condition\u001B[38;5;241m==\u001B[39m\u001B[38;5;124m'\u001B[39m\u001B[38;5;124manaerobic\u001B[39m\u001B[38;5;124m'\u001B[39m:\n\u001B[1;32m      8\u001B[0m     fluxes_to_enforce\u001B[38;5;241m=\u001B[39m[\u001B[38;5;124m'\u001B[39m\u001B[38;5;124mBiomass\u001B[39m\u001B[38;5;124m'\u001B[39m]\n\u001B[1;32m      9\u001B[0m data,efms\u001B[38;5;241m=\u001B[39m\\\n\u001B[0;32m---> 10\u001B[0m \u001B[43menumerate_efms\u001B[49m\u001B[43m(\u001B[49m\u001B[43mmodel\u001B[49m\u001B[43m,\u001B[49m\n\u001B[1;32m     11\u001B[0m \u001B[43m               \u001B[49m\u001B[43msubstrate\u001B[49m\u001B[43m,\u001B[49m\n\u001B[1;32m     12\u001B[0m \u001B[43m               \u001B[49m\u001B[43mcondition\u001B[49m\u001B[43m,\u001B[49m\n\u001B[1;32m     13\u001B[0m \u001B[43m               \u001B[49m\u001B[43mfluxes_to_enforce\u001B[49m\u001B[38;5;241;43m=\u001B[39;49m\u001B[43mfluxes_to_enforce\u001B[49m\u001B[43m,\u001B[49m\n\u001B[1;32m     14\u001B[0m \u001B[43m               \u001B[49m\u001B[43mcarbon_source_specific_remove\u001B[49m\u001B[38;5;241;43m=\u001B[39;49m\u001B[43mcarbon_source_specific_remove\u001B[49m\u001B[43m,\u001B[49m\n\u001B[1;32m     15\u001B[0m \u001B[43m               \u001B[49m\u001B[43mcondition_specific_remove\u001B[49m\u001B[38;5;241;43m=\u001B[39;49m\u001B[43mcondition_specific_remove\u001B[49m\u001B[43m,\u001B[49m\n\u001B[1;32m     16\u001B[0m \u001B[43m               \u001B[49m\u001B[43m)\u001B[49m\n\u001B[1;32m     17\u001B[0m \u001B[38;5;28;01mdel\u001B[39;00m efms\n",
      "Cell \u001B[0;32mIn[5], line 101\u001B[0m, in \u001B[0;36menumerate_efms\u001B[0;34m(model, carbon_source, condition, fluxes_to_enforce, carbon_source_specific_remove, condition_specific_remove, out_path, save_to_file)\u001B[0m\n\u001B[1;32m     98\u001B[0m efms_df\u001B[38;5;241m=\u001B[39mefms_df\u001B[38;5;241m.\u001B[39mtranspose()\n\u001B[1;32m    100\u001B[0m \u001B[38;5;28mprint\u001B[39m(\u001B[38;5;124mf\u001B[39m\u001B[38;5;124m'\u001B[39m\u001B[38;5;124mRemoved \u001B[39m\u001B[38;5;132;01m{\u001B[39;00mn_original\u001B[38;5;241m-\u001B[39mn_final\u001B[38;5;132;01m}\u001B[39;00m\u001B[38;5;124m EFMs. \u001B[39m\u001B[38;5;132;01m{\u001B[39;00mn_final\u001B[38;5;132;01m}\u001B[39;00m\u001B[38;5;124m EFMs left after filtering.  Saving to file (this may take a while)\u001B[39m\u001B[38;5;124m'\u001B[39m)\n\u001B[0;32m--> 101\u001B[0m \u001B[43mefms_df\u001B[49m\u001B[38;5;241;43m.\u001B[39;49m\u001B[43mto_csv\u001B[49m\u001B[43m(\u001B[49m\u001B[43mpath_csv\u001B[49m\u001B[43m)\u001B[49m\n\u001B[1;32m    102\u001B[0m \u001B[38;5;28mprint\u001B[39m(\u001B[38;5;124mf\u001B[39m\u001B[38;5;124m'\u001B[39m\u001B[38;5;124mFound \u001B[39m\u001B[38;5;132;01m{\u001B[39;00mefms_df\u001B[38;5;241m.\u001B[39mshape[\u001B[38;5;241m0\u001B[39m]\u001B[38;5;132;01m}\u001B[39;00m\u001B[38;5;124m EFMs for \u001B[39m\u001B[38;5;132;01m{\u001B[39;00mcarbon_source\u001B[38;5;132;01m}\u001B[39;00m\u001B[38;5;124m under \u001B[39m\u001B[38;5;132;01m{\u001B[39;00mcondition\u001B[38;5;132;01m}\u001B[39;00m\u001B[38;5;124m conditions\u001B[39m\u001B[38;5;124m'\u001B[39m)\n\u001B[1;32m    103\u001B[0m \u001B[38;5;28mprint\u001B[39m(\u001B[38;5;124m'\u001B[39m\u001B[38;5;124m...........................................\u001B[39m\u001B[38;5;124m'\u001B[39m)\n",
      "File \u001B[0;32m~/PycharmProjects/iCH360_paper/.venv/lib/python3.10/site-packages/pandas/util/_decorators.py:333\u001B[0m, in \u001B[0;36mdeprecate_nonkeyword_arguments.<locals>.decorate.<locals>.wrapper\u001B[0;34m(*args, **kwargs)\u001B[0m\n\u001B[1;32m    327\u001B[0m \u001B[38;5;28;01mif\u001B[39;00m \u001B[38;5;28mlen\u001B[39m(args) \u001B[38;5;241m>\u001B[39m num_allow_args:\n\u001B[1;32m    328\u001B[0m     warnings\u001B[38;5;241m.\u001B[39mwarn(\n\u001B[1;32m    329\u001B[0m         msg\u001B[38;5;241m.\u001B[39mformat(arguments\u001B[38;5;241m=\u001B[39m_format_argument_list(allow_args)),\n\u001B[1;32m    330\u001B[0m         \u001B[38;5;167;01mFutureWarning\u001B[39;00m,\n\u001B[1;32m    331\u001B[0m         stacklevel\u001B[38;5;241m=\u001B[39mfind_stack_level(),\n\u001B[1;32m    332\u001B[0m     )\n\u001B[0;32m--> 333\u001B[0m \u001B[38;5;28;01mreturn\u001B[39;00m \u001B[43mfunc\u001B[49m\u001B[43m(\u001B[49m\u001B[38;5;241;43m*\u001B[39;49m\u001B[43margs\u001B[49m\u001B[43m,\u001B[49m\u001B[43m \u001B[49m\u001B[38;5;241;43m*\u001B[39;49m\u001B[38;5;241;43m*\u001B[39;49m\u001B[43mkwargs\u001B[49m\u001B[43m)\u001B[49m\n",
      "File \u001B[0;32m~/PycharmProjects/iCH360_paper/.venv/lib/python3.10/site-packages/pandas/core/generic.py:3967\u001B[0m, in \u001B[0;36mNDFrame.to_csv\u001B[0;34m(self, path_or_buf, sep, na_rep, float_format, columns, header, index, index_label, mode, encoding, compression, quoting, quotechar, lineterminator, chunksize, date_format, doublequote, escapechar, decimal, errors, storage_options)\u001B[0m\n\u001B[1;32m   3956\u001B[0m df \u001B[38;5;241m=\u001B[39m \u001B[38;5;28mself\u001B[39m \u001B[38;5;28;01mif\u001B[39;00m \u001B[38;5;28misinstance\u001B[39m(\u001B[38;5;28mself\u001B[39m, ABCDataFrame) \u001B[38;5;28;01melse\u001B[39;00m \u001B[38;5;28mself\u001B[39m\u001B[38;5;241m.\u001B[39mto_frame()\n\u001B[1;32m   3958\u001B[0m formatter \u001B[38;5;241m=\u001B[39m DataFrameFormatter(\n\u001B[1;32m   3959\u001B[0m     frame\u001B[38;5;241m=\u001B[39mdf,\n\u001B[1;32m   3960\u001B[0m     header\u001B[38;5;241m=\u001B[39mheader,\n\u001B[0;32m   (...)\u001B[0m\n\u001B[1;32m   3964\u001B[0m     decimal\u001B[38;5;241m=\u001B[39mdecimal,\n\u001B[1;32m   3965\u001B[0m )\n\u001B[0;32m-> 3967\u001B[0m \u001B[38;5;28;01mreturn\u001B[39;00m \u001B[43mDataFrameRenderer\u001B[49m\u001B[43m(\u001B[49m\u001B[43mformatter\u001B[49m\u001B[43m)\u001B[49m\u001B[38;5;241;43m.\u001B[39;49m\u001B[43mto_csv\u001B[49m\u001B[43m(\u001B[49m\n\u001B[1;32m   3968\u001B[0m \u001B[43m    \u001B[49m\u001B[43mpath_or_buf\u001B[49m\u001B[43m,\u001B[49m\n\u001B[1;32m   3969\u001B[0m \u001B[43m    \u001B[49m\u001B[43mlineterminator\u001B[49m\u001B[38;5;241;43m=\u001B[39;49m\u001B[43mlineterminator\u001B[49m\u001B[43m,\u001B[49m\n\u001B[1;32m   3970\u001B[0m \u001B[43m    \u001B[49m\u001B[43msep\u001B[49m\u001B[38;5;241;43m=\u001B[39;49m\u001B[43msep\u001B[49m\u001B[43m,\u001B[49m\n\u001B[1;32m   3971\u001B[0m \u001B[43m    \u001B[49m\u001B[43mencoding\u001B[49m\u001B[38;5;241;43m=\u001B[39;49m\u001B[43mencoding\u001B[49m\u001B[43m,\u001B[49m\n\u001B[1;32m   3972\u001B[0m \u001B[43m    \u001B[49m\u001B[43merrors\u001B[49m\u001B[38;5;241;43m=\u001B[39;49m\u001B[43merrors\u001B[49m\u001B[43m,\u001B[49m\n\u001B[1;32m   3973\u001B[0m \u001B[43m    \u001B[49m\u001B[43mcompression\u001B[49m\u001B[38;5;241;43m=\u001B[39;49m\u001B[43mcompression\u001B[49m\u001B[43m,\u001B[49m\n\u001B[1;32m   3974\u001B[0m \u001B[43m    \u001B[49m\u001B[43mquoting\u001B[49m\u001B[38;5;241;43m=\u001B[39;49m\u001B[43mquoting\u001B[49m\u001B[43m,\u001B[49m\n\u001B[1;32m   3975\u001B[0m \u001B[43m    \u001B[49m\u001B[43mcolumns\u001B[49m\u001B[38;5;241;43m=\u001B[39;49m\u001B[43mcolumns\u001B[49m\u001B[43m,\u001B[49m\n\u001B[1;32m   3976\u001B[0m \u001B[43m    \u001B[49m\u001B[43mindex_label\u001B[49m\u001B[38;5;241;43m=\u001B[39;49m\u001B[43mindex_label\u001B[49m\u001B[43m,\u001B[49m\n\u001B[1;32m   3977\u001B[0m \u001B[43m    \u001B[49m\u001B[43mmode\u001B[49m\u001B[38;5;241;43m=\u001B[39;49m\u001B[43mmode\u001B[49m\u001B[43m,\u001B[49m\n\u001B[1;32m   3978\u001B[0m \u001B[43m    \u001B[49m\u001B[43mchunksize\u001B[49m\u001B[38;5;241;43m=\u001B[39;49m\u001B[43mchunksize\u001B[49m\u001B[43m,\u001B[49m\n\u001B[1;32m   3979\u001B[0m \u001B[43m    \u001B[49m\u001B[43mquotechar\u001B[49m\u001B[38;5;241;43m=\u001B[39;49m\u001B[43mquotechar\u001B[49m\u001B[43m,\u001B[49m\n\u001B[1;32m   3980\u001B[0m \u001B[43m    \u001B[49m\u001B[43mdate_format\u001B[49m\u001B[38;5;241;43m=\u001B[39;49m\u001B[43mdate_format\u001B[49m\u001B[43m,\u001B[49m\n\u001B[1;32m   3981\u001B[0m \u001B[43m    \u001B[49m\u001B[43mdoublequote\u001B[49m\u001B[38;5;241;43m=\u001B[39;49m\u001B[43mdoublequote\u001B[49m\u001B[43m,\u001B[49m\n\u001B[1;32m   3982\u001B[0m \u001B[43m    \u001B[49m\u001B[43mescapechar\u001B[49m\u001B[38;5;241;43m=\u001B[39;49m\u001B[43mescapechar\u001B[49m\u001B[43m,\u001B[49m\n\u001B[1;32m   3983\u001B[0m \u001B[43m    \u001B[49m\u001B[43mstorage_options\u001B[49m\u001B[38;5;241;43m=\u001B[39;49m\u001B[43mstorage_options\u001B[49m\u001B[43m,\u001B[49m\n\u001B[1;32m   3984\u001B[0m \u001B[43m\u001B[49m\u001B[43m)\u001B[49m\n",
      "File \u001B[0;32m~/PycharmProjects/iCH360_paper/.venv/lib/python3.10/site-packages/pandas/io/formats/format.py:1014\u001B[0m, in \u001B[0;36mDataFrameRenderer.to_csv\u001B[0;34m(self, path_or_buf, encoding, sep, columns, index_label, mode, compression, quoting, quotechar, lineterminator, chunksize, date_format, doublequote, escapechar, errors, storage_options)\u001B[0m\n\u001B[1;32m    993\u001B[0m     created_buffer \u001B[38;5;241m=\u001B[39m \u001B[38;5;28;01mFalse\u001B[39;00m\n\u001B[1;32m    995\u001B[0m csv_formatter \u001B[38;5;241m=\u001B[39m CSVFormatter(\n\u001B[1;32m    996\u001B[0m     path_or_buf\u001B[38;5;241m=\u001B[39mpath_or_buf,\n\u001B[1;32m    997\u001B[0m     lineterminator\u001B[38;5;241m=\u001B[39mlineterminator,\n\u001B[0;32m   (...)\u001B[0m\n\u001B[1;32m   1012\u001B[0m     formatter\u001B[38;5;241m=\u001B[39m\u001B[38;5;28mself\u001B[39m\u001B[38;5;241m.\u001B[39mfmt,\n\u001B[1;32m   1013\u001B[0m )\n\u001B[0;32m-> 1014\u001B[0m \u001B[43mcsv_formatter\u001B[49m\u001B[38;5;241;43m.\u001B[39;49m\u001B[43msave\u001B[49m\u001B[43m(\u001B[49m\u001B[43m)\u001B[49m\n\u001B[1;32m   1016\u001B[0m \u001B[38;5;28;01mif\u001B[39;00m created_buffer:\n\u001B[1;32m   1017\u001B[0m     \u001B[38;5;28;01massert\u001B[39;00m \u001B[38;5;28misinstance\u001B[39m(path_or_buf, StringIO)\n",
      "File \u001B[0;32m~/PycharmProjects/iCH360_paper/.venv/lib/python3.10/site-packages/pandas/io/formats/csvs.py:251\u001B[0m, in \u001B[0;36mCSVFormatter.save\u001B[0;34m(self)\u001B[0m\n\u001B[1;32m    247\u001B[0m \u001B[38;5;250m\u001B[39m\u001B[38;5;124;03m\"\"\"\u001B[39;00m\n\u001B[1;32m    248\u001B[0m \u001B[38;5;124;03mCreate the writer & save.\u001B[39;00m\n\u001B[1;32m    249\u001B[0m \u001B[38;5;124;03m\"\"\"\u001B[39;00m\n\u001B[1;32m    250\u001B[0m \u001B[38;5;66;03m# apply compression and byte/text conversion\u001B[39;00m\n\u001B[0;32m--> 251\u001B[0m \u001B[38;5;28;01mwith\u001B[39;00m \u001B[43mget_handle\u001B[49m\u001B[43m(\u001B[49m\n\u001B[1;32m    252\u001B[0m \u001B[43m    \u001B[49m\u001B[38;5;28;43mself\u001B[39;49m\u001B[38;5;241;43m.\u001B[39;49m\u001B[43mfilepath_or_buffer\u001B[49m\u001B[43m,\u001B[49m\n\u001B[1;32m    253\u001B[0m \u001B[43m    \u001B[49m\u001B[38;5;28;43mself\u001B[39;49m\u001B[38;5;241;43m.\u001B[39;49m\u001B[43mmode\u001B[49m\u001B[43m,\u001B[49m\n\u001B[1;32m    254\u001B[0m \u001B[43m    \u001B[49m\u001B[43mencoding\u001B[49m\u001B[38;5;241;43m=\u001B[39;49m\u001B[38;5;28;43mself\u001B[39;49m\u001B[38;5;241;43m.\u001B[39;49m\u001B[43mencoding\u001B[49m\u001B[43m,\u001B[49m\n\u001B[1;32m    255\u001B[0m \u001B[43m    \u001B[49m\u001B[43merrors\u001B[49m\u001B[38;5;241;43m=\u001B[39;49m\u001B[38;5;28;43mself\u001B[39;49m\u001B[38;5;241;43m.\u001B[39;49m\u001B[43merrors\u001B[49m\u001B[43m,\u001B[49m\n\u001B[1;32m    256\u001B[0m \u001B[43m    \u001B[49m\u001B[43mcompression\u001B[49m\u001B[38;5;241;43m=\u001B[39;49m\u001B[38;5;28;43mself\u001B[39;49m\u001B[38;5;241;43m.\u001B[39;49m\u001B[43mcompression\u001B[49m\u001B[43m,\u001B[49m\n\u001B[1;32m    257\u001B[0m \u001B[43m    \u001B[49m\u001B[43mstorage_options\u001B[49m\u001B[38;5;241;43m=\u001B[39;49m\u001B[38;5;28;43mself\u001B[39;49m\u001B[38;5;241;43m.\u001B[39;49m\u001B[43mstorage_options\u001B[49m\u001B[43m,\u001B[49m\n\u001B[1;32m    258\u001B[0m \u001B[43m\u001B[49m\u001B[43m)\u001B[49m \u001B[38;5;28;01mas\u001B[39;00m handles:\n\u001B[1;32m    259\u001B[0m     \u001B[38;5;66;03m# Note: self.encoding is irrelevant here\u001B[39;00m\n\u001B[1;32m    260\u001B[0m     \u001B[38;5;28mself\u001B[39m\u001B[38;5;241m.\u001B[39mwriter \u001B[38;5;241m=\u001B[39m csvlib\u001B[38;5;241m.\u001B[39mwriter(\n\u001B[1;32m    261\u001B[0m         handles\u001B[38;5;241m.\u001B[39mhandle,\n\u001B[1;32m    262\u001B[0m         lineterminator\u001B[38;5;241m=\u001B[39m\u001B[38;5;28mself\u001B[39m\u001B[38;5;241m.\u001B[39mlineterminator,\n\u001B[0;32m   (...)\u001B[0m\n\u001B[1;32m    267\u001B[0m         quotechar\u001B[38;5;241m=\u001B[39m\u001B[38;5;28mself\u001B[39m\u001B[38;5;241m.\u001B[39mquotechar,\n\u001B[1;32m    268\u001B[0m     )\n\u001B[1;32m    270\u001B[0m     \u001B[38;5;28mself\u001B[39m\u001B[38;5;241m.\u001B[39m_save()\n",
      "File \u001B[0;32m~/PycharmProjects/iCH360_paper/.venv/lib/python3.10/site-packages/pandas/io/common.py:749\u001B[0m, in \u001B[0;36mget_handle\u001B[0;34m(path_or_buf, mode, encoding, compression, memory_map, is_text, errors, storage_options)\u001B[0m\n\u001B[1;32m    747\u001B[0m \u001B[38;5;66;03m# Only for write methods\u001B[39;00m\n\u001B[1;32m    748\u001B[0m \u001B[38;5;28;01mif\u001B[39;00m \u001B[38;5;124m\"\u001B[39m\u001B[38;5;124mr\u001B[39m\u001B[38;5;124m\"\u001B[39m \u001B[38;5;129;01mnot\u001B[39;00m \u001B[38;5;129;01min\u001B[39;00m mode \u001B[38;5;129;01mand\u001B[39;00m is_path:\n\u001B[0;32m--> 749\u001B[0m     \u001B[43mcheck_parent_directory\u001B[49m\u001B[43m(\u001B[49m\u001B[38;5;28;43mstr\u001B[39;49m\u001B[43m(\u001B[49m\u001B[43mhandle\u001B[49m\u001B[43m)\u001B[49m\u001B[43m)\u001B[49m\n\u001B[1;32m    751\u001B[0m \u001B[38;5;28;01mif\u001B[39;00m compression:\n\u001B[1;32m    752\u001B[0m     \u001B[38;5;28;01mif\u001B[39;00m compression \u001B[38;5;241m!=\u001B[39m \u001B[38;5;124m\"\u001B[39m\u001B[38;5;124mzstd\u001B[39m\u001B[38;5;124m\"\u001B[39m:\n\u001B[1;32m    753\u001B[0m         \u001B[38;5;66;03m# compression libraries do not like an explicit text-mode\u001B[39;00m\n",
      "File \u001B[0;32m~/PycharmProjects/iCH360_paper/.venv/lib/python3.10/site-packages/pandas/io/common.py:616\u001B[0m, in \u001B[0;36mcheck_parent_directory\u001B[0;34m(path)\u001B[0m\n\u001B[1;32m    614\u001B[0m parent \u001B[38;5;241m=\u001B[39m Path(path)\u001B[38;5;241m.\u001B[39mparent\n\u001B[1;32m    615\u001B[0m \u001B[38;5;28;01mif\u001B[39;00m \u001B[38;5;129;01mnot\u001B[39;00m parent\u001B[38;5;241m.\u001B[39mis_dir():\n\u001B[0;32m--> 616\u001B[0m     \u001B[38;5;28;01mraise\u001B[39;00m \u001B[38;5;167;01mOSError\u001B[39;00m(\u001B[38;5;124mrf\u001B[39m\u001B[38;5;124m\"\u001B[39m\u001B[38;5;124mCannot save file into a non-existent directory: \u001B[39m\u001B[38;5;124m'\u001B[39m\u001B[38;5;132;01m{\u001B[39;00mparent\u001B[38;5;132;01m}\u001B[39;00m\u001B[38;5;124m'\u001B[39m\u001B[38;5;124m\"\u001B[39m)\n",
      "\u001B[0;31mOSError\u001B[0m: Cannot save file into a non-existent directory: 'efms'"
     ]
    }
   ],
   "execution_count": 7
  }
 ],
 "metadata": {
  "kernelspec": {
   "display_name": "kinetic_data",
   "language": "python",
   "name": "python3"
  },
  "language_info": {
   "codemirror_mode": {
    "name": "ipython",
    "version": 3
   },
   "file_extension": ".py",
   "mimetype": "text/x-python",
   "name": "python",
   "nbconvert_exporter": "python",
   "pygments_lexer": "ipython3",
   "version": "3.10.9"
  },
  "orig_nbformat": 4
 },
 "nbformat": 4,
 "nbformat_minor": 2
}
