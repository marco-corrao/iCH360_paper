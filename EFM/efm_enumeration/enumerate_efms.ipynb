{
 "cells": [
  {
   "cell_type": "code",
   "metadata": {
    "ExecuteTime": {
     "end_time": "2024-07-01T13:04:31.072074Z",
     "start_time": "2024-07-01T13:04:31.066207Z"
    }
   },
   "source": [
    "import cobra\n",
    "import os\n",
    "import efmtool\n",
    "import numpy as np\n",
    "import pandas as pd\n",
    "import tqdm"
   ],
   "outputs": [],
   "execution_count": 3
  },
  {
   "cell_type": "code",
   "metadata": {
    "ExecuteTime": {
     "end_time": "2024-07-01T13:31:05.368621Z",
     "start_time": "2024-07-01T13:31:04.946928Z"
    }
   },
   "source": [
    "model=cobra.io.read_sbml_model('../../Model/iCH360red/iCH360red.xml')\n",
    "try:\n",
    "    os.mkdir(\"./efms\")\n",
    "except FileExistsError:\n",
    "    pass"
   ],
   "outputs": [],
   "execution_count": 8
  },
  {
   "cell_type": "code",
   "metadata": {
    "ExecuteTime": {
     "end_time": "2024-07-01T13:04:31.479617Z",
     "start_time": "2024-07-01T13:04:31.470992Z"
    }
   },
   "source": [
    "def count_flux_supporting(efm_df,fluxes:list):\n",
    "    satisfied=np.ones(efm_df.shape[1])\n",
    "    for flux in fluxes:\n",
    "        satisfied=np.logical_and(satisfied,efm_df.loc[flux].to_numpy())\n",
    "    candidates=np.nonzero(satisfied)[0]\n",
    "    return candidates\n",
    "\n",
    "def enumerate_efms(model,\n",
    "                carbon_source,\n",
    "                condition,\n",
    "                fluxes_to_enforce=['Biomass'],\n",
    "                carbon_source_specific_remove=None,\n",
    "                condition_specific_remove=None,\n",
    "                out_path='./efms'):\n",
    "    with model as m:\n",
    "        m.reactions.EX_glc__D_e.bounds=(0,1000)\n",
    "        m.reactions.get_by_id(f'EX_{carbon_source}_e').lower_bound=-10\n",
    "        if condition=='aerobic':\n",
    "            m.reactions.get_by_id('EX_o2_e').lower_bound=-1000\n",
    "        elif condition=='anaerobic':\n",
    "            m.reactions.get_by_id('EX_o2_e').lower_bound=0\n",
    "\n",
    "        else:\n",
    "            raise ValueError\n",
    "        print(f'Computing EFMs for {carbon_source} {condition}....')\n",
    "        original_rxn_ixs=[r.id for r in model.reactions]\n",
    "        removed_ids=[]\n",
    "        #Remove carbon source specific reactions\n",
    "        if carbon_source_specific_remove is not None:\n",
    "            for cs in carbon_source_specific_remove.keys():\n",
    "                if carbon_source==cs:\n",
    "                    removed_rxns=[m.reactions.get_by_id(r) for r in carbon_source_specific_remove[cs] if r in model.reactions]\n",
    "                    removed_ids+=[r.id for r in removed_rxns]\n",
    "                    m.remove_reactions(removed_rxns)\n",
    "        #Remove condition-specific reactions\n",
    "        if condition_specific_remove is not None:\n",
    "            for cond in condition_specific_remove.keys():\n",
    "                if condition==cond:\n",
    "                    removed_rxns=[m.reactions.get_by_id(r) for r in condition_specific_remove[cond] if r in model.reactions]\n",
    "                    removed_ids+=[r.id for r in removed_rxns]\n",
    "                    m.remove_reactions(removed_rxns)\n",
    "        print(f'Removed {removed_ids} due to carbon source or condition specific parameter.')\n",
    "        reversibilities=[int(r.reversibility) for r in m.reactions]\n",
    "        reactions_ids=[r.id for r in m.reactions]\n",
    "        metabolite_ids=[m.id for m in m.metabolites]\n",
    "        S=cobra.util.array.create_stoichiometric_matrix(m,array_type='DataFrame')\n",
    "        S=S.values\n",
    "\n",
    "\n",
    "        filename_csv=f'ich360red_{carbon_source}_{condition}_efms.csv'\n",
    "        path_csv=os.path.join(out_path,filename_csv)\n",
    "        \n",
    "        \n",
    "        \n",
    "        print('Starting EFMTools computation') \n",
    "        efm_options={\n",
    "                \"kind\": \"stoichiometry\",\n",
    "                \"arithmetic\": \"fractional\",\n",
    "                \"zero\": \"1e-12\",\n",
    "                \"compression\": \"default\",\n",
    "                \"log\": \"console\",\n",
    "                \"level\": \"INFO\",\n",
    "                \"maxthreads\": \"-1\",\n",
    "                \"normalize\": \"min\",\n",
    "                \"adjacency-method\": \"pattern-tree-minzero\",\n",
    "                \"rowordering\": \"MostZerosOrAbsLexMin\",\n",
    "            }\n",
    "        \n",
    "        \n",
    "        efms=efmtool.calculate_efms(stoichiometry=S,\n",
    "                                reversibilities=reversibilities,\n",
    "                                reaction_names=reactions_ids,\n",
    "                                metabolite_names=metabolite_ids,\n",
    "                                options=efm_options)\n",
    "        \n",
    "        efms_df=pd.DataFrame(data=efms,index=reactions_ids,columns=list(range(efms.shape[1])))\n",
    "        #If we have removed any reaction because of condition specific simplifications, let's add them back with 0 flux for consistency\n",
    "        if removed_ids:\n",
    "            zero_efm_rows=pd.DataFrame(index=removed_ids,\n",
    "                                    columns=efms_df.columns,\n",
    "                                    data=np.zeros((len(removed_ids),efms.shape[1]))\n",
    "                                    )\n",
    "            efms_df=pd.concat([efms_df,zero_efm_rows])\n",
    "\n",
    "        #Reindex for consistency\n",
    "        efms_df=efms_df.loc[original_rxn_ixs]\n",
    "\n",
    "        #Filter        \n",
    "        n_original=efms_df.shape[1]\n",
    "        print(f'DONE... Computed {n_original} EFMs')\n",
    "        for r in fluxes_to_enforce:\n",
    "            efms_df=efms_df.loc[:,efms_df.loc[r]!=0.]\n",
    "        n_final=efms_df.shape[1]\n",
    "\n",
    "        #Transpose (It's easier to have differet EFMs being different rows, so that they can be better read in chunks)\n",
    "        efms_df=efms_df.transpose()\n",
    "        \n",
    "        print(f'Removed {n_original-n_final} EFMs. {n_final} EFMs left after filtering.  Saving to file (this may take a while)')\n",
    "        efms_df.to_csv(path_csv)\n",
    "        print(f'Found {efms_df.shape[0]} EFMs for {carbon_source} under {condition} conditions')\n",
    "        print('...........................................')\n",
    "        print('\\n\\n\\n')\n",
    "        \n",
    "        return {'S':S,'reversibilities':reversibilities,'reaction_ids':reactions_ids,'metabolite_ids':metabolite_ids},efms_df\n",
    "\n"
   ],
   "outputs": [],
   "execution_count": 5
  },
  {
   "cell_type": "markdown",
   "metadata": {},
   "source": [
    "# Enumerate EFMs (removing Oxygen-sensitive reactions from aerobic EFM enumeration)"
   ]
  },
  {
   "cell_type": "code",
   "metadata": {
    "ExecuteTime": {
     "end_time": "2024-07-01T13:04:31.490871Z",
     "start_time": "2024-07-01T13:04:31.480971Z"
    }
   },
   "source": [
    "carbon_sources=['glc__D','succ','fum','lac__D','ac','pyr' ,'glyc','rib__D','xyl__D','akg']\n",
    "conditions=['aerobic','anaerobic']\n",
    "carbon_source_specific_remove=None\n",
    "condition_specific_remove={'aerobic':['DHORD5','PFL','FRD2']}"
   ],
   "outputs": [],
   "execution_count": 6
  },
  {
   "cell_type": "code",
   "metadata": {
    "jupyter": {
     "is_executing": true
    },
    "ExecuteTime": {
     "start_time": "2024-07-01T13:31:15.890680Z"
    }
   },
   "source": [
    "out={}\n",
    "for substrate in tqdm.tqdm(carbon_sources):\n",
    "    out[substrate]={}\n",
    "    for condition in conditions:\n",
    "        if condition=='aerobic':\n",
    "            fluxes_to_enforce=['Biomass','EX_o2_e']\n",
    "        elif condition=='anaerobic':\n",
    "            fluxes_to_enforce=['Biomass']\n",
    "        data,efms=\\\n",
    "        enumerate_efms(model,\n",
    "                       substrate,\n",
    "                       condition,\n",
    "                       fluxes_to_enforce=fluxes_to_enforce,\n",
    "                       carbon_source_specific_remove=carbon_source_specific_remove,\n",
    "                       condition_specific_remove=condition_specific_remove,\n",
    "                       )\n",
    "        del efms"
   ],
   "outputs": [
    {
     "name": "stderr",
     "output_type": "stream",
     "text": [
      "  0%|          | 0/10 [00:00<?, ?it/s]"
     ]
    },
    {
     "name": "stdout",
     "output_type": "stream",
     "text": [
      "Computing EFMs for glc__D aerobic....\n",
      "Removed ['DHORD5', 'PFL', 'FRD2'] due to carbon source or condition specific parameter.\n",
      "Starting EFMTools computation\n",
      "2024-07-01  16:31:16.397  main                     INFO     | logger initialized\n",
      "2024-07-01  16:31:16.399  main                     INFO     | =====================================================\n",
      "2024-07-01  16:31:16.399  main                     INFO     | efmtool version 4.7.1, 2009-12-04 18:30:05\n",
      "2024-07-01  16:31:16.400  main                     INFO     | Copyright (c) 2009, Marco Terzer, Zurich, Switzerland\n",
      "2024-07-01  16:31:16.400  main                     INFO     | This is free software, !!! NO WARRANTY !!!\n",
      "2024-07-01  16:31:16.400  main                     INFO     | See LICENCE.txt for redistribution conditions\n",
      "2024-07-01  16:31:16.401  main                     INFO     | =====================================================\n",
      "2024-07-01  16:31:16.685  main    efm.output.mat   INFO     | estimated efms-per-file: 810000\n",
      "2024-07-01  16:31:16.714  main    efm.impl         INFO     | Elemetary flux mode computation\n",
      "2024-07-01  16:31:16.714  main    efm.impl         INFO     | Implementation:\n",
      "2024-07-01  16:31:16.714  main    efm.impl         INFO     | ..algorithm name   : SequentialDoubleDescriptionImpl\n",
      "2024-07-01  16:31:16.714  main    efm.impl         INFO     | ..model type       : NullspaceEfmModel\n",
      "2024-07-01  16:31:16.714  main    efm.impl         INFO     | ..memory type      : InCoreMemory\n",
      "2024-07-01  16:31:16.715  main    efm.impl         INFO     | ..output type      : MatFile\n",
      "2024-07-01  16:31:16.715  main    efm.impl         INFO     | System:\n",
      "2024-07-01  16:31:16.718  main    efm.impl         INFO     | ..hostname         : eladn-ThinkPad-X1-Carbon-Gen-11\n",
      "2024-07-01  16:31:16.720  main    efm.impl         INFO     | ..operating system : amd64/Linux/6.5.0-1023-oem\n",
      "2024-07-01  16:31:16.720  main    efm.impl         INFO     | ..processors       : 12\n",
      "2024-07-01  16:31:16.720  main    efm.impl         INFO     | ..vm               : Ubuntu/OpenJDK 64-Bit Server VM/11.0.23+9-post-Ubuntu-1ubuntu122.04.1\n",
      "2024-07-01  16:31:16.720  main    efm.impl         INFO     | ..vm-spec          : Oracle Corporation/Java Virtual Machine Specification/11\n",
      "2024-07-01  16:31:16.721  main    efm.impl         INFO     | ..vm arguments     : []\n",
      "2024-07-01  16:31:16.721  main    efm.impl         INFO     | ..memory, commited : 35M\n",
      "2024-07-01  16:31:16.721  main    efm.impl         INFO     | ..memory, used     : 5M\n",
      "2024-07-01  16:31:16.721  main    efm.impl         INFO     | Config:\n",
      "2024-07-01  16:31:16.721  main    efm.impl         INFO     | ..generator        : Efm\n",
      "2024-07-01  16:31:16.721  main    efm.impl         INFO     | ..adj method       : pattern-tree-minzero\n",
      "2024-07-01  16:31:16.722  main    efm.impl         INFO     | ..row ordering     : MostZerosOrAbsLexMin\n",
      "2024-07-01  16:31:16.722  main    efm.impl         INFO     | ..arithmetic       : fractional (prec: -1 / zero: 1.0E-12)\n",
      "2024-07-01  16:31:16.722  main    efm.impl         INFO     | ..compression      : on\n",
      "2024-07-01  16:31:16.722  main    efm.impl         INFO     | ..compr. methods   : [CoupledZero, CoupledContradicting, CoupledCombine, UniqueFlows, DeadEnd, Recursive]\n",
      "2024-07-01  16:31:16.722  main    efm.impl         INFO     | ..normalize        : min\n",
      "2024-07-01  16:31:16.722  main    efm.impl         INFO     | ..max threads      : 12\n",
      "2024-07-01  16:31:16.722  main    efm.impl         INFO     | ..self test        : off\n",
      "2024-07-01  16:31:16.722  main    efm.impl         INFO     | ..progress type    : None\n",
      "2024-07-01  16:31:16.723  main    efm.impl         INFO     | ..progress part.   : 100\n",
      "2024-07-01  16:31:16.723  main    efm.impl         INFO     | ..suppress         : []\n",
      "2024-07-01  16:31:16.723  main    efm.impl         INFO     | ..enforce          : []\n",
      "2024-07-01  16:31:16.723  main    efm.impl         INFO     | ..nosplit          : []\n",
      "2024-07-01  16:31:16.723  main    efm.impl         INFO     | ..temp dir         : /tmp/tmpgnvj2qv_/???\n",
      "2024-07-01  16:31:16.723  main    efm.impl         INFO     | ..flag             : (none)\n",
      "2024-07-01  16:31:16.723  main    efm.impl         INFO     | Distributed Config:\n",
      "2024-07-01  16:31:16.723  main    efm.impl         INFO     | ..node count       : 2\n",
      "2024-07-01  16:31:16.723  main    efm.impl         INFO     | ..nodes            : [localhost, localhost]\n",
      "2024-07-01  16:31:16.723  main    efm.impl         INFO     | ..vmargs           : [-Xmx800M, -Xmx500M]\n",
      "2024-07-01  16:31:16.724  main    efm.impl         INFO     | ..command          : /usr/bin/java [vmargs] -cp [classpath] [class] [args]\n",
      "2024-07-01  16:31:16.724  main    efm.impl         INFO     | ..partition        : 256\n",
      "2024-07-01  16:31:16.724  main    efm.impl         INFO     | ..cand. threshold  : 100000\n",
      "2024-07-01  16:31:16.726  main    efm.impl         INFO     | original network: 304 metabolites, 328 reactions (135 reversible)\n",
      "2024-07-01  16:31:17.135  main    efm.impl         INFO     | compressed network: 36 metabolites, 59 reactions (19 reversible)\n",
      "2024-07-01  16:31:17.219  main    efm.impl         INFO     | stoich expanded has dimensions 36x78\n",
      "2024-07-01  16:31:17.219  main    efm.impl         INFO     | kernel matrix has dimensions 78x47\n",
      "2024-07-01  16:31:17.219  main    efm.impl         INFO     | TIME preprocessing: 530ms\n",
      "2024-07-01  16:31:17.226  main    efm.impl         INFO     | iteration 0/31: 47 modes, dt=0ms.\t{ next 1/31: 1 adj candidates, [+/0/-] = [1/45/1] }\n",
      "2024-07-01  16:31:17.241  main    efm.impl         INFO     | iteration 1/31: 47 modes, dt=15ms.\t{ next 2/31: 2 adj candidates, [+/0/-] = [2/44/1] }\n",
      "2024-07-01  16:31:17.250  main    efm.impl         INFO     | iteration 2/31: 48 modes, dt=9ms.\t{ next 3/31: 3 adj candidates, [+/0/-] = [3/44/1] }\n",
      "2024-07-01  16:31:17.260  main    efm.impl         INFO     | iteration 3/31: 50 modes, dt=10ms.\t{ next 4/31: 5 adj candidates, [+/0/-] = [1/44/5] }\n",
      "2024-07-01  16:31:17.270  main    efm.impl         INFO     | iteration 4/31: 50 modes, dt=10ms.\t{ next 5/31: 10 adj candidates, [+/0/-] = [2/43/5] }\n",
      "2024-07-01  16:31:17.284  main    efm.impl         INFO     | iteration 5/31: 55 modes, dt=14ms.\t{ next 6/31: 16 adj candidates, [+/0/-] = [2/45/8] }\n",
      "2024-07-01  16:31:17.295  main    efm.impl         INFO     | iteration 6/31: 59 modes, dt=10ms.\t{ next 7/31: 24 adj candidates, [+/0/-] = [2/45/12] }\n",
      "2024-07-01  16:31:17.301  main    efm.impl         INFO     | iteration 7/31: 63 modes, dt=6ms.\t{ next 8/31: 17 adj candidates, [+/0/-] = [1/45/17] }\n",
      "2024-07-01  16:31:17.307  main    efm.impl         INFO     | iteration 8/31: 63 modes, dt=6ms.\t{ next 9/31: 18 adj candidates, [+/0/-] = [18/44/1] }\n",
      "2024-07-01  16:31:17.313  main    efm.impl         INFO     | iteration 9/31: 80 modes, dt=6ms.\t{ next 10/31: 26 adj candidates, [+/0/-] = [26/53/1] }\n",
      "2024-07-01  16:31:17.319  main    efm.impl         INFO     | iteration 10/31: 105 modes, dt=6ms.\t{ next 11/31: 58 adj candidates, [+/0/-] = [58/46/1] }\n",
      "2024-07-01  16:31:17.325  main    efm.impl         INFO     | iteration 11/31: 162 modes, dt=6ms.\t{ next 12/31: 342 adj candidates, [+/0/-] = [3/45/114] }\n",
      "2024-07-01  16:31:17.336  main    efm.impl         INFO     | iteration 12/31: 278 modes, dt=11ms.\t{ next 13/31: 6755 adj candidates, [+/0/-] = [35/50/193] }\n",
      "2024-07-01  16:31:17.352  main    efm.impl         INFO     | iteration 13/31: 439 modes, dt=16ms.\t{ next 14/31: 392 adj candidates, [+/0/-] = [1/46/392] }\n",
      "2024-07-01  16:31:17.375  main    efm.impl         INFO     | iteration 14/31: 436 modes, dt=23ms.\t{ next 15/31: 6596 adj candidates, [+/0/-] = [194/208/34] }\n",
      "2024-07-01  16:31:17.384  main    efm.impl         INFO     | iteration 15/31: 436 modes, dt=9ms.\t{ next 16/31: 1155 adj candidates, [+/0/-] = [385/48/3] }\n",
      "2024-07-01  16:31:17.409  main    efm.impl         INFO     | iteration 16/31: 820 modes, dt=25ms.\t{ next 17/31: 26568 adj candidates, [+/0/-] = [36/46/738] }\n",
      "2024-07-01  16:31:17.446  main    efm.impl         INFO     | iteration 17/31: 855 modes, dt=37ms.\t{ next 18/31: 142450 adj candidates, [+/0/-] = [259/46/550] }\n",
      "2024-07-01  16:31:17.479  main    efm.impl         INFO     | iteration 18/31: 1337 modes, dt=33ms.\t{ next 19/31: 133453 adj candidates, [+/0/-] = [113/43/1181] }\n",
      "2024-07-01  16:31:17.512  main    efm.impl         INFO     | iteration 19/31: 1745 modes, dt=33ms.\t{ next 20/31: 5088 adj candidates, [+/0/-] = [1696/46/3] }\n",
      "2024-07-01  16:31:17.550  main    efm.impl         INFO     | iteration 20/31: 3658 modes, dt=38ms.\t{ next 21/31: 10827 adj candidates, [+/0/-] = [3609/46/3] }\n",
      "2024-07-01  16:31:17.620  main    efm.impl         INFO     | iteration 21/31: 5589 modes, dt=69ms.\t{ next 22/31: 176224 adj candidates, [+/0/-] = [32/50/5507] }\n",
      "2024-07-01  16:31:17.754  main    efm.impl         INFO     | iteration 22/31: 13318 modes, dt=134ms.\t{ next 23/31: 41743360 adj candidates, [+/0/-] = [8153/45/5120] }\n",
      "2024-07-01  16:31:18.090  main    efm.impl         INFO     | iteration 23/31: 36131 modes, dt=336ms.\t{ next 24/31: 183657299 adj candidates, [+/0/-] = [29771/191/6169] }\n",
      "2024-07-01  16:31:18.996  main    efm.impl         INFO     | iteration 24/31: 132009 modes, dt=905ms.\t{ next 25/31: 3479687852 adj candidates, [+/0/-] = [36742/561/94706] }\n",
      "2024-07-01  16:31:19.966  main    efm.impl         INFO     | iteration 25/31: 167417 modes, dt=969ms.\t{ next 26/31: 4934661008 adj candidates, [+/0/-] = [38252/161/129004] }\n",
      "2024-07-01  16:31:21.924  main    efm.impl         INFO     | iteration 26/31: 223638 modes, dt=1958ms.\t{ next 27/31: 7010917620 adj candidates, [+/0/-] = [183705/1769/38164] }\n"
     ]
    }
   ],
   "execution_count": null
  },
  {
   "metadata": {},
   "cell_type": "code",
   "outputs": [],
   "execution_count": null,
   "source": ""
  }
 ],
 "metadata": {
  "kernelspec": {
   "display_name": "kinetic_data",
   "language": "python",
   "name": "python3"
  },
  "language_info": {
   "codemirror_mode": {
    "name": "ipython",
    "version": 3
   },
   "file_extension": ".py",
   "mimetype": "text/x-python",
   "name": "python",
   "nbconvert_exporter": "python",
   "pygments_lexer": "ipython3",
   "version": "3.10.9"
  },
  "orig_nbformat": 4
 },
 "nbformat": 4,
 "nbformat_minor": 2
}
