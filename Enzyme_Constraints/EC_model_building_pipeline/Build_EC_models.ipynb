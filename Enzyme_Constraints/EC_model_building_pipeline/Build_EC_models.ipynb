{
 "cells": [
  {
   "cell_type": "code",
   "execution_count": 13,
   "metadata": {},
   "outputs": [
    {
     "data": {
      "text/plain": [
       "<module 'EC_utils' from 'c:\\\\Users\\\\marco\\\\repos\\\\iCH360_paper\\\\Enzyme_Constraints\\\\EC_model_building_pipeline\\\\../../utils\\\\EC_utils.py'>"
      ]
     },
     "execution_count": 13,
     "metadata": {},
     "output_type": "execute_result"
    }
   ],
   "source": [
    "import cobra\n",
    "import pandas as pd\n",
    "import numpy as np\n",
    "import sys\n",
    "sys.path.append('../../utils')\n",
    "import EC_utils\n",
    "import importlib\n",
    "importlib.reload(EC_utils)"
   ]
  },
  {
   "cell_type": "markdown",
   "metadata": {},
   "source": [
    "## Load stoichiometric Model"
   ]
  },
  {
   "cell_type": "code",
   "execution_count": 14,
   "metadata": {},
   "outputs": [],
   "source": [
    "model=cobra.io.read_sbml_model('../../Model/iCH360/Escherichia_coli_iCH360.xml')\n",
    "#Lift glucose bound\n",
    "model.reactions.EX_glc__D_e.lower_bound=-1000"
   ]
  },
  {
   "cell_type": "markdown",
   "metadata": {},
   "source": [
    "## Load parsed Enzyme Constraint Table\n"
   ]
  },
  {
   "cell_type": "code",
   "execution_count": 15,
   "metadata": {},
   "outputs": [
    {
     "data": {
      "text/html": [
       "<div>\n",
       "<style scoped>\n",
       "    .dataframe tbody tr th:only-of-type {\n",
       "        vertical-align: middle;\n",
       "    }\n",
       "\n",
       "    .dataframe tbody tr th {\n",
       "        vertical-align: top;\n",
       "    }\n",
       "\n",
       "    .dataframe thead th {\n",
       "        text-align: right;\n",
       "    }\n",
       "</style>\n",
       "<table border=\"1\" class=\"dataframe\">\n",
       "  <thead>\n",
       "    <tr style=\"text-align: right;\">\n",
       "      <th></th>\n",
       "      <th>reaction_id</th>\n",
       "      <th>direction</th>\n",
       "      <th>value</th>\n",
       "      <th>par_type</th>\n",
       "      <th>unit</th>\n",
       "      <th>condition</th>\n",
       "      <th>notes</th>\n",
       "      <th>saturation</th>\n",
       "      <th>model_type</th>\n",
       "      <th>directional_reaction_id</th>\n",
       "      <th>enzyme</th>\n",
       "      <th>MW</th>\n",
       "      <th>num_pp_subunits</th>\n",
       "      <th>kcat_times_pp_num</th>\n",
       "      <th>EC_kcat_value</th>\n",
       "      <th>ec_cost</th>\n",
       "      <th>enzyme_pool_bound_g_gDw</th>\n",
       "    </tr>\n",
       "  </thead>\n",
       "  <tbody>\n",
       "    <tr>\n",
       "      <th>0</th>\n",
       "      <td>NDPK5</td>\n",
       "      <td>fw</td>\n",
       "      <td>5.004318</td>\n",
       "      <td>k_appmax</td>\n",
       "      <td>s-1</td>\n",
       "      <td>NaN</td>\n",
       "      <td>kappmax_KO_ALE_per_pp_per_s_ensemble_model</td>\n",
       "      <td>1</td>\n",
       "      <td>glucose_batch</td>\n",
       "      <td>NDPK5_fw</td>\n",
       "      <td>NUCLEOSIDE-DIP-KIN-CPLX</td>\n",
       "      <td>61.852000</td>\n",
       "      <td>4</td>\n",
       "      <td>20.017274</td>\n",
       "      <td>20.017274</td>\n",
       "      <td>0.000858</td>\n",
       "      <td>0.315157</td>\n",
       "    </tr>\n",
       "    <tr>\n",
       "      <th>1</th>\n",
       "      <td>NDPK5</td>\n",
       "      <td>bw</td>\n",
       "      <td>3.760914</td>\n",
       "      <td>k_appmax</td>\n",
       "      <td>s-1</td>\n",
       "      <td>NaN</td>\n",
       "      <td>kappmax_KO_ALE_per_pp_per_s_ensemble_model</td>\n",
       "      <td>1</td>\n",
       "      <td>glucose_batch</td>\n",
       "      <td>NDPK5_bw</td>\n",
       "      <td>NUCLEOSIDE-DIP-KIN-CPLX</td>\n",
       "      <td>61.852000</td>\n",
       "      <td>4</td>\n",
       "      <td>15.043655</td>\n",
       "      <td>15.043655</td>\n",
       "      <td>0.001142</td>\n",
       "      <td>0.315157</td>\n",
       "    </tr>\n",
       "    <tr>\n",
       "      <th>2</th>\n",
       "      <td>SHK3Dr</td>\n",
       "      <td>fw</td>\n",
       "      <td>14.021283</td>\n",
       "      <td>k_appmax</td>\n",
       "      <td>s-1</td>\n",
       "      <td>NaN</td>\n",
       "      <td>kappmax_KO_ALE_per_pp_per_s_ensemble_model</td>\n",
       "      <td>1</td>\n",
       "      <td>glucose_batch</td>\n",
       "      <td>SHK3Dr_fw</td>\n",
       "      <td>AROE-MONOMER</td>\n",
       "      <td>29.414001</td>\n",
       "      <td>1</td>\n",
       "      <td>14.021283</td>\n",
       "      <td>14.021283</td>\n",
       "      <td>0.000583</td>\n",
       "      <td>0.315157</td>\n",
       "    </tr>\n",
       "    <tr>\n",
       "      <th>3</th>\n",
       "      <td>SHK3Dr</td>\n",
       "      <td>bw</td>\n",
       "      <td>3.461664</td>\n",
       "      <td>k_appmax</td>\n",
       "      <td>s-1</td>\n",
       "      <td>NaN</td>\n",
       "      <td>kappmax_KO_ALE_per_pp_per_s_ensemble_model</td>\n",
       "      <td>1</td>\n",
       "      <td>glucose_batch</td>\n",
       "      <td>SHK3Dr_bw</td>\n",
       "      <td>AROE-MONOMER</td>\n",
       "      <td>29.414001</td>\n",
       "      <td>1</td>\n",
       "      <td>3.461664</td>\n",
       "      <td>3.461664</td>\n",
       "      <td>0.002360</td>\n",
       "      <td>0.315157</td>\n",
       "    </tr>\n",
       "    <tr>\n",
       "      <th>4</th>\n",
       "      <td>NDPK6</td>\n",
       "      <td>fw</td>\n",
       "      <td>0.096211</td>\n",
       "      <td>k_appmax</td>\n",
       "      <td>s-1</td>\n",
       "      <td>NaN</td>\n",
       "      <td>kappmax_KO_ALE_per_pp_per_s_ensemble_model</td>\n",
       "      <td>1</td>\n",
       "      <td>glucose_batch</td>\n",
       "      <td>NDPK6_fw</td>\n",
       "      <td>NUCLEOSIDE-DIP-KIN-CPLX</td>\n",
       "      <td>61.852000</td>\n",
       "      <td>4</td>\n",
       "      <td>0.384845</td>\n",
       "      <td>0.384845</td>\n",
       "      <td>0.044644</td>\n",
       "      <td>0.315157</td>\n",
       "    </tr>\n",
       "  </tbody>\n",
       "</table>\n",
       "</div>"
      ],
      "text/plain": [
       "  reaction_id direction      value  par_type unit condition  \\\n",
       "0       NDPK5        fw   5.004318  k_appmax  s-1       NaN   \n",
       "1       NDPK5        bw   3.760914  k_appmax  s-1       NaN   \n",
       "2      SHK3Dr        fw  14.021283  k_appmax  s-1       NaN   \n",
       "3      SHK3Dr        bw   3.461664  k_appmax  s-1       NaN   \n",
       "4       NDPK6        fw   0.096211  k_appmax  s-1       NaN   \n",
       "\n",
       "                                        notes  saturation     model_type  \\\n",
       "0  kappmax_KO_ALE_per_pp_per_s_ensemble_model           1  glucose_batch   \n",
       "1  kappmax_KO_ALE_per_pp_per_s_ensemble_model           1  glucose_batch   \n",
       "2  kappmax_KO_ALE_per_pp_per_s_ensemble_model           1  glucose_batch   \n",
       "3  kappmax_KO_ALE_per_pp_per_s_ensemble_model           1  glucose_batch   \n",
       "4  kappmax_KO_ALE_per_pp_per_s_ensemble_model           1  glucose_batch   \n",
       "\n",
       "  directional_reaction_id                   enzyme         MW  \\\n",
       "0                NDPK5_fw  NUCLEOSIDE-DIP-KIN-CPLX  61.852000   \n",
       "1                NDPK5_bw  NUCLEOSIDE-DIP-KIN-CPLX  61.852000   \n",
       "2               SHK3Dr_fw             AROE-MONOMER  29.414001   \n",
       "3               SHK3Dr_bw             AROE-MONOMER  29.414001   \n",
       "4                NDPK6_fw  NUCLEOSIDE-DIP-KIN-CPLX  61.852000   \n",
       "\n",
       "   num_pp_subunits  kcat_times_pp_num  EC_kcat_value   ec_cost  \\\n",
       "0                4          20.017274      20.017274  0.000858   \n",
       "1                4          15.043655      15.043655  0.001142   \n",
       "2                1          14.021283      14.021283  0.000583   \n",
       "3                1           3.461664       3.461664  0.002360   \n",
       "4                4           0.384845       0.384845  0.044644   \n",
       "\n",
       "   enzyme_pool_bound_g_gDw  \n",
       "0                 0.315157  \n",
       "1                 0.315157  \n",
       "2                 0.315157  \n",
       "3                 0.315157  \n",
       "4                 0.315157  "
      ]
     },
     "execution_count": 15,
     "metadata": {},
     "output_type": "execute_result"
    }
   ],
   "source": [
    "EC_table=pd.read_csv('./reaction_enzyme_kcat_mapping/parsed/EC_table_w_manual_curation.csv')\n",
    "EC_table['MW']=pd.to_numeric(EC_table['MW'])\n",
    "EC_table['EC_kcat_value']=pd.to_numeric(EC_table['EC_kcat_value'])\n",
    "EC_table.head()"
   ]
  },
  {
   "cell_type": "markdown",
   "metadata": {},
   "source": [
    "## Build EC model"
   ]
  },
  {
   "cell_type": "code",
   "execution_count": 16,
   "metadata": {},
   "outputs": [
    {
     "name": "stdout",
     "output_type": "stream",
     "text": [
      "Read LP format model from file C:\\Users\\marco\\AppData\\Local\\Temp\\tmpnayqs_j0.lp\n",
      "Reading time = 0.01 seconds\n",
      ": 304 rows, 698 columns, 2988 nonzeros\n",
      "Read LP format model from file C:\\Users\\marco\\AppData\\Local\\Temp\\tmpsqn61wmp.lp\n",
      "Reading time = 0.00 seconds\n",
      ": 304 rows, 698 columns, 2988 nonzeros\n"
     ]
    }
   ],
   "source": [
    "general_EC_table=EC_table[EC_table['model_type']=='general']\n",
    "general_ec_model=EC_utils.create_ec_model_from_table(model=model,\n",
    "                                                     ec_table=general_EC_table,\n",
    "                                                     method='sMOMENT')\n",
    "general_ec_model.id='EC_iCH360'\n",
    "cobra.io.save_json_model(general_ec_model,'../../Model/EC_iCH360/EC_iCH360_unadjusted_kcats.json')\n",
    "cobra.io.write_sbml_model(general_ec_model, '../../Model/EC_iCH360/EC_iCH360_unadjusted_kcats.xml')\n",
    "\n",
    "general_ec_model=cobra.io.read_sbml_model('../../Model/EC_iCH360/EC_iCH360_unadjusted_kcats.xml')\n",
    "cobra.io.save_json_model(general_ec_model,'../../Model/EC_iCH360/EC_iCH360_unadjusted_kcats.json')\n",
    "cobra.io.write_sbml_model(general_ec_model, '../../Model/EC_iCH360/EC_iCH360_unadjusted_kcats.xml')\n",
    "\n",
    "sol_general=EC_utils.optimize_ec_model(general_ec_model,sigma=0.5)\n"
   ]
  }
 ],
 "metadata": {
  "kernelspec": {
   "display_name": "kinetic_data",
   "language": "python",
   "name": "python3"
  },
  "language_info": {
   "codemirror_mode": {
    "name": "ipython",
    "version": 3
   },
   "file_extension": ".py",
   "mimetype": "text/x-python",
   "name": "python",
   "nbconvert_exporter": "python",
   "pygments_lexer": "ipython3",
   "version": "3.10.9"
  }
 },
 "nbformat": 4,
 "nbformat_minor": 2
}
