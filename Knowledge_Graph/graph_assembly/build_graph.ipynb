{
 "cells": [
  {
   "cell_type": "markdown",
   "metadata": {},
   "source": [
    "# *i*CH360 Knowledge Graph assembly pipeline\n",
    "This script contains the complete pipeline used to parse, assemble and curate the *i*CH360 knowledge graph. \n",
    "\n",
    "**Important**\n",
    "\n",
    "The pipeline used to construct the graph uses extensive HTTP querying to the EcoCyc Database to retrieve information. To guarantee reproducibility, the output of all biocyc queries was serialised and cached, enabling the script to be run without querying the databse, and guaranteing reproducibility of results in this paper.\n",
    "\n",
    "However, it is possible to run the pipeline from scratch, retrieving required data from the online database. To this end, one must:\n",
    "1. create a file  with valid credentials (username and password) of an EcoCyc account. To this end, simply use `./graph_assembly/biocyc_username_and_password_template.csv` as a template, replace the placeholder username and password with yours, and save the modified file in the same directory as `./graph_assembly/biocyc_username_and_password.csv` (note the different filename with the template file).\n",
    "2. Run this script ,changing `USE_CACHE=True` into `USE_CACHE=False` in the next cell.\n",
    "\n",
    "In this case, we cannot guarantee maintainability/reproducibility of this script in the future"
   ]
  },
  {
   "cell_type": "code",
   "execution_count": 1,
   "metadata": {},
   "outputs": [],
   "source": [
    "#Change this to False if you wish to perform HTTP querying of EcoCyc\n",
    "USE_CACHE=True"
   ]
  },
  {
   "cell_type": "markdown",
   "metadata": {},
   "source": [
    "## Imports"
   ]
  },
  {
   "cell_type": "code",
   "execution_count": 2,
   "metadata": {},
   "outputs": [],
   "source": [
    "import importlib\n",
    "import cobra\n",
    "import sys\n",
    "import os\n",
    "sys.path.append('../../utils')\n",
    "import graph_utils\n",
    "importlib.reload(graph_utils)\n",
    "import numpy as np\n",
    "import pandas as pd\n",
    "import networkx as nx\n",
    "from tqdm import tqdm\n",
    "import pickle\n",
    "import biocyc_query_utils\n",
    "importlib.reload(biocyc_query_utils)\n",
    "import json"
   ]
  },
  {
   "cell_type": "markdown",
   "metadata": {},
   "source": [
    "## Preliminaries"
   ]
  },
  {
   "cell_type": "markdown",
   "metadata": {},
   "source": [
    "### Load Model and Biocyc Session"
   ]
  },
  {
   "cell_type": "code",
   "execution_count": 3,
   "metadata": {},
   "outputs": [
    {
     "name": "stdout",
     "output_type": "stream",
     "text": [
      "Set parameter Username\n",
      "Academic license - for non-commercial use only - expires 2025-03-12\n"
     ]
    }
   ],
   "source": [
    "#Load model\n",
    "model=cobra.io.read_sbml_model('../../Model/iCH360/Escherichia_coli_iCH360.xml')\n",
    "\n",
    "#establish Biocyc session. \n",
    "if USE_CACHE:\n",
    "    biocyc_session=None\n",
    "    #Uncomment the next two lines if you still wish to establish a biocyc session even if using the cache\n",
    "    #biocyc_credential=pd.read_csv('./biocyc_username_and_password.csv').iloc[0]\n",
    "    #biocyc_session=biocyc_query_utils.establish_biocyc_session(email=biocyc_credential['username'],password=biocyc_credential['password'])\n",
    "\n",
    "else:\n",
    "    biocyc_credential=pd.read_csv('./biocyc_username_and_password.csv').iloc[0]\n",
    "    biocyc_session=biocyc_query_utils.establish_biocyc_session(email=biocyc_credential['username'],\n",
    "                                                        password=biocyc_credential['password'])\n"
   ]
  },
  {
   "cell_type": "markdown",
   "metadata": {},
   "source": [
    "### Prepare reactions to include in graph and bigg2biocyc mappings"
   ]
  },
  {
   "cell_type": "code",
   "execution_count": 4,
   "metadata": {},
   "outputs": [
    {
     "name": "stdout",
     "output_type": "stream",
     "text": [
      "323 reactions to parse into the annotation graph\n",
      "  bigg_reaction_id                   biocyc_reaction_id\n",
      "0            NDPK5                    ECOLI:DGDPKIN-RXN\n",
      "1           SHK3Dr  ECOLI:SHIKIMATE-5-DEHYDROGENASE-RXN\n",
      "2            NDPK6                    ECOLI:DUDPKIN-RXN\n",
      "3            NDPK8                    ECOLI:DADPKIN-RXN\n",
      "4           DHORTS                ECOLI:DIHYDROOROT-RXN\n"
     ]
    }
   ],
   "source": [
    "reactions_to_parse=[r.id for r in model.reactions if r not in model.boundary]\n",
    "print(f'{len(reactions_to_parse)} reactions to parse into the annotation graph')\n",
    "\n",
    "bigg2biocyc_df=pd.read_csv('../../Annotation/BioCyc/bigg_biocyc_map.tsv',sep='\\t',index_col=0)\n",
    "print(bigg2biocyc_df.head())\n",
    "\n",
    "bigg2biocyc_dict=bigg2biocyc_df.set_index('bigg_reaction_id').to_dict()['biocyc_reaction_id']\n"
   ]
  },
  {
   "cell_type": "markdown",
   "metadata": {},
   "source": [
    "### Biocyc Objects CACHE specification (for reproducibility and/or faster parsing)"
   ]
  },
  {
   "cell_type": "code",
   "execution_count": 5,
   "metadata": {},
   "outputs": [
    {
     "name": "stdout",
     "output_type": "stream",
     "text": [
      "Loading cache from cache/biocyc_objects_cache.pkl\n"
     ]
    }
   ],
   "source": [
    "cache_file='cache/biocyc_objects_cache.pkl'\n",
    "\n",
    "if os.path.exists(cache_file):\n",
    "    print(f'Loading cache from {cache_file}')\n",
    "    with open(cache_file,'rb') as f:\n",
    "        biocyc_objects=pickle.load(f)\n",
    "else:\n",
    "    biocyc_objects=None"
   ]
  },
  {
   "cell_type": "markdown",
   "metadata": {},
   "source": [
    "## Parse catalytic and protein composition relationships from Biocyc \n",
    "Note: We are going to add manual curation (including additional nodes, edges functional annotations, and other) later in the script"
   ]
  },
  {
   "cell_type": "code",
   "execution_count": 6,
   "metadata": {},
   "outputs": [],
   "source": [
    "if USE_CACHE:\n",
    "    with open('tmp/graph_dict_from_ecocyc.pkl','rb') as f:\n",
    "        graph_dict_ecocyc=pickle.load(f)\n",
    "else:\n",
    "    graph_dict_ecocyc=graph_utils.build_graph_tables(session=biocyc_session,\n",
    "                                                bigg_rxns=reactions_to_parse,\n",
    "                                                bigg2biocyc_map=bigg2biocyc_dict,\n",
    "                                                db='ECOLI',\n",
    "                                                out_path='./tmp/',\n",
    "                                                cache=biocyc_objects)\n",
    "    with open('tmp/graph_dict_from_ecocyc.pkl','wb') as f:\n",
    "        pickle.dump(graph_dict_ecocyc,f)"
   ]
  },
  {
   "cell_type": "markdown",
   "metadata": {},
   "source": [
    "## Add small molecule regulation\n",
    "Regulatory Information from EcoCyc was parsed separately"
   ]
  },
  {
   "cell_type": "code",
   "execution_count": 7,
   "metadata": {},
   "outputs": [],
   "source": [
    "if USE_CACHE:\n",
    "    with open('cache/small_molecule_regulation_biocyc_cache.pkl','rb') as file:\n",
    "        regulatory_data_from_ecocyc=pickle.load(file)\n",
    "else:\n",
    "    biocyc_rxn_ids=[node['biocyc_id'] for node in graph_dict_ecocyc['nodes'] if node['type']=='reaction']\n",
    "    regulatory_data_from_ecocyc=biocyc_query_utils.parse_regulation_info(biocyc_rxn_ids=biocyc_rxn_ids,\n",
    "                                        biocyc_session=biocyc_session,\n",
    "                                        cache=graph_dict_ecocyc['objects'])\n",
    "    with open('cache/small_molecule_regulation_biocyc_cache.pkl','wb') as file:\n",
    "        pickle.dump(regulatory_data_from_ecocyc,file)"
   ]
  },
  {
   "cell_type": "code",
   "execution_count": 8,
   "metadata": {},
   "outputs": [
    {
     "name": "stderr",
     "output_type": "stream",
     "text": [
      "100%|██████████| 803/803 [00:00<00:00, 11579.86it/s]\n"
     ]
    }
   ],
   "source": [
    "bigg_ecocyc_metabolite_map=pd.read_csv('../../Annotation/BioCyc/metabolites_bigg_biocyc_map.csv',index_col=0).drop_duplicates().set_index('bigg.metabolite')\n",
    "bigg_ecocyc_metabolite_map_dict={}\n",
    "for id in bigg_ecocyc_metabolite_map.index:\n",
    "    if not pd.isna(bigg_ecocyc_metabolite_map.loc[id,'biocyc_id']):\n",
    "        bigg_ecocyc_metabolite_map_dict[bigg_ecocyc_metabolite_map.loc[id,'biocyc_id'].replace('META:','') ]=id\n",
    "added_regulator_ids=[]\n",
    "for entry_id,entry in tqdm(regulatory_data_from_ecocyc.items()):\n",
    "    biocyc_id=entry_id\n",
    "    regulation=entry.find('./Regulation')\n",
    "    regulators=regulation.findall('./regulator/')\n",
    "    for regulator in regulators:\n",
    "        biocyc_regulator_type=regulator.tag\n",
    "        if biocyc_regulator_type=='Compound':\n",
    "            regulator_type='compound'\n",
    "            regulator_subtype='NA'\n",
    "        elif biocyc_regulator_type=='Protein':\n",
    "            regulator_type='protein'\n",
    "            if regulator.attrib['frameid'] in biocyc_objects:\n",
    "                regulator_obj=biocyc_objects[regulator.attrib['frameid']]\n",
    "            else:\n",
    "                print(f\"Regulator {regulator.attrib['frameid']} not found in Biocyc object cache. Querying Biocyc from API\")\n",
    "                regulator_obj=biocyc_query_utils.get_biocyc_object(biocyc_session,regulator.attrib['frameid'])\n",
    "                biocyc_objects[regulator.attrib['frameid']]=regulator_obj\n",
    "            if len(regulator_obj.findall('.//Protein/component'))>0:\n",
    "                regulator_subtype='multimeric_protein'\n",
    "            elif len(regulator_obj.findall('.//Protein/unmodified-form/Protein'))==1:\n",
    "                regulator_subtype='modified_protein'\n",
    "            else:\n",
    "                regulator_subtype='polypeptide'\n",
    "        else:\n",
    "            regulator_type=biocyc_regulator_type\n",
    "        regulator_id=regulator.attrib['frameid']\n",
    "        regulator_biocyc_id=f\"{regulator.attrib['orgid']}:{regulator.attrib['frameid']}\"\n",
    "        enzyme=regulation.find('./regulated-entity/Enzymatic-Reaction/enzyme/Protein').attrib['frameid']\n",
    "        regulated_reaction=regulation.find('./regulated-entity/Enzymatic-Reaction/reaction/Reaction').attrib['frameid']\n",
    "        if regulation.find('./mechanism') is not None:\n",
    "            mechanism=regulation.find('./mechanism').text\n",
    "        else:\n",
    "            mechanism='NA'\n",
    "        regulation_mode=regulation.find('./mode').text\n",
    "\n",
    "        if regulator_id in bigg_ecocyc_metabolite_map_dict.keys():\n",
    "            regulator_bigg_id=bigg_ecocyc_metabolite_map_dict[regulator_id]\n",
    "        else:\n",
    "           regulator_bigg_id='NA'\n",
    "        #Ki info\n",
    "        if regulation.findall('./ki'):\n",
    "            KIs=[float(x.text) for x in regulation.findall('./ki')]\n",
    "            ki=np.median(KIs)\n",
    "            ki_units=[x.attrib['units'] for x in regulation.findall('./ki')]\n",
    "            if len(set(ki_units))>1:\n",
    "                print(f'WARNING: different units found for {entry_id}. Skipping KI assignment')\n",
    "            else:\n",
    "                ki_unit=ki_units[0]\n",
    "        else:\n",
    "            ki='NA'\n",
    "            ki_unit='NA'\n",
    "\n",
    "\n",
    "        #Add a node for the regulator, unless this already exists\n",
    "        if regulator_type=='compound':\n",
    "            regulator_node_id=regulator_id\n",
    "            regulator_node={\"id\":regulator_id,\n",
    "                            \"bigg_id\":regulator_bigg_id,\n",
    "                            \"type\":regulator_type,\n",
    "                            \"subtype\":regulator_subtype,\n",
    "                            \"biocyc_id\":regulator_id,\n",
    "                            }\n",
    "        else:\n",
    "            regulator_node_id=regulator_id#+'_regulator'\n",
    "            regulator_node={\"id\":regulator_node_id,\n",
    "                            \"type\":regulator_type,\n",
    "                            \"subtype\":regulator_subtype,\n",
    "                            \"biocyc_id\":regulator_id,\n",
    "                            }\n",
    "\n",
    "        regulation_edge={'source':regulator_node_id,\n",
    "                        'target': enzyme,\n",
    "                         'type': 'regulation',\n",
    "                         'regulated_reaction':regulated_reaction,\n",
    "                        'mechanism':mechanism,\n",
    "                        'regulation_mode':regulation_mode,\n",
    "                        'weight': ki,\n",
    "                        \"weight_unit\":ki_unit,\n",
    "                        'subtype': 'NA',\n",
    "                        'notes': '',\n",
    "                        'references': ''}\n",
    "        if regulator_node_id not in [node['id'] for node in graph_dict_ecocyc['nodes'] ]:\n",
    "            graph_dict_ecocyc['nodes'].append(regulator_node)\n",
    "            added_regulator_ids.append(regulator_id)\n",
    "        graph_dict_ecocyc['edges'].append(regulation_edge)\n",
    "with open('tmp/graph_dict_from_ecocyc_w_regulation.pkl','wb') as f:\n",
    "    pickle.dump(graph_dict_ecocyc,f)\n",
    "with open(cache_file,'wb') as file:\n",
    "    pickle.dump(biocyc_objects,file)\n"
   ]
  },
  {
   "cell_type": "markdown",
   "metadata": {},
   "source": [
    "## Checkpoint 1"
   ]
  },
  {
   "cell_type": "code",
   "execution_count": 9,
   "metadata": {},
   "outputs": [],
   "source": [
    "with open('tmp/graph_dict_from_ecocyc_w_regulation.pkl','rb') as f:\n",
    "    graph_dict_ecocyc=pickle.load(f)"
   ]
  },
  {
   "cell_type": "markdown",
   "metadata": {},
   "source": [
    "## Manual Curation"
   ]
  },
  {
   "cell_type": "code",
   "execution_count": 11,
   "metadata": {},
   "outputs": [],
   "source": [
    "if USE_CACHE:\n",
    "    with open('tmp/graph_dict_w_manual_curation.pkl','rb') as f:\n",
    "        graph_dict_curated=pickle.load(f)\n",
    "else:\n",
    "    graph_dict_curated=graph_dict_ecocyc.copy()"
   ]
  },
  {
   "cell_type": "markdown",
   "metadata": {},
   "source": [
    "### Spontaneous reactions\n"
   ]
  },
  {
   "cell_type": "code",
   "execution_count": 12,
   "metadata": {},
   "outputs": [
    {
     "name": "stdout",
     "output_type": "stream",
     "text": [
      "adding edges of type spontaneous forreactions ['G5SADs', 'H2Otex', 'O2tpp', 'CO2tpp', 'ACALDtpp', 'NH4tpp', 'GLYCtpp', 'H2Otpp', 'OMCDC', 'ETOHtrpp']\n",
      "Adding new edge between bigg:G5SADs and spontaneous_pseudogene\n",
      "Adding child node {'id': 'spontaneous_pseudogene', 'type': 'spontaneous', 'subtype': 'NA', 'biocyc_id': None} to the graph dict\n",
      "Adding new edge between bigg:H2Otex and spontaneous_pseudogene\n",
      "Adding new edge between bigg:O2tpp and spontaneous_pseudogene\n",
      "Adding new edge between bigg:CO2tpp and spontaneous_pseudogene\n",
      "Adding new edge between bigg:ACALDtpp and spontaneous_pseudogene\n",
      "Adding new edge between bigg:NH4tpp and spontaneous_pseudogene\n",
      "Adding new edge between bigg:GLYCtpp and spontaneous_pseudogene\n",
      "Adding new edge between bigg:H2Otpp and spontaneous_pseudogene\n",
      "Adding new edge between bigg:OMCDC and spontaneous_pseudogene\n",
      "Adding new edge between bigg:ETOHtrpp and spontaneous_pseudogene\n"
     ]
    }
   ],
   "source": [
    "if not USE_CACHE:\n",
    "    spontaneous_rxns=[r.id for r in model.reactions if 's0001' in r.gene_reaction_rule]\n",
    "    print(f'adding edges of type spontaneous forreactions {spontaneous_rxns}')\n",
    "\n",
    "    spontaneous_node={'id':'spontaneous_pseudogene',\n",
    "                    'type':'spontaneous',\n",
    "                    \"subtype\":\"NA\",\n",
    "                    'biocyc_id':None}\n",
    "    for rxn in spontaneous_rxns:\n",
    "        parent_node=[node for node in graph_dict_curated['nodes'] if node['id']==f'bigg:{rxn}'][0]\n",
    "        graph_dict_curated\n",
    "        graph_dict_curated=graph_utils.add_edge(graph_dict_curated,\n",
    "                                                parent_node=parent_node,\n",
    "                                                child_node=spontaneous_node,\n",
    "                                                 weight='NA',\n",
    "                                                type='spontaneous_reaction',\n",
    "                                                parse_from_biocyc=False\n",
    "                                                )\n",
    "                                                \n",
    "                        "
   ]
  },
  {
   "cell_type": "markdown",
   "metadata": {},
   "source": [
    "### Reactions involving Proteins as metabolites"
   ]
  },
  {
   "cell_type": "code",
   "execution_count": 13,
   "metadata": {},
   "outputs": [
    {
     "name": "stdout",
     "output_type": "stream",
     "text": [
      "adding edges of type protein_metabolite for reactions ['KAS14', 'MCOATA', 'ACOATA', '3OAS161', '3OAS141', '3OAS181', '3OAS140', '3OAS60', '3OAS160', '3OAS121', '3OAS80', '3OAS100', '3OAS120', '3OAS180']\n",
      "Adding new edge between bigg:KAS14 and ACP-MONOMER\n",
      "Parsing components of ACP-MONOMER from biocyc as this node was not found in the graph\n",
      "Adding new edge between bigg:MCOATA and ACP-MONOMER\n",
      "Adding new edge between bigg:ACOATA and ACP-MONOMER\n",
      "Adding new edge between bigg:3OAS161 and ACP-MONOMER\n",
      "Adding new edge between bigg:3OAS141 and ACP-MONOMER\n",
      "Adding new edge between bigg:3OAS181 and ACP-MONOMER\n",
      "Adding new edge between bigg:3OAS140 and ACP-MONOMER\n",
      "Adding new edge between bigg:3OAS60 and ACP-MONOMER\n",
      "Adding new edge between bigg:3OAS160 and ACP-MONOMER\n",
      "Adding new edge between bigg:3OAS121 and ACP-MONOMER\n",
      "Adding new edge between bigg:3OAS80 and ACP-MONOMER\n",
      "Adding new edge between bigg:3OAS100 and ACP-MONOMER\n",
      "Adding new edge between bigg:3OAS120 and ACP-MONOMER\n",
      "Adding new edge between bigg:3OAS180 and ACP-MONOMER\n"
     ]
    }
   ],
   "source": [
    "if not USE_CACHE:\n",
    "    # 1. Acyl_carrying-protein (ACP\n",
    "    reactions_involving_acp=[r.id for r in model.reactions if 'ACP_c' in[m.id for m in r.metabolites.keys()]]\n",
    "    reactions_involving_acp.remove('Biomass')\n",
    "    print(f'adding edges of type protein_metabolite for reactions {reactions_involving_acp}')\n",
    "\n",
    "    acp_node= {'id':'ACP-MONOMER',\n",
    "                'type':'protein',\n",
    "                \"subtype\":'polypeptide',\n",
    "                'biocyc_id':'ACP-MONOMER'\n",
    "                }\n",
    "    metadata={'notes':'Free Acyl Carrying Protein (ACP) is involved in this reaction and is thus required for the reaction to operate.'}\n",
    "    for acp_rxn in reactions_involving_acp:\n",
    "        parent_node=[node for node in graph_dict_curated['nodes'] if node['id']==f'bigg:{acp_rxn}'][0]\n",
    "        child_node=acp_node\n",
    "        graph_dict_curated=graph_utils.add_edge(\n",
    "                            graph_dict=graph_dict_curated,\n",
    "                            parent_node=parent_node,\n",
    "                            child_node=child_node,\n",
    "                            weight='NA',\n",
    "                            type='non_catalytic_requirement',\n",
    "                            session=biocyc_session,\n",
    "                            parse_from_biocyc=True                         \n",
    "                            )"
   ]
  },
  {
   "cell_type": "code",
   "execution_count": 14,
   "metadata": {},
   "outputs": [
    {
     "name": "stdout",
     "output_type": "stream",
     "text": [
      "adding edges of type protein_metabolite for reactions ['RNDR1', 'RNDR3', 'RNDR4', 'TRDR', 'PAPSR', 'RNDR2']\n",
      "Adding new edge between bigg:RNDR1 and THIOREDOXINS\n",
      "Adding child node {'id': 'THIOREDOXINS', 'type': 'logical_OR', 'subtype': 'NA', 'biocyc_id': None} to the graph dict\n",
      "Adding new edge between THIOREDOXINS and RED-THIOREDOXIN-MONOMER\n",
      "Parsing components of RED-THIOREDOXIN-MONOMER from biocyc as this node was not found in the graph\n",
      "Adding new edge between THIOREDOXINS and RED-THIOREDOXIN2-MONOMER\n",
      "Parsing components of RED-THIOREDOXIN2-MONOMER from biocyc as this node was not found in the graph\n",
      "Adding new edge between bigg:RNDR3 and THIOREDOXINS\n",
      "Edge between THIOREDOXINS and RED-THIOREDOXIN-MONOMER already exists. Skipping\n",
      "Edge between THIOREDOXINS and RED-THIOREDOXIN2-MONOMER already exists. Skipping\n",
      "Adding new edge between bigg:RNDR4 and THIOREDOXINS\n",
      "Edge between THIOREDOXINS and RED-THIOREDOXIN-MONOMER already exists. Skipping\n",
      "Edge between THIOREDOXINS and RED-THIOREDOXIN2-MONOMER already exists. Skipping\n",
      "Adding new edge between bigg:TRDR and THIOREDOXINS\n",
      "Edge between THIOREDOXINS and RED-THIOREDOXIN-MONOMER already exists. Skipping\n",
      "Edge between THIOREDOXINS and RED-THIOREDOXIN2-MONOMER already exists. Skipping\n",
      "Adding new edge between bigg:PAPSR and THIOREDOXINS\n",
      "Edge between THIOREDOXINS and RED-THIOREDOXIN-MONOMER already exists. Skipping\n",
      "Edge between THIOREDOXINS and RED-THIOREDOXIN2-MONOMER already exists. Skipping\n",
      "Adding new edge between bigg:RNDR2 and THIOREDOXINS\n",
      "Edge between THIOREDOXINS and RED-THIOREDOXIN-MONOMER already exists. Skipping\n",
      "Edge between THIOREDOXINS and RED-THIOREDOXIN2-MONOMER already exists. Skipping\n"
     ]
    }
   ],
   "source": [
    "if not USE_CACHE:\n",
    "    #2. protein redox cofactors\n",
    "    #Thioredoxin ================================\n",
    "    reactions_involving_trd=[r.id for r in model.reactions if 'trdrd_c' in[m.id for m in r.metabolites.keys()]]\n",
    "    print(f'adding edges of type protein_metabolite for reactions {reactions_involving_trd}')\n",
    "\n",
    "    trdr_nodes=[{'id':id,'type':'protein','subtype':'polypeptide','biocyc_id':id} for id in ['RED-THIOREDOXIN-MONOMER','RED-THIOREDOXIN2-MONOMER']]\n",
    "    trdr1_OR_trdr2_node= {'id':'THIOREDOXINS','type':'logical_OR','subtype':'NA','biocyc_id':None}\n",
    "    metadata={'notes':'Thioredoxin is involved in this reaction as a redox cofactor'}\n",
    "    for trdr_rxn in reactions_involving_trd:\n",
    "        parent_node=[node for node in graph_dict_curated['nodes'] if node['id']==f'bigg:{trdr_rxn}'][0]\n",
    "        graph_dict_curated=graph_utils.add_edge(\n",
    "                            graph_dict=graph_dict_curated,\n",
    "                            parent_node=parent_node,\n",
    "                            child_node=trdr1_OR_trdr2_node,\n",
    "                             weight='NA',\n",
    "                            type='non_catalytic_requirement',\n",
    "                            metadata=metadata,\n",
    "                            parse_from_biocyc=False                         \n",
    "                            )\n",
    "        for trdr_node in trdr_nodes:\n",
    "            graph_dict_curated=graph_utils.add_edge(\n",
    "                            graph_dict=graph_dict_curated,\n",
    "                            parent_node=trdr1_OR_trdr2_node,\n",
    "                            child_node=trdr_node,\n",
    "                            weight='NA',\n",
    "                            type='logical',\n",
    "                            metadata=metadata,\n",
    "                            parse_from_biocyc=True,\n",
    "                            session=biocyc_session                        \n",
    "                            )\n"
   ]
  },
  {
   "cell_type": "code",
   "execution_count": 15,
   "metadata": {},
   "outputs": [
    {
     "name": "stdout",
     "output_type": "stream",
     "text": [
      "adding edges of type protein_metabolite for reactions ['GRXR', 'RNDR1b', 'RNDR2b']\n",
      "Adding new edge between bigg:GRXR and GLUTAREDOXINS\n",
      "Adding child node {'id': 'GLUTAREDOXINS', 'type': 'logical_OR', 'subtype': 'NA', 'biocyc_id': None} to the graph dict\n",
      "Adding new edge between GLUTAREDOXINS and RED-GLUTAREDOXIN\n",
      "Adding new edge between GLUTAREDOXINS and GRXB-MONOMER\n",
      "Adding new edge between GLUTAREDOXINS and GRXC-MONOMER\n",
      "Adding new edge between bigg:RNDR1b and GLUTAREDOXINS\n",
      "Edge between GLUTAREDOXINS and RED-GLUTAREDOXIN already exists. Skipping\n",
      "Edge between GLUTAREDOXINS and GRXB-MONOMER already exists. Skipping\n",
      "Edge between GLUTAREDOXINS and GRXC-MONOMER already exists. Skipping\n",
      "Adding new edge between bigg:RNDR2b and GLUTAREDOXINS\n",
      "Edge between GLUTAREDOXINS and RED-GLUTAREDOXIN already exists. Skipping\n",
      "Edge between GLUTAREDOXINS and GRXB-MONOMER already exists. Skipping\n",
      "Edge between GLUTAREDOXINS and GRXC-MONOMER already exists. Skipping\n"
     ]
    }
   ],
   "source": [
    "if not USE_CACHE:\n",
    "    #glutaredoxin ================================\n",
    "    reactions_involving_grx=[r.id for r in model.reactions if 'grxrd_c' in[m.id for m in r.metabolites.keys()]]\n",
    "    print(f'adding edges of type protein_metabolite for reactions {reactions_involving_grx}')\n",
    "\n",
    "\n",
    "    grx_nodes=[{'id':id,'type':'protein','subtype':'polypeptide','biocyc_id':id} for id in ['RED-GLUTAREDOXIN','GRXB-MONOMER','GRXC-MONOMER']]\n",
    "    grx_OR_node= {'id':'GLUTAREDOXINS','type':'logical_OR','subtype':'NA','biocyc_id':None}\n",
    "    metadata={'notes':'Glutaredoxin is involved in this reaction as a redox cofactor'}\n",
    "    for grx_rxn in reactions_involving_grx:\n",
    "        parent_node=[node for node in graph_dict_curated['nodes'] if node['id']==f'bigg:{grx_rxn}'][0]\n",
    "        graph_dict_curated=graph_utils.add_edge(\n",
    "                            graph_dict=graph_dict_curated,\n",
    "                            parent_node=parent_node,\n",
    "                            child_node=grx_OR_node,\n",
    "                            weight='NA',\n",
    "                            type='non_catalytic_requirement',\n",
    "                            metadata=metadata,\n",
    "                            parse_from_biocyc=False                         \n",
    "                            )\n",
    "        for grx_node in grx_nodes:\n",
    "            graph_dict_curated=graph_utils.add_edge(\n",
    "                                graph_dict=graph_dict_curated,\n",
    "                                parent_node=grx_OR_node,\n",
    "                                child_node=grx_node,\n",
    "                                 weight='NA',\n",
    "                                type='logical',\n",
    "                                metadata=metadata,\n",
    "                                session=biocyc_session,\n",
    "                                parse_from_biocyc=True                         \n",
    "                                )"
   ]
  },
  {
   "cell_type": "markdown",
   "metadata": {},
   "source": [
    "### Manually curated edges\n",
    "\n",
    "Here, we include a number of manually curated edges into the graph. These may be\n",
    "- Edges that are not found in Ecocyc\n",
    "- Changes to attributs for edges already found in EcoCyc"
   ]
  },
  {
   "cell_type": "code",
   "execution_count": 16,
   "metadata": {},
   "outputs": [
    {
     "data": {
      "text/html": [
       "<div>\n",
       "<style scoped>\n",
       "    .dataframe tbody tr th:only-of-type {\n",
       "        vertical-align: middle;\n",
       "    }\n",
       "\n",
       "    .dataframe tbody tr th {\n",
       "        vertical-align: top;\n",
       "    }\n",
       "\n",
       "    .dataframe thead th {\n",
       "        text-align: right;\n",
       "    }\n",
       "</style>\n",
       "<table border=\"1\" class=\"dataframe\">\n",
       "  <thead>\n",
       "    <tr style=\"text-align: right;\">\n",
       "      <th></th>\n",
       "      <th>bigg_rxn_id</th>\n",
       "      <th>biocyc_rxn_id</th>\n",
       "      <th>parent_node</th>\n",
       "      <th>parent_node_type</th>\n",
       "      <th>parent_node_subtype</th>\n",
       "      <th>parent_node_biocyc_id</th>\n",
       "      <th>child_node</th>\n",
       "      <th>child_node_type</th>\n",
       "      <th>child_node_subtype</th>\n",
       "      <th>child_node_biocyc_id</th>\n",
       "      <th>edge_weight</th>\n",
       "      <th>edge_source</th>\n",
       "      <th>edge_type</th>\n",
       "      <th>edge_subtype</th>\n",
       "      <th>putative</th>\n",
       "      <th>edge_notes</th>\n",
       "      <th>edge_ref</th>\n",
       "      <th>putative_removal</th>\n",
       "      <th>putative_removal_notes</th>\n",
       "    </tr>\n",
       "  </thead>\n",
       "  <tbody>\n",
       "    <tr>\n",
       "      <th>0</th>\n",
       "      <td>SHK3Dr</td>\n",
       "      <td>SHIKIMATE-5-DEHYDROGENASE-RXN</td>\n",
       "      <td>bigg:SHK3Dr</td>\n",
       "      <td>reaction</td>\n",
       "      <td>NaN</td>\n",
       "      <td>SHIKIMATE-5-DEHYDROGENASE-RXN</td>\n",
       "      <td>EG11234-MONOMER</td>\n",
       "      <td>protein</td>\n",
       "      <td>polypeptide</td>\n",
       "      <td>EG11234-MONOMER</td>\n",
       "      <td>NaN</td>\n",
       "      <td>iml1515</td>\n",
       "      <td>catalysis</td>\n",
       "      <td>secondary</td>\n",
       "      <td>False</td>\n",
       "      <td>shikimate dehydrogenase with much lower activi...</td>\n",
       "      <td>PMID:12637497</td>\n",
       "      <td>NaN</td>\n",
       "      <td>NaN</td>\n",
       "    </tr>\n",
       "    <tr>\n",
       "      <th>1</th>\n",
       "      <td>NDPK6</td>\n",
       "      <td>DUDPKIN-RXN</td>\n",
       "      <td>bigg:NDPK6</td>\n",
       "      <td>reaction</td>\n",
       "      <td>NaN</td>\n",
       "      <td>DUDPKIN-RXN</td>\n",
       "      <td>ADENYL-KIN-MONOMER</td>\n",
       "      <td>protein</td>\n",
       "      <td>polypeptide</td>\n",
       "      <td>ADENYL-KIN-MONOMER</td>\n",
       "      <td>NaN</td>\n",
       "      <td>iml1515</td>\n",
       "      <td>catalysis</td>\n",
       "      <td>secondary</td>\n",
       "      <td>False</td>\n",
       "      <td>adenylate kinase main catalytic function is bi...</td>\n",
       "      <td>PMID:8650159;PMID:15941717</td>\n",
       "      <td>NaN</td>\n",
       "      <td>NaN</td>\n",
       "    </tr>\n",
       "  </tbody>\n",
       "</table>\n",
       "</div>"
      ],
      "text/plain": [
       "  bigg_rxn_id                  biocyc_rxn_id  parent_node parent_node_type  \\\n",
       "0      SHK3Dr  SHIKIMATE-5-DEHYDROGENASE-RXN  bigg:SHK3Dr         reaction   \n",
       "1       NDPK6                    DUDPKIN-RXN   bigg:NDPK6         reaction   \n",
       "\n",
       "  parent_node_subtype          parent_node_biocyc_id          child_node  \\\n",
       "0                 NaN  SHIKIMATE-5-DEHYDROGENASE-RXN     EG11234-MONOMER   \n",
       "1                 NaN                    DUDPKIN-RXN  ADENYL-KIN-MONOMER   \n",
       "\n",
       "  child_node_type child_node_subtype child_node_biocyc_id  edge_weight  \\\n",
       "0         protein        polypeptide      EG11234-MONOMER          NaN   \n",
       "1         protein        polypeptide   ADENYL-KIN-MONOMER          NaN   \n",
       "\n",
       "  edge_source  edge_type edge_subtype putative  \\\n",
       "0     iml1515  catalysis    secondary    False   \n",
       "1     iml1515  catalysis    secondary    False   \n",
       "\n",
       "                                          edge_notes  \\\n",
       "0  shikimate dehydrogenase with much lower activi...   \n",
       "1  adenylate kinase main catalytic function is bi...   \n",
       "\n",
       "                     edge_ref putative_removal putative_removal_notes  \n",
       "0               PMID:12637497              NaN                    NaN  \n",
       "1  PMID:8650159;PMID:15941717              NaN                    NaN  "
      ]
     },
     "execution_count": 16,
     "metadata": {},
     "output_type": "execute_result"
    }
   ],
   "source": [
    "edges_manual_curation=pd.read_csv('manual_curation/edge_functional_curation.csv')\n",
    "edges_manual_curation.head(2)"
   ]
  },
  {
   "cell_type": "code",
   "execution_count": 17,
   "metadata": {},
   "outputs": [
    {
     "name": "stdout",
     "output_type": "stream",
     "text": [
      "Adding new edge between bigg:SHK3Dr and EG11234-MONOMER\n",
      "Parsing components of EG11234-MONOMER from biocyc as this node was not found in the graph\n",
      "Adding new edge between bigg:NDPK6 and ADENYL-KIN-MONOMER\n",
      "Adding new edge between bigg:NDPK8 and ADENYL-KIN-MONOMER\n",
      "Overwriting edge between bigg:NDPK1 and ADENYL-KIN-MONOMER\n",
      "Overwriting edge between bigg:NDPK2 and ADENYL-KIN-MONOMER\n",
      "Overwriting edge between bigg:NDPK4 and ADENYL-KIN-MONOMER\n",
      "Overwriting edge between bigg:NDPK5 and ADENYL-KIN-MONOMER\n",
      "Overwriting edge between bigg:NDPK7 and ADENYL-KIN-MONOMER\n",
      "Adding new edge between bigg:XYLK and RIBULOKIN-MONOMER\n",
      "Parsing components of RIBULOKIN-MONOMER from biocyc as this node was not found in the graph\n",
      "Adding new edge between bigg:ASPTA and TYRB-DIMER\n",
      "Overwriting edge between bigg:PHETA1 and BRANCHED-CHAINAMINOTRANSFER-CPLX\n",
      "Overwriting edge between bigg:PHETA1 and ASPAMINOTRANS-DIMER\n",
      "Overwriting edge between bigg:TYRTA and ASPAMINOTRANS-DIMER\n",
      "Adding new edge between bigg:TYRTA and BRANCHED-CHAINAMINOTRANSFER-CPLX\n",
      "Adding new edge between bigg:FBP and EG11195-MONOMER\n",
      "Parsing components of EG11195-MONOMER from biocyc as this node was not found in the graph\n",
      "Adding new edge between bigg:FBP and EG11736-MONOMER\n",
      "Parsing components of EG11736-MONOMER from biocyc as this node was not found in the graph\n",
      "Overwriting edge between bigg:FBP and CPLX0-303\n",
      "Overwriting edge between bigg:FBP and EG11239-MONOMER\n",
      "Overwriting edge between bigg:FBP and CPLX0-7776\n",
      "Overwriting edge between bigg:FBP and ALKAPHOSPHA-CPLX\n",
      "Adding new edge between bigg:PGM and PGMI-MONOMER\n",
      "Parsing components of PGMI-MONOMER from biocyc as this node was not found in the graph\n",
      "Overwriting edge between bigg:PFL and PYRUVFORMLY-CPLX\n",
      "Overwriting edge between PYRUVFORMLY-CPLX and PYRUVFORMLY-INACTIVE-CPLX\n",
      "Adding new edge between PYRUVFORMLY-CPLX and PFLACTENZ-MONOMER\n",
      "Parsing components of PFLACTENZ-MONOMER from biocyc as this node was not found in the graph\n",
      "Overwriting edge between bigg:PFL and KETOBUTFORMLY-MONOMER\n",
      "Overwriting edge between KETOBUTFORMLY-MONOMER and KETOBUTFORMLY-INACT-MONOMER\n",
      "Adding new edge between KETOBUTFORMLY-MONOMER and PFLACTENZ-MONOMER\n",
      "Overwriting edge between bigg:PFL and CPLX0-9871\n",
      "Overwriting edge between CPLX0-9871 and PYRUVFORMLY-CPLX\n",
      "Overwriting edge between CPLX0-9871 and EG11784-MONOMER\n",
      "Adding new edge between CPLX0-9871 and PFLACTENZ-MONOMER\n",
      "Adding new edge between bigg:PFL and EG11910-MONOMER\n",
      "Parsing components of EG11910-MONOMER from biocyc as this node was not found in the graph\n",
      "Adding new edge between bigg:PFL and EG11911-MONOMER\n",
      "Parsing components of EG11911-MONOMER from biocyc as this node was not found in the graph\n",
      "Overwriting edge between bigg:ACKr and GARTRANSFORMYL2-MONOMER\n",
      "Adding new edge between bigg:ACKr and PROPKIN-MONOMER\n",
      "Parsing components of PROPKIN-MONOMER from biocyc as this node was not found in the graph\n",
      "Adding new edge between bigg:SDPTA and SUCCORNTRANSAM-CPLX\n",
      "Adding new edge between bigg:SDPTA and ASPAMINOTRANS-DIMER\n",
      "Adding new edge between bigg:SDPTA and GABATRANSAM-CPLX\n",
      "Adding new edge between bigg:SDPTA and HISTPHOSTRANS-CPLX\n",
      "Adding new edge between bigg:SDPTA and BRANCHED-CHAINAMINOTRANSFER-CPLX\n",
      "Adding new edge between bigg:SDPTA and CPLX0-8159\n",
      "Parsing components of CPLX0-8159 from biocyc as this node was not found in the graph\n",
      "Adding new edge between bigg:SDPTA and G6646-MONOMER\n",
      "Parsing components of G6646-MONOMER from biocyc as this node was not found in the graph\n",
      "Adding new edge between bigg:SDPTA and TYRB-DIMER\n",
      "Adding new edge between bigg:ALATA_L and ACETYLORNTRANSAM-CPLX\n",
      "Adding new edge between bigg:ALATA_L and ASPAMINOTRANS-DIMER\n",
      "Adding new edge between bigg:ALATA_L and SUCCORNTRANSAM-CPLX\n",
      "Adding new edge between bigg:ALATA_L and GABATRANSAM-CPLX\n",
      "Adding new edge between bigg:ALATA_L and CPLX0-8159\n",
      "Adding new edge between bigg:ALATA_L and G6646-MONOMER\n",
      "Adding new edge between bigg:ALATA_L and PSERTRANSAM-CPLX\n",
      "Adding new edge between bigg:ALATA_L and TYRB-DIMER\n",
      "Adding new edge between bigg:ACOTA and G6646-MONOMER\n",
      "Overwriting edge between bigg:ACOTA and SUCCORNTRANSAM-CPLX\n",
      "Adding new edge between ATPSYN-CPLX and EG10106-MONOMER\n",
      "Parsing components of EG10106-MONOMER from biocyc as this node was not found in the graph\n",
      "Adding new edge between bigg:GLCtex_copy1 and CPLX0-7655\n",
      "Parsing components of CPLX0-7655 from biocyc as this node was not found in the graph\n",
      "Adding new edge between bigg:RIBabcpp and ABC-42-CPLX\n",
      "Parsing components of ABC-42-CPLX from biocyc as this node was not found in the graph\n",
      "Adding new edge between bigg:RIBabcpp and ABC-46-CPLX\n",
      "Parsing components of ABC-46-CPLX from biocyc as this node was not found in the graph\n",
      "Adding new edge between bigg:RIBabcpp and CPLX0-7646\n",
      "Parsing components of CPLX0-7646 from biocyc as this node was not found in the graph\n",
      "Overwriting edge between bigg:GLCptspp and CPLX-154\n",
      "Adding new edge between bigg:GLCptspp and CPLX0-7938\n",
      "Parsing components of CPLX0-7938 from biocyc as this node was not found in the graph\n",
      "Adding new edge between bigg:GLCptspp and PTSH-MONOMER\n",
      "Overwriting edge between bigg:GLCptspp and CPLX-165\n",
      "Adding new edge between bigg:FRUpts2pp and CPLX0-7938\n",
      "Adding new edge between bigg:FRUpts2pp and PTSH-MONOMER\n",
      "Adding new edge between bigg:G3PT and G6425-MONOMER\n",
      "Parsing components of G6425-MONOMER from biocyc as this node was not found in the graph\n",
      "Adding new edge between bigg:G3PT and G7187-MONOMER\n",
      "Parsing components of G7187-MONOMER from biocyc as this node was not found in the graph\n",
      "Adding new edge between bigg:ACCOAC and ACETYL-COA-CARBOXYLMULTI-CPLX\n",
      "Parsing components of ACETYL-COA-CARBOXYLMULTI-CPLX from biocyc as this node was not found in the graph\n",
      "Adding new edge between bigg:3OAS181 and FABB-CPLX\n",
      "Overwriting edge between bigg:FUM and FUMARASE-C\n",
      "Overwriting edge between bigg:FUM and EG11162-MONOMER\n",
      "Overwriting edge between bigg:FUM and G6903-MONOMER\n",
      "Overwriting edge between bigg:FUM and FUMARASE-B\n",
      "Overwriting edge between bigg:ACHBS and ACETOLACTSYNII-CPLX\n",
      "Overwriting edge between bigg:ACLS and ACETOLACTSYNII-CPLX\n",
      "Overwriting edge between bigg:GLUDy and GLUTAMATESYN-CPLX\n",
      "Overwriting edge between bigg:THRD_L and THREDEHYDCAT-CPLX\n",
      "Adding new edge between bigg:THRD_L and LSERINEDEAM1-MONOMER\n",
      "Parsing components of LSERINEDEAM1-MONOMER from biocyc as this node was not found in the graph\n",
      "Adding new edge between bigg:NTP5 and G7841-MONOMER\n",
      "Parsing components of G7841-MONOMER from biocyc as this node was not found in the graph\n",
      "Overwriting edge between bigg:DUTPDP and G7164-MONOMER\n",
      "Overwriting edge between bigg:RPI and RIB5PISOMB-CPLX\n",
      "Overwriting edge between bigg:PGI and CPLX-8401\n",
      "Overwriting edge between bigg:HSDy and ASPKINIIHOMOSERDEHYDROGII-CPLX\n",
      "Overwriting edge between bigg:TKT1 and CPLX0-1261\n",
      "Overwriting edge between bigg:TKT2 and CPLX0-1261\n",
      "Overwriting edge between bigg:PFK and 6PFK-2-CPX\n",
      "Overwriting edge between bigg:IPMD and G6986-MONOMER\n",
      "Overwriting edge between bigg:HISTP and ALKAPHOSPHA-CPLX\n",
      "Overwriting edge between bigg:PSP_L and ALKAPHOSPHA-CPLX\n",
      "Overwriting edge between bigg:PSP_L and APHA-CPLX\n",
      "Adding new edge between bigg:PSP_L and GPH-MONOMER\n",
      "Parsing components of GPH-MONOMER from biocyc as this node was not found in the graph\n",
      "Adding new edge between bigg:PSP_L and PGAM2-MONOMER\n",
      "Parsing components of PGAM2-MONOMER from biocyc as this node was not found in the graph\n",
      "Adding new edge between bigg:PSP_L and IMIDHISTID-CPLX\n",
      "Overwriting edge between bigg:CYSTL and CPLX0-8092\n",
      "Overwriting edge between bigg:DHFR and CPLX0-8571\n",
      "Overwriting edge between bigg:CYTBDpp and APP-UBIOX-CPLX\n",
      "Overwriting edge between bigg:CYTBD2pp and APP-UBIOX-CPLX\n",
      "Overwriting edge between bigg:CYSS and ACSERLYB-CPLX\n",
      "Overwriting edge between ASPCARBTRANS-CPLX and ASPCARBREG-DIMER\n",
      "Adding new edge between bigg:METS and HOMOCYSMET-MONOMER\n",
      "Parsing components of HOMOCYSMET-MONOMER from biocyc as this node was not found in the graph\n"
     ]
    }
   ],
   "source": [
    "if not USE_CACHE:\n",
    "    for i,row in edges_manual_curation.iterrows():\n",
    "        parent_node={'id':row['parent_node'],\n",
    "                    'type':row['parent_node_type'],\n",
    "                    'subtype':row['parent_node_subtype'],\n",
    "                    'biocyc_id':f\"ECOLI:{row['parent_node_biocyc_id']}\"}\n",
    "        \n",
    "        child_node={'id':row['child_node'],\n",
    "                    'type':row['child_node_type'],\n",
    "                    'subtype':row['child_node_subtype'],\n",
    "                    'biocyc_id':f\"ECOLI:{row['child_node_biocyc_id']}\"}\n",
    "        weight=row['edge_weight'] if row['edge_weight']=='NA' else float(row['edge_weight'])\n",
    "        type=row['edge_type']\n",
    "        notes=row['edge_notes']\n",
    "        references=row['edge_ref']\n",
    "        metadata={'subtype':row['edge_subtype'],\n",
    "                'notes':notes,\n",
    "                'references':references}\n",
    "        graph_dict_curated=graph_utils.add_edge(\n",
    "                            graph_dict=graph_dict_curated,\n",
    "                            parent_node=parent_node,\n",
    "                            child_node=child_node,\n",
    "                            weight=weight,\n",
    "                            type=type,\n",
    "                            metadata=metadata,\n",
    "                            session=biocyc_session,\n",
    "                            parse_from_biocyc=True,\n",
    "                            overwrite=True                         \n",
    "                            )"
   ]
  },
  {
   "cell_type": "code",
   "execution_count": 18,
   "metadata": {},
   "outputs": [],
   "source": [
    "with open('tmp/graph_dict_w_manual_curation.pkl','wb') as f:\n",
    "    pickle.dump(graph_dict_curated,f)"
   ]
  },
  {
   "cell_type": "markdown",
   "metadata": {},
   "source": [
    "## Checkpoint 2"
   ]
  },
  {
   "cell_type": "code",
   "execution_count": 19,
   "metadata": {},
   "outputs": [],
   "source": [
    "with open('tmp/graph_dict_w_manual_curation.pkl','rb') as f:\n",
    "    graph_dict_curated=pickle.load(f)"
   ]
  },
  {
   "cell_type": "markdown",
   "metadata": {},
   "source": [
    "## Connect polypeptides to their coding gene, and add any other relevant annotations to polypeptide nodes"
   ]
  },
  {
   "cell_type": "code",
   "execution_count": 21,
   "metadata": {},
   "outputs": [
    {
     "name": "stderr",
     "output_type": "stream",
     "text": [
      "100%|██████████| 627/627 [00:00<00:00, 200842.26it/s]\n"
     ]
    },
    {
     "name": "stdout",
     "output_type": "stream",
     "text": [
      "Warning: Unable map ACP to a gene. Likely, this is because the polypeptide was parsed as a regulator, and lacks gene annotation on EcoCyc\n"
     ]
    }
   ],
   "source": [
    "if USE_CACHE:\n",
    "    with open(\"cache/pp_data_cache.pkl\",'rb') as file:\n",
    "        pp_data_cache=pickle.load(file)\n",
    "else:\n",
    "    pp_data_cache={}\n",
    "\n",
    "\n",
    "processed_pp_nodes=[]\n",
    "added_gene_nodes=[]\n",
    "pp_nodes=[node for node in graph_dict_curated['nodes'] if (node['type']=='protein' and node['subtype']=='polypeptide')]\n",
    "\n",
    "for node in tqdm(pp_nodes):\n",
    "    pp_id=node['id']\n",
    "    if pp_id not in processed_pp_nodes:\n",
    "        if pp_id in pp_data_cache.keys():\n",
    "            pp_data=pp_data_cache[pp_id]\n",
    "        else:\n",
    "            if node['biocyc_id'] in biocyc_objects.keys():\n",
    "                node_biocyc_object=biocyc_objects[node['biocyc_id']]\n",
    "            else:\n",
    "                print(f\"Polypeptide {node['biocyc_id']} not found in cache. Attempting to query Biocyc for it. \")\n",
    "                node_biocyc_object=biocyc_query_utils.get_biocyc_object(session=biocyc_session,object_id=pp_id)\n",
    "                graph_dict_curated['objects'][node['biocyc_id']]=node_biocyc_object\n",
    "            if node_biocyc_object is None:\n",
    "                print(f\"Unable to retrieve biocyc object for {pp_id}\")\n",
    "                continue\n",
    "\n",
    "            pp_data=graph_utils.pp_gene_and_annotation(session=biocyc_session,\n",
    "                                                        biocyc_pp=node_biocyc_object\n",
    "                                                        )\n",
    "            pp_data_cache[pp_id]=pp_data\n",
    "            \n",
    "        #First add available  annotation to the polypeptides\n",
    "        # \"-\" is not supported by the GML graph format. We replace them with underscores\n",
    "        for key in list(pp_data['polypeptide_annotation'].keys()):\n",
    "            if '-' in key:\n",
    "                pp_data['polypeptide_annotation'][key.replace('-','_')]=pp_data['polypeptide_annotation'].pop(key)\n",
    "        node['annotation']=pp_data['polypeptide_annotation']\n",
    "        #Create a new node for the gene associated to this pp. By deafult, we use bnums as node IDs\n",
    "        gene_data=pp_data['gene']\n",
    "        if gene_data is not None:\n",
    "            gene_node_id=gene_data['bnum'] if 'bnum' in gene_data.keys() else gene_data['id']\n",
    "            if gene_node_id not in added_gene_nodes:\n",
    "                graph_dict_curated['nodes'].append({\"id\":gene_node_id,\n",
    "                                                \"type\":\"gene\",\n",
    "                                                \"subtype\":\"NA\",\n",
    "                                                \"annotation\":{k:v for k,v in gene_data.items() if k!='id'},\n",
    "                                                \"biocyc_id\":f\"ECOLI:{gene_data['id']}\",\n",
    "                                                })\n",
    "                \n",
    "                graph_dict_curated['edges'].append( {'source':pp_id,\n",
    "                                                    'target': gene_node_id,\n",
    "                                                    'weight': 'NA',\n",
    "                                                    'type': 'coding_relation',\n",
    "                                                    'subtype': 'NA',\n",
    "                                                    'notes': '',\n",
    "                                                    'references': ''})\n",
    "                added_gene_nodes.append(gene_node_id)\n",
    "        else:\n",
    "            print(f\"Warning: Unable map {pp_id} to a gene. Likely, this is because the polypeptide was parsed as a regulator, and lacks gene annotation on EcoCyc\")\n",
    "        processed_pp_nodes.append(pp_id)\n",
    "with open(\"cache/pp_data_cache.pkl\",'wb') as file:\n",
    "    pickle.dump(pp_data_cache,file)\n",
    "        \n",
    "with open('tmp/graph_dict_curated_w_genes.pkl','wb') as f:\n",
    "    pickle.dump(graph_dict_curated,f)"
   ]
  },
  {
   "cell_type": "code",
   "execution_count": 22,
   "metadata": {},
   "outputs": [],
   "source": [
    "with open('tmp/graph_dict_curated_w_genes.pkl','rb') as f:\n",
    "    graph_dict_curated=pickle.load(f)"
   ]
  },
  {
   "cell_type": "code",
   "execution_count": 23,
   "metadata": {},
   "outputs": [],
   "source": [
    "if biocyc_objects is not None:\n",
    "    for object_id,xml_object in graph_dict_curated['objects'].items():\n",
    "        if object_id not in biocyc_objects.keys():\n",
    "            print(f\"Adding {object_id} to the cache of biocyc XML objects for future use\")\n",
    "            biocyc_objects[object_id]=xml_object\n",
    "    with open('cache/biocyc_objects_cache.pkl','wb') as file:\n",
    "        pickle.dump(biocyc_objects,file)\n",
    "        \n",
    "        "
   ]
  },
  {
   "cell_type": "markdown",
   "metadata": {},
   "source": [
    "## Build Graph in NetworkX"
   ]
  },
  {
   "cell_type": "markdown",
   "metadata": {},
   "source": [
    "First, create pandas dataframes for nodes and edges"
   ]
  },
  {
   "cell_type": "code",
   "execution_count": 24,
   "metadata": {},
   "outputs": [],
   "source": [
    "#Make sure all nodes and edges have a subtype field, and use NA if the field is not applicable\n",
    "for node in graph_dict_curated['nodes']:\n",
    "    if \"subtype\" not in node.keys():\n",
    "        node['subtype']='NA'\n",
    "for edge in graph_dict_curated['edges']:\n",
    "    if \"subtype\" not in edge.keys():\n",
    "        edge['subtype']='NA'"
   ]
  },
  {
   "cell_type": "code",
   "execution_count": 25,
   "metadata": {},
   "outputs": [],
   "source": [
    "nodes_df=pd.DataFrame([pd.Series(node) for node in graph_dict_curated['nodes']]).drop_duplicates(subset=['id'])\n",
    "edges_df=pd.DataFrame([pd.Series(edge) for edge in graph_dict_curated['edges']]).drop_duplicates(subset=['source','target'])\n",
    "nodes_df.to_csv('tmp/graph_nodes_curated_df.csv')\n",
    "edges_df.to_csv('tmp/graph_edges_curated_df.csv')\n"
   ]
  },
  {
   "cell_type": "markdown",
   "metadata": {},
   "source": [
    "Then, use these DataFrames to parse the graph in NetworkX"
   ]
  },
  {
   "cell_type": "code",
   "execution_count": 26,
   "metadata": {},
   "outputs": [
    {
     "name": "stdout",
     "output_type": "stream",
     "text": [
      "parsed graph in networkX. Graph has 1665 nodes and 2002 edges\n"
     ]
    }
   ],
   "source": [
    "graph=nx.DiGraph()\n",
    "nodes_list=[(node['id'],node) for node in graph_dict_curated['nodes']]\n",
    "edges_list=[(edge['source'],edge['target'],{k:v for k,v in edge.items() if k not in ['source','target']}) for edge in graph_dict_curated['edges']]\n",
    "graph.add_nodes_from(nodes_list)\n",
    "graph.add_edges_from(edges_list)\n",
    "print(f'parsed graph in networkX. Graph has {len(graph.nodes)} nodes and {len(graph.edges)} edges')"
   ]
  },
  {
   "cell_type": "markdown",
   "metadata": {},
   "source": [
    "Some final manual curation "
   ]
  },
  {
   "cell_type": "code",
   "execution_count": 27,
   "metadata": {},
   "outputs": [],
   "source": [
    "to_remove=[]\n",
    "# AlaB : This is a putative glutamate—pyruvate aminotransferase but lacks proper annotation on Ecocyc. We disregard it as an isozyme for ALANINE-AMINOTRANSFERASE-RXN\n",
    "to_remove+=['MONOMER0-1241','G0-9281']\n",
    "\n",
    "for node in to_remove:\n",
    "    if node in graph.nodes:\n",
    "        graph.remove_node(node)\n",
    "\n",
    "\n",
    "\n",
    "#Change the ACP node (from parsing regulators) into the ACP-MONOMER\n",
    "ACP_edges=graph.edges('ACP')\n",
    "for edge in list(ACP_edges):\n",
    "    if edge[0]=='ACP':\n",
    "        graph.add_edge('ACP-MONOMER',edge[1],**graph.edges[edge])\n",
    "        graph.remove_edge(edge[0],edge[1])\n",
    "    elif edge[1]=='ACP':\n",
    "        graph.add_edge(edge[0],'ACP-MONOMER',**graph.edges[edge])\n",
    "        graph.remove_edge(edge[0],edge[1])\n",
    "graph.remove_node('ACP')"
   ]
  },
  {
   "cell_type": "markdown",
   "metadata": {},
   "source": [
    "save to file"
   ]
  },
  {
   "cell_type": "code",
   "execution_count": 28,
   "metadata": {},
   "outputs": [],
   "source": [
    "with open('tmp/graph_final.pkl','wb') as f:\n",
    "    pickle.dump(graph,f)"
   ]
  },
  {
   "cell_type": "markdown",
   "metadata": {},
   "source": [
    "## Checkpoint 3"
   ]
  },
  {
   "cell_type": "code",
   "execution_count": 29,
   "metadata": {},
   "outputs": [],
   "source": [
    "#Reload serialised graph from file\n",
    "with open('tmp/graph_final.pkl','rb') as f:\n",
    "    graph=pickle.load(f)\n",
    "    "
   ]
  },
  {
   "cell_type": "markdown",
   "metadata": {},
   "source": [
    "# Computation of Graph Attributes\n",
    "Here, we annotate the knowledge graph with Molecular weight for each protein node, and compute the GPR of each reaction, which we then add to the stocihiometric model"
   ]
  },
  {
   "cell_type": "markdown",
   "metadata": {},
   "source": [
    "## Add Molecular Weight data to the graph"
   ]
  },
  {
   "cell_type": "code",
   "execution_count": 30,
   "metadata": {},
   "outputs": [],
   "source": [
    "# First, retrieve all polypetide MWs from Ecocyc. Once this has run, you can used cached data for fast execution.\n",
    "pp_mw_cache_file='cache/pp_mw_map.pkl'\n",
    "pps=[node for node in graph.nodes() if graph.nodes[node]['subtype']=='polypeptide']\n",
    "if USE_CACHE:\n",
    "    with open(pp_mw_cache_file,'rb') as file:\n",
    "        pp_mw_map=pickle.load(file)\n",
    "else:\n",
    "    pp_mw_map={pp:biocyc_query_utils.pp_mw(biocyc_session,pp_id=pp) for pp in tqdm(pps)}\n",
    "    with open('cache/pp_mw_map.pkl','wb') as file:\n",
    "        pickle.dump(pp_mw_map,file)"
   ]
  },
  {
   "cell_type": "code",
   "execution_count": 31,
   "metadata": {},
   "outputs": [],
   "source": [
    "#Next, compute the MW for each protein node in the graph\n",
    "graph=graph_utils.compute_graph_mw(graph,pp_mw_map)\n",
    "with open('tmp/graph_with_molecular_weights.pkl','wb') as file:\n",
    "    pickle.dump(graph,file)"
   ]
  },
  {
   "cell_type": "markdown",
   "metadata": {},
   "source": [
    "## Checkpoint 4"
   ]
  },
  {
   "cell_type": "code",
   "execution_count": 32,
   "metadata": {},
   "outputs": [],
   "source": [
    "with open('tmp/graph_with_molecular_weights.pkl','rb') as file:\n",
    "    graph=pickle.load(file)"
   ]
  },
  {
   "cell_type": "code",
   "execution_count": 33,
   "metadata": {},
   "outputs": [
    {
     "data": {
      "text/plain": [
       "360"
      ]
     },
     "execution_count": 33,
     "metadata": {},
     "output_type": "execute_result"
    }
   ],
   "source": [
    "pp_nodes=[node for node in graph.nodes() if graph.nodes[node]['subtype']=='polypeptide']\n",
    "graph_genes=[]\n",
    "for node in pp_nodes:\n",
    "    gene_children_nodes=[child for child in graph.successors(node) if graph.nodes[child]['type']=='gene']\n",
    "    graph_genes+=gene_children_nodes\n",
    "len(set(graph_genes))"
   ]
  },
  {
   "cell_type": "markdown",
   "metadata": {},
   "source": [
    "## Compute GPR based on the graph and add to the metabolic model"
   ]
  },
  {
   "cell_type": "code",
   "execution_count": 34,
   "metadata": {},
   "outputs": [],
   "source": [
    "all_genes=[]\n",
    "graph_gprs={}\n",
    "for r in model.reactions:\n",
    "    node_id=f'bigg:{r.id}'\n",
    "    if node_id in graph.nodes:\n",
    "        cur_gpr=graph_utils.compute_node_gpr(graph,node_id)\n",
    "        graph_gprs[r.id]=cur_gpr\n",
    "        all_genes+=graph_utils.genes_in_gpr(cur_gpr)\n",
    "all_genes=set(all_genes)"
   ]
  },
  {
   "cell_type": "code",
   "execution_count": 35,
   "metadata": {},
   "outputs": [
    {
     "name": "stdout",
     "output_type": "stream",
     "text": [
      "EAR161y \n",
      "EAR141y \n",
      "EAR181y \n",
      "EAR121y \n",
      "Biomass \n"
     ]
    }
   ],
   "source": [
    "for r in model.reactions:\n",
    "    if r.id in graph_gprs.keys():\n",
    "        cur_gpr=graph_gprs[r.id]\n",
    "        genes_in_gpr=graph_utils.genes_in_gpr(cur_gpr)\n",
    "        if np.any([g not in model.genes for g in genes_in_gpr]):\n",
    "            print(r.id,cur_gpr)\n",
    "        r.gene_reaction_rule=graph_gprs[r.id]\n"
   ]
  },
  {
   "cell_type": "code",
   "execution_count": 36,
   "metadata": {},
   "outputs": [],
   "source": [
    "#remove genes that are not associated to any gprs\n",
    "genes_to_remove=[g.id for g in model.genes if g.id not in all_genes]\n",
    "cobra.manipulation.remove_genes(model,genes_to_remove)"
   ]
  },
  {
   "cell_type": "code",
   "execution_count": 37,
   "metadata": {},
   "outputs": [],
   "source": [
    "#save to file\n",
    "cobra.io.write_sbml_model(model,'../../Model/iCH360/Escherichia_coli_iCH360.xml')\n",
    "\n",
    "#Make sure you can open the model with the new gpr\n",
    "model=cobra.io.read_sbml_model('../../Model/iCH360/Escherichia_coli_iCH360.xml')\n",
    "\n",
    "#Final output\n",
    "cobra.io.write_sbml_model(model,'../../Model/iCH360/Escherichia_coli_iCH360.xml')\n",
    "cobra.io.save_json_model(model,'../../Model/iCH360/Escherichia_coli_iCH360.json')"
   ]
  },
  {
   "cell_type": "markdown",
   "metadata": {},
   "source": [
    "### Create a model only including primary catalysis GPRs\n"
   ]
  },
  {
   "cell_type": "code",
   "execution_count": 38,
   "metadata": {},
   "outputs": [
    {
     "name": "stdout",
     "output_type": "stream",
     "text": [
      "Read LP format model from file C:\\Users\\marco\\AppData\\Local\\Temp\\tmp03tvc_ok.lp\n",
      "Reading time = 0.01 seconds\n",
      ": 304 rows, 698 columns, 2988 nonzeros\n"
     ]
    }
   ],
   "source": [
    "model_primary_catalysis_gprs=model.copy()\n",
    "graph_gprs_primary_catalysis={}\n",
    "all_genes_primary_catalysis=[]\n",
    "for r in model_primary_catalysis_gprs.reactions:\n",
    "    node_id=f'bigg:{r.id}'\n",
    "    if node_id in graph.nodes:\n",
    "        cur_gpr=graph_utils.compute_node_gpr(graph,\n",
    "                                             node_id,\n",
    "                                             catalysis_subtypes_to_include=['primary'],\n",
    "                                             include_spontaneous=True,\n",
    "                                             spontaneous_gpr='s0001'\n",
    "                                             )\n",
    "        graph_gprs_primary_catalysis[r.id]=cur_gpr\n",
    "        all_genes_primary_catalysis+=graph_utils.genes_in_gpr(cur_gpr)\n",
    "all_genes_primary_catalysis=set(all_genes_primary_catalysis)       \n",
    "for r in model_primary_catalysis_gprs.reactions:\n",
    "    if r.id in graph_gprs_primary_catalysis.keys():\n",
    "        r.gene_reaction_rule=graph_gprs_primary_catalysis[r.id]\n",
    "#remove orphan genes\n",
    "genes_to_remove=[g.id for g in model_primary_catalysis_gprs.genes if g.id not in all_genes_primary_catalysis]\n",
    "cobra.manipulation.remove_genes(model_primary_catalysis_gprs,genes_to_remove)\n",
    "cobra.io.write_sbml_model(model_primary_catalysis_gprs,'../../Model/iCH360/Escherichia_coli_iCH360_primary_catalysis_only.xml')\n",
    "\n",
    "model_primary_catalysis_gprs=cobra.io.read_sbml_model('../../Model/iCH360/Escherichia_coli_iCH360_primary_catalysis_only.xml')\n",
    "cobra.io.write_sbml_model(model_primary_catalysis_gprs,'../../Model/iCH360/Escherichia_coli_iCH360_primary_catalysis_only.xml')\n",
    "cobra.io.save_json_model(model_primary_catalysis_gprs,'../../Model/iCH360/Escherichia_coli_iCH360_primary_catalysis_only.json')\n"
   ]
  },
  {
   "cell_type": "markdown",
   "metadata": {},
   "source": [
    "## Save Final Graph in GML format (preferred for graph I/O) and Cytoscape format (JSON)"
   ]
  },
  {
   "cell_type": "code",
   "execution_count": 39,
   "metadata": {},
   "outputs": [],
   "source": [
    "#remove None values as these are not supported by the GML format\n",
    "for node in graph.nodes:\n",
    "    attr_to_replace=[]\n",
    "    for attr, value in graph.nodes[node].items():\n",
    "        if value is None:\n",
    "            graph.nodes[node][attr]='NA'\n",
    "\n",
    "#GML\n",
    "nx.write_gml(graph,\"../ich360_graph.gml\")\n",
    "#Cytoscape\n",
    "cytoscape_data=nx.cytoscape_data(graph)\n",
    "with open(\"../ich360_graph.cyjs\",'w') as file:\n",
    "    json.dump(cytoscape_data,file)\n"
   ]
  },
  {
   "cell_type": "markdown",
   "metadata": {},
   "source": [
    "Ensure we can read the graph back without issues"
   ]
  },
  {
   "cell_type": "code",
   "execution_count": 40,
   "metadata": {},
   "outputs": [],
   "source": [
    "try:\n",
    "    graph_reloaded_from_gml=nx.read_gml(\"../ich360_graph.gml\")\n",
    "except:\n",
    "    print(\"Unable to read saved GML-format graph!\")\n",
    "\n",
    "try:\n",
    "    with open(\"../ich360_graph.cyjs\",'r') as file:\n",
    "        graph_data=json.load(file)\n",
    "\n",
    "        graph_reloaded_from_json=nx.cytoscape_graph(graph_data)\n",
    "except:\n",
    "    print(\"Unable to read saved GML-format graph!\")"
   ]
  }
 ],
 "metadata": {
  "kernelspec": {
   "display_name": "kinetic_data",
   "language": "python",
   "name": "python3"
  },
  "language_info": {
   "codemirror_mode": {
    "name": "ipython",
    "version": 3
   },
   "file_extension": ".py",
   "mimetype": "text/x-python",
   "name": "python",
   "nbconvert_exporter": "python",
   "pygments_lexer": "ipython3",
   "version": "3.10.9"
  }
 },
 "nbformat": 4,
 "nbformat_minor": 2
}
